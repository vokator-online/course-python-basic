{
 "cells": [
  {
   "cell_type": "markdown",
   "metadata": {},
   "source": [
    "## Užduotys"
   ]
  },
  {
   "cell_type": "markdown",
   "metadata": {},
   "source": [
    "### Pirma užduotis\n",
    "\n",
    "Atidarykite tekstiniame faile esančią eilutę ir atspausdinkite ją, pakeičiant visus didžiąsias raides mažosiomis ir atvirkščiai. Failo pavadinimas: \"pakeitimai.txt\".💡 Galite naudoti `swapcase()` funkciją."
   ]
  },
  {
   "cell_type": "code",
   "execution_count": 8,
   "metadata": {},
   "outputs": [
    {
     "name": "stdout",
     "output_type": "stream",
     "text": [
      "UŽLIPUS ANT MEDŽIO REIKIA KOMANDAS PADAVINĖTI.\n",
      "\n"
     ]
    }
   ],
   "source": [
    "with open(\"pakeitimai.txt\", \"r\", encoding=\"utf-8\") as failas:\n",
    "    eilute = failas.readline()\n",
    "    nauja_eilute = eilute.swapcase()\n",
    "    print(nauja_eilute)"
   ]
  },
  {
   "cell_type": "markdown",
   "metadata": {},
   "source": [
    "### Antra užduotis\n",
    "\n",
    "Sukurkite naują failą \"skaiciai.txt\" ir įrašykite į jį skaičius nuo 1 iki 100, kiekvieną naujoje eilutėje."
   ]
  },
  {
   "cell_type": "code",
   "execution_count": 10,
   "metadata": {},
   "outputs": [],
   "source": [
    "with open(\"skaiciai.txt\", \"w\") as failas:\n",
    "    for skaicius in range(1, 101):\n",
    "        failas.write(f\"{skaicius}\\n\")"
   ]
  }
 ],
 "metadata": {
  "kernelspec": {
   "display_name": "Python 3",
   "language": "python",
   "name": "python3"
  },
  "language_info": {
   "codemirror_mode": {
    "name": "ipython",
    "version": 3
   },
   "file_extension": ".py",
   "mimetype": "text/x-python",
   "name": "python",
   "nbconvert_exporter": "python",
   "pygments_lexer": "ipython3",
   "version": "3.12.1"
  }
 },
 "nbformat": 4,
 "nbformat_minor": 2
}
