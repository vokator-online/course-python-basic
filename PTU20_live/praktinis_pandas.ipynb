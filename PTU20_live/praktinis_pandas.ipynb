{
 "cells": [
  {
   "cell_type": "code",
   "execution_count": 67,
   "metadata": {},
   "outputs": [],
   "source": [
    "import pandas as pd\n",
    "import numpy as np"
   ]
  },
  {
   "cell_type": "code",
   "execution_count": 68,
   "metadata": {},
   "outputs": [
    {
     "name": "stdout",
     "output_type": "stream",
     "text": [
      "('vardas', 'pavardė', 'amžius') ('Geras', 'Zmogelis', 33)\n"
     ]
    }
   ],
   "source": [
    "labels = ('vardas', 'pavardė', 'amžius')\n",
    "zmogus = ('Geras', 'Zmogelis', 33)\n",
    "print(labels, zmogus)"
   ]
  },
  {
   "cell_type": "code",
   "execution_count": 69,
   "metadata": {},
   "outputs": [
    {
     "data": {
      "text/plain": [
       "0       Geras\n",
       "1    Zmogelis\n",
       "2          33\n",
       "dtype: object"
      ]
     },
     "execution_count": 69,
     "metadata": {},
     "output_type": "execute_result"
    }
   ],
   "source": [
    "pd.Series(data=zmogus)"
   ]
  },
  {
   "cell_type": "code",
   "execution_count": 70,
   "metadata": {},
   "outputs": [
    {
     "data": {
      "text/plain": [
       "vardas        Geras\n",
       "pavardė    Zmogelis\n",
       "amžius           33\n",
       "dtype: object"
      ]
     },
     "execution_count": 70,
     "metadata": {},
     "output_type": "execute_result"
    }
   ],
   "source": [
    "pd.Series(data=zmogus, index=labels)"
   ]
  },
  {
   "cell_type": "code",
   "execution_count": 71,
   "metadata": {},
   "outputs": [
    {
     "data": {
      "text/plain": [
       "{'vardas': 'Smagus', 'pavarde': 'Giedriukas', 'amzius': 36}"
      ]
     },
     "execution_count": 71,
     "metadata": {},
     "output_type": "execute_result"
    }
   ],
   "source": [
    "zmogus_dict = {\n",
    "    'vardas': 'Smagus',\n",
    "    'pavarde': 'Giedriukas',\n",
    "    'amzius': 36\n",
    "}\n",
    "zmogus_dict"
   ]
  },
  {
   "cell_type": "code",
   "execution_count": 72,
   "metadata": {},
   "outputs": [
    {
     "data": {
      "text/plain": [
       "vardas         Smagus\n",
       "pavarde    Giedriukas\n",
       "amzius             36\n",
       "dtype: object"
      ]
     },
     "execution_count": 72,
     "metadata": {},
     "output_type": "execute_result"
    }
   ],
   "source": [
    "zmogus_pd = pd.Series(zmogus_dict)\n",
    "zmogus_pd"
   ]
  },
  {
   "cell_type": "code",
   "execution_count": 73,
   "metadata": {},
   "outputs": [
    {
     "data": {
      "text/plain": [
       "vardas        Geras\n",
       "pavardė    Zmogelis\n",
       "amžius           33\n",
       "dtype: object"
      ]
     },
     "execution_count": 73,
     "metadata": {},
     "output_type": "execute_result"
    }
   ],
   "source": [
    "pd.Series(zmogus, labels)"
   ]
  },
  {
   "cell_type": "code",
   "execution_count": 74,
   "metadata": {},
   "outputs": [
    {
     "data": {
      "text/plain": [
       "36"
      ]
     },
     "execution_count": 74,
     "metadata": {},
     "output_type": "execute_result"
    }
   ],
   "source": [
    "zmogus_pd['amzius']"
   ]
  },
  {
   "cell_type": "code",
   "execution_count": 75,
   "metadata": {},
   "outputs": [
    {
     "data": {
      "text/plain": [
       "Vilnius     500\n",
       "Kaunas      400\n",
       "Klaipeda    300\n",
       "Siauliai    200\n",
       "dtype: int64"
      ]
     },
     "execution_count": 75,
     "metadata": {},
     "output_type": "execute_result"
    }
   ],
   "source": [
    "miestai = pd.Series((500, 400, 300, 200), ('Vilnius', 'Kaunas', 'Klaipeda', 'Siauliai'))\n",
    "miestai"
   ]
  },
  {
   "cell_type": "code",
   "execution_count": 76,
   "metadata": {},
   "outputs": [
    {
     "data": {
      "text/plain": [
       "Vilnius     1.5\n",
       "Kaunas      1.3\n",
       "Klaipeda    0.9\n",
       "Siauliai    0.7\n",
       "dtype: float64"
      ]
     },
     "execution_count": 76,
     "metadata": {},
     "output_type": "execute_result"
    }
   ],
   "source": [
    "augimas = pd.Series((1.5, 1.3, 0.9, 0.7), ('Vilnius', 'Kaunas', 'Klaipeda', 'Siauliai'))\n",
    "augimas"
   ]
  },
  {
   "cell_type": "code",
   "execution_count": 77,
   "metadata": {},
   "outputs": [
    {
     "data": {
      "text/plain": [
       "Vilnius     750.0\n",
       "Kaunas      520.0\n",
       "Klaipeda    270.0\n",
       "Siauliai    140.0\n",
       "dtype: float64"
      ]
     },
     "execution_count": 77,
     "metadata": {},
     "output_type": "execute_result"
    }
   ],
   "source": [
    "miestai * augimas"
   ]
  },
  {
   "cell_type": "code",
   "execution_count": 78,
   "metadata": {},
   "outputs": [
    {
     "data": {
      "text/plain": [
       "array([[62, 90, 15, 15, 97, 54, 17],\n",
       "       [30, 96, 43, 83, 36, 28, 16],\n",
       "       [20, 23, 82, 65, 69, 26, 60],\n",
       "       [22, 19, 91, 86, 80, 34, 79],\n",
       "       [71, 72, 86, 13, 10, 14, 22],\n",
       "       [90, 17, 25, 81, 70, 44, 77],\n",
       "       [57, 23, 49, 44, 38, 29, 94]])"
      ]
     },
     "execution_count": 78,
     "metadata": {},
     "output_type": "execute_result"
    }
   ],
   "source": [
    "betko7x7 = np.random.randint(10, 100, (7, 7))\n",
    "betko7x7"
   ]
  },
  {
   "cell_type": "code",
   "execution_count": 79,
   "metadata": {},
   "outputs": [
    {
     "data": {
      "text/html": [
       "<div>\n",
       "<style scoped>\n",
       "    .dataframe tbody tr th:only-of-type {\n",
       "        vertical-align: middle;\n",
       "    }\n",
       "\n",
       "    .dataframe tbody tr th {\n",
       "        vertical-align: top;\n",
       "    }\n",
       "\n",
       "    .dataframe thead th {\n",
       "        text-align: right;\n",
       "    }\n",
       "</style>\n",
       "<table border=\"1\" class=\"dataframe\">\n",
       "  <thead>\n",
       "    <tr style=\"text-align: right;\">\n",
       "      <th></th>\n",
       "      <th>Vilnius</th>\n",
       "      <th>Kaunas</th>\n",
       "      <th>Klaipeda</th>\n",
       "      <th>Siauliai</th>\n",
       "      <th>Panevezys</th>\n",
       "      <th>Alytus</th>\n",
       "      <th>Druskininkai</th>\n",
       "    </tr>\n",
       "  </thead>\n",
       "  <tbody>\n",
       "    <tr>\n",
       "      <th>2000</th>\n",
       "      <td>62</td>\n",
       "      <td>90</td>\n",
       "      <td>15</td>\n",
       "      <td>15</td>\n",
       "      <td>97</td>\n",
       "      <td>54</td>\n",
       "      <td>17</td>\n",
       "    </tr>\n",
       "    <tr>\n",
       "      <th>2004</th>\n",
       "      <td>30</td>\n",
       "      <td>96</td>\n",
       "      <td>43</td>\n",
       "      <td>83</td>\n",
       "      <td>36</td>\n",
       "      <td>28</td>\n",
       "      <td>16</td>\n",
       "    </tr>\n",
       "    <tr>\n",
       "      <th>2008</th>\n",
       "      <td>20</td>\n",
       "      <td>23</td>\n",
       "      <td>82</td>\n",
       "      <td>65</td>\n",
       "      <td>69</td>\n",
       "      <td>26</td>\n",
       "      <td>60</td>\n",
       "    </tr>\n",
       "    <tr>\n",
       "      <th>2012</th>\n",
       "      <td>22</td>\n",
       "      <td>19</td>\n",
       "      <td>91</td>\n",
       "      <td>86</td>\n",
       "      <td>80</td>\n",
       "      <td>34</td>\n",
       "      <td>79</td>\n",
       "    </tr>\n",
       "    <tr>\n",
       "      <th>2016</th>\n",
       "      <td>71</td>\n",
       "      <td>72</td>\n",
       "      <td>86</td>\n",
       "      <td>13</td>\n",
       "      <td>10</td>\n",
       "      <td>14</td>\n",
       "      <td>22</td>\n",
       "    </tr>\n",
       "    <tr>\n",
       "      <th>2020</th>\n",
       "      <td>90</td>\n",
       "      <td>17</td>\n",
       "      <td>25</td>\n",
       "      <td>81</td>\n",
       "      <td>70</td>\n",
       "      <td>44</td>\n",
       "      <td>77</td>\n",
       "    </tr>\n",
       "    <tr>\n",
       "      <th>2024</th>\n",
       "      <td>57</td>\n",
       "      <td>23</td>\n",
       "      <td>49</td>\n",
       "      <td>44</td>\n",
       "      <td>38</td>\n",
       "      <td>29</td>\n",
       "      <td>94</td>\n",
       "    </tr>\n",
       "  </tbody>\n",
       "</table>\n",
       "</div>"
      ],
      "text/plain": [
       "      Vilnius  Kaunas  Klaipeda  Siauliai  Panevezys  Alytus  Druskininkai\n",
       "2000       62      90        15        15         97      54            17\n",
       "2004       30      96        43        83         36      28            16\n",
       "2008       20      23        82        65         69      26            60\n",
       "2012       22      19        91        86         80      34            79\n",
       "2016       71      72        86        13         10      14            22\n",
       "2020       90      17        25        81         70      44            77\n",
       "2024       57      23        49        44         38      29            94"
      ]
     },
     "execution_count": 79,
     "metadata": {},
     "output_type": "execute_result"
    }
   ],
   "source": [
    "miestu_skaiciai = pd.DataFrame(\n",
    "    betko7x7,\n",
    "    [2000, 2004, 2008, 2012, 2016, 2020, 2024],\n",
    "    ['Vilnius', 'Kaunas', 'Klaipeda', 'Siauliai', 'Panevezys', 'Alytus', 'Druskininkai']\n",
    ")\n",
    "miestu_skaiciai"
   ]
  },
  {
   "cell_type": "code",
   "execution_count": 80,
   "metadata": {},
   "outputs": [
    {
     "data": {
      "text/plain": [
       "2000    15\n",
       "2004    43\n",
       "2008    82\n",
       "2012    91\n",
       "2016    86\n",
       "2020    25\n",
       "2024    49\n",
       "Name: Klaipeda, dtype: int64"
      ]
     },
     "execution_count": 80,
     "metadata": {},
     "output_type": "execute_result"
    }
   ],
   "source": [
    "miestu_skaiciai['Klaipeda']"
   ]
  },
  {
   "cell_type": "code",
   "execution_count": 81,
   "metadata": {},
   "outputs": [
    {
     "name": "stdout",
     "output_type": "stream",
     "text": [
      "<class 'pandas.core.series.Series'>\n",
      "<class 'pandas.core.frame.DataFrame'>\n"
     ]
    }
   ],
   "source": [
    "print(type(miestu_skaiciai['Klaipeda']))\n",
    "print(type(miestu_skaiciai))"
   ]
  },
  {
   "cell_type": "code",
   "execution_count": 82,
   "metadata": {},
   "outputs": [
    {
     "data": {
      "text/html": [
       "<div>\n",
       "<style scoped>\n",
       "    .dataframe tbody tr th:only-of-type {\n",
       "        vertical-align: middle;\n",
       "    }\n",
       "\n",
       "    .dataframe tbody tr th {\n",
       "        vertical-align: top;\n",
       "    }\n",
       "\n",
       "    .dataframe thead th {\n",
       "        text-align: right;\n",
       "    }\n",
       "</style>\n",
       "<table border=\"1\" class=\"dataframe\">\n",
       "  <thead>\n",
       "    <tr style=\"text-align: right;\">\n",
       "      <th></th>\n",
       "      <th>Vilnius</th>\n",
       "      <th>Alytus</th>\n",
       "      <th>Druskininkai</th>\n",
       "    </tr>\n",
       "  </thead>\n",
       "  <tbody>\n",
       "    <tr>\n",
       "      <th>2000</th>\n",
       "      <td>62</td>\n",
       "      <td>54</td>\n",
       "      <td>17</td>\n",
       "    </tr>\n",
       "    <tr>\n",
       "      <th>2004</th>\n",
       "      <td>30</td>\n",
       "      <td>28</td>\n",
       "      <td>16</td>\n",
       "    </tr>\n",
       "    <tr>\n",
       "      <th>2008</th>\n",
       "      <td>20</td>\n",
       "      <td>26</td>\n",
       "      <td>60</td>\n",
       "    </tr>\n",
       "    <tr>\n",
       "      <th>2012</th>\n",
       "      <td>22</td>\n",
       "      <td>34</td>\n",
       "      <td>79</td>\n",
       "    </tr>\n",
       "    <tr>\n",
       "      <th>2016</th>\n",
       "      <td>71</td>\n",
       "      <td>14</td>\n",
       "      <td>22</td>\n",
       "    </tr>\n",
       "    <tr>\n",
       "      <th>2020</th>\n",
       "      <td>90</td>\n",
       "      <td>44</td>\n",
       "      <td>77</td>\n",
       "    </tr>\n",
       "    <tr>\n",
       "      <th>2024</th>\n",
       "      <td>57</td>\n",
       "      <td>29</td>\n",
       "      <td>94</td>\n",
       "    </tr>\n",
       "  </tbody>\n",
       "</table>\n",
       "</div>"
      ],
      "text/plain": [
       "      Vilnius  Alytus  Druskininkai\n",
       "2000       62      54            17\n",
       "2004       30      28            16\n",
       "2008       20      26            60\n",
       "2012       22      34            79\n",
       "2016       71      14            22\n",
       "2020       90      44            77\n",
       "2024       57      29            94"
      ]
     },
     "execution_count": 82,
     "metadata": {},
     "output_type": "execute_result"
    }
   ],
   "source": [
    "miestu_skaiciai[['Vilnius', 'Alytus', 'Druskininkai']]"
   ]
  },
  {
   "cell_type": "code",
   "execution_count": 83,
   "metadata": {},
   "outputs": [
    {
     "data": {
      "text/plain": [
       "99"
      ]
     },
     "execution_count": 83,
     "metadata": {},
     "output_type": "execute_result"
    }
   ],
   "source": [
    "miestu_skaiciai['Vilnius'][2000] = 99\n",
    "miestu_skaiciai['Vilnius'][2000]"
   ]
  },
  {
   "cell_type": "code",
   "execution_count": 84,
   "metadata": {},
   "outputs": [
    {
     "data": {
      "text/plain": [
       "Vilnius         22\n",
       "Kaunas          19\n",
       "Klaipeda        91\n",
       "Siauliai        86\n",
       "Panevezys       80\n",
       "Alytus          34\n",
       "Druskininkai    79\n",
       "Name: 2012, dtype: int64"
      ]
     },
     "execution_count": 84,
     "metadata": {},
     "output_type": "execute_result"
    }
   ],
   "source": [
    "miestu_skaiciai.loc[2012]"
   ]
  },
  {
   "cell_type": "code",
   "execution_count": 85,
   "metadata": {},
   "outputs": [
    {
     "data": {
      "text/plain": [
       "2000    65\n",
       "2004    20\n",
       "2008    34\n",
       "2012    88\n",
       "2016    22\n",
       "2020    69\n",
       "2024    90\n",
       "dtype: int64"
      ]
     },
     "execution_count": 85,
     "metadata": {},
     "output_type": "execute_result"
    }
   ],
   "source": [
    "kazluruda = pd.Series(np.random.randint(10, 99, 7), np.arange(2000, 2025, 4))\n",
    "kazluruda"
   ]
  },
  {
   "cell_type": "code",
   "execution_count": 86,
   "metadata": {},
   "outputs": [
    {
     "data": {
      "text/html": [
       "<div>\n",
       "<style scoped>\n",
       "    .dataframe tbody tr th:only-of-type {\n",
       "        vertical-align: middle;\n",
       "    }\n",
       "\n",
       "    .dataframe tbody tr th {\n",
       "        vertical-align: top;\n",
       "    }\n",
       "\n",
       "    .dataframe thead th {\n",
       "        text-align: right;\n",
       "    }\n",
       "</style>\n",
       "<table border=\"1\" class=\"dataframe\">\n",
       "  <thead>\n",
       "    <tr style=\"text-align: right;\">\n",
       "      <th></th>\n",
       "      <th>Vilnius</th>\n",
       "      <th>Kaunas</th>\n",
       "      <th>Klaipeda</th>\n",
       "      <th>Siauliai</th>\n",
       "      <th>Panevezys</th>\n",
       "      <th>Alytus</th>\n",
       "      <th>Druskininkai</th>\n",
       "      <th>Kazlu Ruda</th>\n",
       "    </tr>\n",
       "  </thead>\n",
       "  <tbody>\n",
       "    <tr>\n",
       "      <th>2000</th>\n",
       "      <td>99</td>\n",
       "      <td>90</td>\n",
       "      <td>15</td>\n",
       "      <td>15</td>\n",
       "      <td>97</td>\n",
       "      <td>54</td>\n",
       "      <td>17</td>\n",
       "      <td>65</td>\n",
       "    </tr>\n",
       "    <tr>\n",
       "      <th>2004</th>\n",
       "      <td>30</td>\n",
       "      <td>96</td>\n",
       "      <td>43</td>\n",
       "      <td>83</td>\n",
       "      <td>36</td>\n",
       "      <td>28</td>\n",
       "      <td>16</td>\n",
       "      <td>20</td>\n",
       "    </tr>\n",
       "    <tr>\n",
       "      <th>2008</th>\n",
       "      <td>20</td>\n",
       "      <td>23</td>\n",
       "      <td>82</td>\n",
       "      <td>65</td>\n",
       "      <td>69</td>\n",
       "      <td>26</td>\n",
       "      <td>60</td>\n",
       "      <td>34</td>\n",
       "    </tr>\n",
       "    <tr>\n",
       "      <th>2012</th>\n",
       "      <td>22</td>\n",
       "      <td>19</td>\n",
       "      <td>91</td>\n",
       "      <td>86</td>\n",
       "      <td>80</td>\n",
       "      <td>34</td>\n",
       "      <td>79</td>\n",
       "      <td>88</td>\n",
       "    </tr>\n",
       "    <tr>\n",
       "      <th>2016</th>\n",
       "      <td>71</td>\n",
       "      <td>72</td>\n",
       "      <td>86</td>\n",
       "      <td>13</td>\n",
       "      <td>10</td>\n",
       "      <td>14</td>\n",
       "      <td>22</td>\n",
       "      <td>22</td>\n",
       "    </tr>\n",
       "    <tr>\n",
       "      <th>2020</th>\n",
       "      <td>90</td>\n",
       "      <td>17</td>\n",
       "      <td>25</td>\n",
       "      <td>81</td>\n",
       "      <td>70</td>\n",
       "      <td>44</td>\n",
       "      <td>77</td>\n",
       "      <td>69</td>\n",
       "    </tr>\n",
       "    <tr>\n",
       "      <th>2024</th>\n",
       "      <td>57</td>\n",
       "      <td>23</td>\n",
       "      <td>49</td>\n",
       "      <td>44</td>\n",
       "      <td>38</td>\n",
       "      <td>29</td>\n",
       "      <td>94</td>\n",
       "      <td>90</td>\n",
       "    </tr>\n",
       "  </tbody>\n",
       "</table>\n",
       "</div>"
      ],
      "text/plain": [
       "      Vilnius  Kaunas  Klaipeda  Siauliai  Panevezys  Alytus  Druskininkai   \n",
       "2000       99      90        15        15         97      54            17  \\\n",
       "2004       30      96        43        83         36      28            16   \n",
       "2008       20      23        82        65         69      26            60   \n",
       "2012       22      19        91        86         80      34            79   \n",
       "2016       71      72        86        13         10      14            22   \n",
       "2020       90      17        25        81         70      44            77   \n",
       "2024       57      23        49        44         38      29            94   \n",
       "\n",
       "      Kazlu Ruda  \n",
       "2000          65  \n",
       "2004          20  \n",
       "2008          34  \n",
       "2012          88  \n",
       "2016          22  \n",
       "2020          69  \n",
       "2024          90  "
      ]
     },
     "execution_count": 86,
     "metadata": {},
     "output_type": "execute_result"
    }
   ],
   "source": [
    "miestu_skaiciai['Kazlu Ruda'] = kazluruda\n",
    "miestu_skaiciai"
   ]
  },
  {
   "cell_type": "code",
   "execution_count": 87,
   "metadata": {},
   "outputs": [],
   "source": [
    "miestu_skaiciai.drop('Siauliai', axis=1, inplace=True)"
   ]
  },
  {
   "cell_type": "code",
   "execution_count": 88,
   "metadata": {},
   "outputs": [
    {
     "data": {
      "text/html": [
       "<div>\n",
       "<style scoped>\n",
       "    .dataframe tbody tr th:only-of-type {\n",
       "        vertical-align: middle;\n",
       "    }\n",
       "\n",
       "    .dataframe tbody tr th {\n",
       "        vertical-align: top;\n",
       "    }\n",
       "\n",
       "    .dataframe thead th {\n",
       "        text-align: right;\n",
       "    }\n",
       "</style>\n",
       "<table border=\"1\" class=\"dataframe\">\n",
       "  <thead>\n",
       "    <tr style=\"text-align: right;\">\n",
       "      <th></th>\n",
       "      <th>Vilnius</th>\n",
       "      <th>Kaunas</th>\n",
       "      <th>Klaipeda</th>\n",
       "      <th>Panevezys</th>\n",
       "      <th>Alytus</th>\n",
       "      <th>Druskininkai</th>\n",
       "      <th>Kazlu Ruda</th>\n",
       "    </tr>\n",
       "  </thead>\n",
       "  <tbody>\n",
       "    <tr>\n",
       "      <th>2000</th>\n",
       "      <td>99</td>\n",
       "      <td>90</td>\n",
       "      <td>15</td>\n",
       "      <td>97</td>\n",
       "      <td>54</td>\n",
       "      <td>17</td>\n",
       "      <td>65</td>\n",
       "    </tr>\n",
       "    <tr>\n",
       "      <th>2004</th>\n",
       "      <td>30</td>\n",
       "      <td>96</td>\n",
       "      <td>43</td>\n",
       "      <td>36</td>\n",
       "      <td>28</td>\n",
       "      <td>16</td>\n",
       "      <td>20</td>\n",
       "    </tr>\n",
       "    <tr>\n",
       "      <th>2008</th>\n",
       "      <td>20</td>\n",
       "      <td>23</td>\n",
       "      <td>82</td>\n",
       "      <td>69</td>\n",
       "      <td>26</td>\n",
       "      <td>60</td>\n",
       "      <td>34</td>\n",
       "    </tr>\n",
       "    <tr>\n",
       "      <th>2012</th>\n",
       "      <td>22</td>\n",
       "      <td>19</td>\n",
       "      <td>91</td>\n",
       "      <td>80</td>\n",
       "      <td>34</td>\n",
       "      <td>79</td>\n",
       "      <td>88</td>\n",
       "    </tr>\n",
       "    <tr>\n",
       "      <th>2016</th>\n",
       "      <td>71</td>\n",
       "      <td>72</td>\n",
       "      <td>86</td>\n",
       "      <td>10</td>\n",
       "      <td>14</td>\n",
       "      <td>22</td>\n",
       "      <td>22</td>\n",
       "    </tr>\n",
       "    <tr>\n",
       "      <th>2020</th>\n",
       "      <td>90</td>\n",
       "      <td>17</td>\n",
       "      <td>25</td>\n",
       "      <td>70</td>\n",
       "      <td>44</td>\n",
       "      <td>77</td>\n",
       "      <td>69</td>\n",
       "    </tr>\n",
       "    <tr>\n",
       "      <th>2024</th>\n",
       "      <td>57</td>\n",
       "      <td>23</td>\n",
       "      <td>49</td>\n",
       "      <td>38</td>\n",
       "      <td>29</td>\n",
       "      <td>94</td>\n",
       "      <td>90</td>\n",
       "    </tr>\n",
       "  </tbody>\n",
       "</table>\n",
       "</div>"
      ],
      "text/plain": [
       "      Vilnius  Kaunas  Klaipeda  Panevezys  Alytus  Druskininkai  Kazlu Ruda\n",
       "2000       99      90        15         97      54            17          65\n",
       "2004       30      96        43         36      28            16          20\n",
       "2008       20      23        82         69      26            60          34\n",
       "2012       22      19        91         80      34            79          88\n",
       "2016       71      72        86         10      14            22          22\n",
       "2020       90      17        25         70      44            77          69\n",
       "2024       57      23        49         38      29            94          90"
      ]
     },
     "execution_count": 88,
     "metadata": {},
     "output_type": "execute_result"
    }
   ],
   "source": [
    "miestu_skaiciai"
   ]
  },
  {
   "cell_type": "code",
   "execution_count": 92,
   "metadata": {},
   "outputs": [
    {
     "data": {
      "text/html": [
       "<div>\n",
       "<style scoped>\n",
       "    .dataframe tbody tr th:only-of-type {\n",
       "        vertical-align: middle;\n",
       "    }\n",
       "\n",
       "    .dataframe tbody tr th {\n",
       "        vertical-align: top;\n",
       "    }\n",
       "\n",
       "    .dataframe thead th {\n",
       "        text-align: right;\n",
       "    }\n",
       "</style>\n",
       "<table border=\"1\" class=\"dataframe\">\n",
       "  <thead>\n",
       "    <tr style=\"text-align: right;\">\n",
       "      <th></th>\n",
       "      <th>Vilnius</th>\n",
       "      <th>Kaunas</th>\n",
       "      <th>Klaipeda</th>\n",
       "      <th>Panevezys</th>\n",
       "      <th>Alytus</th>\n",
       "      <th>Druskininkai</th>\n",
       "      <th>Kazlu Ruda</th>\n",
       "    </tr>\n",
       "  </thead>\n",
       "  <tbody>\n",
       "    <tr>\n",
       "      <th>2000</th>\n",
       "      <td>99</td>\n",
       "      <td>90</td>\n",
       "      <td>15</td>\n",
       "      <td>97</td>\n",
       "      <td>54</td>\n",
       "      <td>17</td>\n",
       "      <td>65</td>\n",
       "    </tr>\n",
       "    <tr>\n",
       "      <th>2004</th>\n",
       "      <td>30</td>\n",
       "      <td>96</td>\n",
       "      <td>43</td>\n",
       "      <td>36</td>\n",
       "      <td>28</td>\n",
       "      <td>16</td>\n",
       "      <td>20</td>\n",
       "    </tr>\n",
       "    <tr>\n",
       "      <th>2012</th>\n",
       "      <td>22</td>\n",
       "      <td>19</td>\n",
       "      <td>91</td>\n",
       "      <td>80</td>\n",
       "      <td>34</td>\n",
       "      <td>79</td>\n",
       "      <td>88</td>\n",
       "    </tr>\n",
       "    <tr>\n",
       "      <th>2016</th>\n",
       "      <td>71</td>\n",
       "      <td>72</td>\n",
       "      <td>86</td>\n",
       "      <td>10</td>\n",
       "      <td>14</td>\n",
       "      <td>22</td>\n",
       "      <td>22</td>\n",
       "    </tr>\n",
       "    <tr>\n",
       "      <th>2020</th>\n",
       "      <td>90</td>\n",
       "      <td>17</td>\n",
       "      <td>25</td>\n",
       "      <td>70</td>\n",
       "      <td>44</td>\n",
       "      <td>77</td>\n",
       "      <td>69</td>\n",
       "    </tr>\n",
       "    <tr>\n",
       "      <th>2024</th>\n",
       "      <td>57</td>\n",
       "      <td>23</td>\n",
       "      <td>49</td>\n",
       "      <td>38</td>\n",
       "      <td>29</td>\n",
       "      <td>94</td>\n",
       "      <td>90</td>\n",
       "    </tr>\n",
       "  </tbody>\n",
       "</table>\n",
       "</div>"
      ],
      "text/plain": [
       "      Vilnius  Kaunas  Klaipeda  Panevezys  Alytus  Druskininkai  Kazlu Ruda\n",
       "2000       99      90        15         97      54            17          65\n",
       "2004       30      96        43         36      28            16          20\n",
       "2012       22      19        91         80      34            79          88\n",
       "2016       71      72        86         10      14            22          22\n",
       "2020       90      17        25         70      44            77          69\n",
       "2024       57      23        49         38      29            94          90"
      ]
     },
     "execution_count": 92,
     "metadata": {},
     "output_type": "execute_result"
    }
   ],
   "source": [
    "miestai_be_2008 = miestu_skaiciai.drop(2008)\n",
    "miestai_be_2008"
   ]
  },
  {
   "cell_type": "code",
   "execution_count": 93,
   "metadata": {},
   "outputs": [
    {
     "data": {
      "text/plain": [
       "Vilnius         20\n",
       "Kaunas          23\n",
       "Klaipeda        82\n",
       "Panevezys       69\n",
       "Alytus          26\n",
       "Druskininkai    60\n",
       "Kazlu Ruda      34\n",
       "Name: 2008, dtype: int64"
      ]
     },
     "execution_count": 93,
     "metadata": {},
     "output_type": "execute_result"
    }
   ],
   "source": [
    "miestu_skaiciai.loc[2008]"
   ]
  },
  {
   "cell_type": "code",
   "execution_count": 94,
   "metadata": {},
   "outputs": [
    {
     "data": {
      "text/plain": [
       "Vilnius         22\n",
       "Kaunas          19\n",
       "Klaipeda        91\n",
       "Panevezys       80\n",
       "Alytus          34\n",
       "Druskininkai    79\n",
       "Kazlu Ruda      88\n",
       "Name: 2012, dtype: int64"
      ]
     },
     "execution_count": 94,
     "metadata": {},
     "output_type": "execute_result"
    }
   ],
   "source": [
    "miestu_skaiciai.iloc[3]"
   ]
  },
  {
   "cell_type": "code",
   "execution_count": 98,
   "metadata": {},
   "outputs": [
    {
     "data": {
      "text/plain": [
       "90"
      ]
     },
     "execution_count": 98,
     "metadata": {},
     "output_type": "execute_result"
    }
   ],
   "source": [
    "miestu_skaiciai['Vilnius'][2020]"
   ]
  },
  {
   "cell_type": "code",
   "execution_count": 96,
   "metadata": {},
   "outputs": [
    {
     "data": {
      "text/plain": [
       "90"
      ]
     },
     "execution_count": 96,
     "metadata": {},
     "output_type": "execute_result"
    }
   ],
   "source": [
    "miestu_skaiciai.loc[2020, 'Vilnius']"
   ]
  },
  {
   "cell_type": "code",
   "execution_count": 100,
   "metadata": {},
   "outputs": [
    {
     "data": {
      "text/html": [
       "<div>\n",
       "<style scoped>\n",
       "    .dataframe tbody tr th:only-of-type {\n",
       "        vertical-align: middle;\n",
       "    }\n",
       "\n",
       "    .dataframe tbody tr th {\n",
       "        vertical-align: top;\n",
       "    }\n",
       "\n",
       "    .dataframe thead th {\n",
       "        text-align: right;\n",
       "    }\n",
       "</style>\n",
       "<table border=\"1\" class=\"dataframe\">\n",
       "  <thead>\n",
       "    <tr style=\"text-align: right;\">\n",
       "      <th></th>\n",
       "      <th>Kaunas</th>\n",
       "      <th>Alytus</th>\n",
       "    </tr>\n",
       "  </thead>\n",
       "  <tbody>\n",
       "    <tr>\n",
       "      <th>2012</th>\n",
       "      <td>19</td>\n",
       "      <td>34</td>\n",
       "    </tr>\n",
       "    <tr>\n",
       "      <th>2020</th>\n",
       "      <td>17</td>\n",
       "      <td>44</td>\n",
       "    </tr>\n",
       "    <tr>\n",
       "      <th>2024</th>\n",
       "      <td>23</td>\n",
       "      <td>29</td>\n",
       "    </tr>\n",
       "  </tbody>\n",
       "</table>\n",
       "</div>"
      ],
      "text/plain": [
       "      Kaunas  Alytus\n",
       "2012      19      34\n",
       "2020      17      44\n",
       "2024      23      29"
      ]
     },
     "execution_count": 100,
     "metadata": {},
     "output_type": "execute_result"
    }
   ],
   "source": [
    "miestu_skaiciai.loc[[2012, 2020, 2024], ['Kaunas', 'Alytus']]"
   ]
  },
  {
   "cell_type": "code",
   "execution_count": 109,
   "metadata": {},
   "outputs": [
    {
     "data": {
      "text/html": [
       "<div>\n",
       "<style scoped>\n",
       "    .dataframe tbody tr th:only-of-type {\n",
       "        vertical-align: middle;\n",
       "    }\n",
       "\n",
       "    .dataframe tbody tr th {\n",
       "        vertical-align: top;\n",
       "    }\n",
       "\n",
       "    .dataframe thead th {\n",
       "        text-align: right;\n",
       "    }\n",
       "</style>\n",
       "<table border=\"1\" class=\"dataframe\">\n",
       "  <thead>\n",
       "    <tr style=\"text-align: right;\">\n",
       "      <th></th>\n",
       "      <th>Kaunas</th>\n",
       "      <th>Alytus</th>\n",
       "    </tr>\n",
       "  </thead>\n",
       "  <tbody>\n",
       "    <tr>\n",
       "      <th>2020</th>\n",
       "      <td>17</td>\n",
       "      <td>44</td>\n",
       "    </tr>\n",
       "    <tr>\n",
       "      <th>2012</th>\n",
       "      <td>19</td>\n",
       "      <td>34</td>\n",
       "    </tr>\n",
       "    <tr>\n",
       "      <th>2000</th>\n",
       "      <td>90</td>\n",
       "      <td>54</td>\n",
       "    </tr>\n",
       "  </tbody>\n",
       "</table>\n",
       "</div>"
      ],
      "text/plain": [
       "      Kaunas  Alytus\n",
       "2020      17      44\n",
       "2012      19      34\n",
       "2000      90      54"
      ]
     },
     "execution_count": 109,
     "metadata": {},
     "output_type": "execute_result"
    }
   ],
   "source": [
    "miestu_skaiciai[['Kaunas', 'Alytus']].loc[[2020, 2012, 2000]]"
   ]
  },
  {
   "cell_type": "code",
   "execution_count": 110,
   "metadata": {},
   "outputs": [
    {
     "data": {
      "text/html": [
       "<div>\n",
       "<style scoped>\n",
       "    .dataframe tbody tr th:only-of-type {\n",
       "        vertical-align: middle;\n",
       "    }\n",
       "\n",
       "    .dataframe tbody tr th {\n",
       "        vertical-align: top;\n",
       "    }\n",
       "\n",
       "    .dataframe thead th {\n",
       "        text-align: right;\n",
       "    }\n",
       "</style>\n",
       "<table border=\"1\" class=\"dataframe\">\n",
       "  <thead>\n",
       "    <tr style=\"text-align: right;\">\n",
       "      <th></th>\n",
       "      <th>Vilnius</th>\n",
       "      <th>Kaunas</th>\n",
       "      <th>Klaipeda</th>\n",
       "      <th>Panevezys</th>\n",
       "      <th>Alytus</th>\n",
       "      <th>Druskininkai</th>\n",
       "      <th>Kazlu Ruda</th>\n",
       "    </tr>\n",
       "  </thead>\n",
       "  <tbody>\n",
       "    <tr>\n",
       "      <th>2000</th>\n",
       "      <td>99.0</td>\n",
       "      <td>90.0</td>\n",
       "      <td>NaN</td>\n",
       "      <td>97.0</td>\n",
       "      <td>NaN</td>\n",
       "      <td>NaN</td>\n",
       "      <td>NaN</td>\n",
       "    </tr>\n",
       "    <tr>\n",
       "      <th>2004</th>\n",
       "      <td>NaN</td>\n",
       "      <td>96.0</td>\n",
       "      <td>NaN</td>\n",
       "      <td>NaN</td>\n",
       "      <td>NaN</td>\n",
       "      <td>NaN</td>\n",
       "      <td>NaN</td>\n",
       "    </tr>\n",
       "    <tr>\n",
       "      <th>2008</th>\n",
       "      <td>NaN</td>\n",
       "      <td>NaN</td>\n",
       "      <td>82.0</td>\n",
       "      <td>NaN</td>\n",
       "      <td>NaN</td>\n",
       "      <td>NaN</td>\n",
       "      <td>NaN</td>\n",
       "    </tr>\n",
       "    <tr>\n",
       "      <th>2012</th>\n",
       "      <td>NaN</td>\n",
       "      <td>NaN</td>\n",
       "      <td>91.0</td>\n",
       "      <td>80.0</td>\n",
       "      <td>NaN</td>\n",
       "      <td>79.0</td>\n",
       "      <td>88.0</td>\n",
       "    </tr>\n",
       "    <tr>\n",
       "      <th>2016</th>\n",
       "      <td>71.0</td>\n",
       "      <td>72.0</td>\n",
       "      <td>86.0</td>\n",
       "      <td>NaN</td>\n",
       "      <td>NaN</td>\n",
       "      <td>NaN</td>\n",
       "      <td>NaN</td>\n",
       "    </tr>\n",
       "    <tr>\n",
       "      <th>2020</th>\n",
       "      <td>90.0</td>\n",
       "      <td>NaN</td>\n",
       "      <td>NaN</td>\n",
       "      <td>NaN</td>\n",
       "      <td>NaN</td>\n",
       "      <td>77.0</td>\n",
       "      <td>NaN</td>\n",
       "    </tr>\n",
       "    <tr>\n",
       "      <th>2024</th>\n",
       "      <td>NaN</td>\n",
       "      <td>NaN</td>\n",
       "      <td>NaN</td>\n",
       "      <td>NaN</td>\n",
       "      <td>NaN</td>\n",
       "      <td>94.0</td>\n",
       "      <td>90.0</td>\n",
       "    </tr>\n",
       "  </tbody>\n",
       "</table>\n",
       "</div>"
      ],
      "text/plain": [
       "      Vilnius  Kaunas  Klaipeda  Panevezys  Alytus  Druskininkai  Kazlu Ruda\n",
       "2000     99.0    90.0       NaN       97.0     NaN           NaN         NaN\n",
       "2004      NaN    96.0       NaN        NaN     NaN           NaN         NaN\n",
       "2008      NaN     NaN      82.0        NaN     NaN           NaN         NaN\n",
       "2012      NaN     NaN      91.0       80.0     NaN          79.0        88.0\n",
       "2016     71.0    72.0      86.0        NaN     NaN           NaN         NaN\n",
       "2020     90.0     NaN       NaN        NaN     NaN          77.0         NaN\n",
       "2024      NaN     NaN       NaN        NaN     NaN          94.0        90.0"
      ]
     },
     "execution_count": 110,
     "metadata": {},
     "output_type": "execute_result"
    }
   ],
   "source": [
    "miestu_skaiciai[miestu_skaiciai > 70]"
   ]
  },
  {
   "cell_type": "code",
   "execution_count": 113,
   "metadata": {},
   "outputs": [
    {
     "name": "stdout",
     "output_type": "stream",
     "text": [
      "      Vilnius  Kaunas  Klaipeda  Panevezys  Alytus  Druskininkai  Kazlu Ruda\n",
      "2008       20      23        82         69      26            60          34\n",
      "2012       22      19        91         80      34            79          88\n",
      "2016       71      72        86         10      14            22          22\n"
     ]
    }
   ],
   "source": [
    "print(miestu_skaiciai[miestu_skaiciai['Klaipeda'] > 50])"
   ]
  },
  {
   "cell_type": "code",
   "execution_count": 115,
   "metadata": {},
   "outputs": [
    {
     "data": {
      "text/html": [
       "<div>\n",
       "<style scoped>\n",
       "    .dataframe tbody tr th:only-of-type {\n",
       "        vertical-align: middle;\n",
       "    }\n",
       "\n",
       "    .dataframe tbody tr th {\n",
       "        vertical-align: top;\n",
       "    }\n",
       "\n",
       "    .dataframe thead th {\n",
       "        text-align: right;\n",
       "    }\n",
       "</style>\n",
       "<table border=\"1\" class=\"dataframe\">\n",
       "  <thead>\n",
       "    <tr style=\"text-align: right;\">\n",
       "      <th></th>\n",
       "      <th>Vilnius</th>\n",
       "      <th>Klaipeda</th>\n",
       "    </tr>\n",
       "  </thead>\n",
       "  <tbody>\n",
       "    <tr>\n",
       "      <th>2008</th>\n",
       "      <td>20</td>\n",
       "      <td>82</td>\n",
       "    </tr>\n",
       "    <tr>\n",
       "      <th>2012</th>\n",
       "      <td>22</td>\n",
       "      <td>91</td>\n",
       "    </tr>\n",
       "    <tr>\n",
       "      <th>2016</th>\n",
       "      <td>71</td>\n",
       "      <td>86</td>\n",
       "    </tr>\n",
       "  </tbody>\n",
       "</table>\n",
       "</div>"
      ],
      "text/plain": [
       "      Vilnius  Klaipeda\n",
       "2008       20        82\n",
       "2012       22        91\n",
       "2016       71        86"
      ]
     },
     "execution_count": 115,
     "metadata": {},
     "output_type": "execute_result"
    }
   ],
   "source": [
    "miestu_skaiciai[miestu_skaiciai['Klaipeda'] > 80][['Vilnius', 'Klaipeda']]"
   ]
  },
  {
   "cell_type": "code",
   "execution_count": 118,
   "metadata": {},
   "outputs": [
    {
     "data": {
      "text/html": [
       "<div>\n",
       "<style scoped>\n",
       "    .dataframe tbody tr th:only-of-type {\n",
       "        vertical-align: middle;\n",
       "    }\n",
       "\n",
       "    .dataframe tbody tr th {\n",
       "        vertical-align: top;\n",
       "    }\n",
       "\n",
       "    .dataframe thead th {\n",
       "        text-align: right;\n",
       "    }\n",
       "</style>\n",
       "<table border=\"1\" class=\"dataframe\">\n",
       "  <thead>\n",
       "    <tr style=\"text-align: right;\">\n",
       "      <th></th>\n",
       "      <th>Vilnius</th>\n",
       "      <th>Kaunas</th>\n",
       "      <th>Klaipeda</th>\n",
       "      <th>Panevezys</th>\n",
       "      <th>Alytus</th>\n",
       "      <th>Druskininkai</th>\n",
       "      <th>Kazlu Ruda</th>\n",
       "    </tr>\n",
       "  </thead>\n",
       "  <tbody>\n",
       "    <tr>\n",
       "      <th>2000</th>\n",
       "      <td>99</td>\n",
       "      <td>90</td>\n",
       "      <td>15</td>\n",
       "      <td>97</td>\n",
       "      <td>54</td>\n",
       "      <td>17</td>\n",
       "      <td>65</td>\n",
       "    </tr>\n",
       "    <tr>\n",
       "      <th>2008</th>\n",
       "      <td>20</td>\n",
       "      <td>23</td>\n",
       "      <td>82</td>\n",
       "      <td>69</td>\n",
       "      <td>26</td>\n",
       "      <td>60</td>\n",
       "      <td>34</td>\n",
       "    </tr>\n",
       "    <tr>\n",
       "      <th>2012</th>\n",
       "      <td>22</td>\n",
       "      <td>19</td>\n",
       "      <td>91</td>\n",
       "      <td>80</td>\n",
       "      <td>34</td>\n",
       "      <td>79</td>\n",
       "      <td>88</td>\n",
       "    </tr>\n",
       "    <tr>\n",
       "      <th>2016</th>\n",
       "      <td>71</td>\n",
       "      <td>72</td>\n",
       "      <td>86</td>\n",
       "      <td>10</td>\n",
       "      <td>14</td>\n",
       "      <td>22</td>\n",
       "      <td>22</td>\n",
       "    </tr>\n",
       "  </tbody>\n",
       "</table>\n",
       "</div>"
      ],
      "text/plain": [
       "      Vilnius  Kaunas  Klaipeda  Panevezys  Alytus  Druskininkai  Kazlu Ruda\n",
       "2000       99      90        15         97      54            17          65\n",
       "2008       20      23        82         69      26            60          34\n",
       "2012       22      19        91         80      34            79          88\n",
       "2016       71      72        86         10      14            22          22"
      ]
     },
     "execution_count": 118,
     "metadata": {},
     "output_type": "execute_result"
    }
   ],
   "source": [
    "miestu_skaiciai[(miestu_skaiciai['Vilnius'] > 90) | (miestu_skaiciai['Klaipeda'] > 80)]"
   ]
  },
  {
   "cell_type": "code",
   "execution_count": 119,
   "metadata": {},
   "outputs": [
    {
     "data": {
      "text/html": [
       "<div>\n",
       "<style scoped>\n",
       "    .dataframe tbody tr th:only-of-type {\n",
       "        vertical-align: middle;\n",
       "    }\n",
       "\n",
       "    .dataframe tbody tr th {\n",
       "        vertical-align: top;\n",
       "    }\n",
       "\n",
       "    .dataframe thead th {\n",
       "        text-align: right;\n",
       "    }\n",
       "</style>\n",
       "<table border=\"1\" class=\"dataframe\">\n",
       "  <thead>\n",
       "    <tr style=\"text-align: right;\">\n",
       "      <th></th>\n",
       "      <th>index</th>\n",
       "      <th>Vilnius</th>\n",
       "      <th>Kaunas</th>\n",
       "      <th>Klaipeda</th>\n",
       "      <th>Panevezys</th>\n",
       "      <th>Alytus</th>\n",
       "      <th>Druskininkai</th>\n",
       "      <th>Kazlu Ruda</th>\n",
       "    </tr>\n",
       "  </thead>\n",
       "  <tbody>\n",
       "    <tr>\n",
       "      <th>0</th>\n",
       "      <td>2000</td>\n",
       "      <td>99</td>\n",
       "      <td>90</td>\n",
       "      <td>15</td>\n",
       "      <td>97</td>\n",
       "      <td>54</td>\n",
       "      <td>17</td>\n",
       "      <td>65</td>\n",
       "    </tr>\n",
       "    <tr>\n",
       "      <th>1</th>\n",
       "      <td>2004</td>\n",
       "      <td>30</td>\n",
       "      <td>96</td>\n",
       "      <td>43</td>\n",
       "      <td>36</td>\n",
       "      <td>28</td>\n",
       "      <td>16</td>\n",
       "      <td>20</td>\n",
       "    </tr>\n",
       "    <tr>\n",
       "      <th>2</th>\n",
       "      <td>2008</td>\n",
       "      <td>20</td>\n",
       "      <td>23</td>\n",
       "      <td>82</td>\n",
       "      <td>69</td>\n",
       "      <td>26</td>\n",
       "      <td>60</td>\n",
       "      <td>34</td>\n",
       "    </tr>\n",
       "    <tr>\n",
       "      <th>3</th>\n",
       "      <td>2012</td>\n",
       "      <td>22</td>\n",
       "      <td>19</td>\n",
       "      <td>91</td>\n",
       "      <td>80</td>\n",
       "      <td>34</td>\n",
       "      <td>79</td>\n",
       "      <td>88</td>\n",
       "    </tr>\n",
       "    <tr>\n",
       "      <th>4</th>\n",
       "      <td>2016</td>\n",
       "      <td>71</td>\n",
       "      <td>72</td>\n",
       "      <td>86</td>\n",
       "      <td>10</td>\n",
       "      <td>14</td>\n",
       "      <td>22</td>\n",
       "      <td>22</td>\n",
       "    </tr>\n",
       "    <tr>\n",
       "      <th>5</th>\n",
       "      <td>2020</td>\n",
       "      <td>90</td>\n",
       "      <td>17</td>\n",
       "      <td>25</td>\n",
       "      <td>70</td>\n",
       "      <td>44</td>\n",
       "      <td>77</td>\n",
       "      <td>69</td>\n",
       "    </tr>\n",
       "    <tr>\n",
       "      <th>6</th>\n",
       "      <td>2024</td>\n",
       "      <td>57</td>\n",
       "      <td>23</td>\n",
       "      <td>49</td>\n",
       "      <td>38</td>\n",
       "      <td>29</td>\n",
       "      <td>94</td>\n",
       "      <td>90</td>\n",
       "    </tr>\n",
       "  </tbody>\n",
       "</table>\n",
       "</div>"
      ],
      "text/plain": [
       "   index  Vilnius  Kaunas  Klaipeda  Panevezys  Alytus  Druskininkai   \n",
       "0   2000       99      90        15         97      54            17  \\\n",
       "1   2004       30      96        43         36      28            16   \n",
       "2   2008       20      23        82         69      26            60   \n",
       "3   2012       22      19        91         80      34            79   \n",
       "4   2016       71      72        86         10      14            22   \n",
       "5   2020       90      17        25         70      44            77   \n",
       "6   2024       57      23        49         38      29            94   \n",
       "\n",
       "   Kazlu Ruda  \n",
       "0          65  \n",
       "1          20  \n",
       "2          34  \n",
       "3          88  \n",
       "4          22  \n",
       "5          69  \n",
       "6          90  "
      ]
     },
     "execution_count": 119,
     "metadata": {},
     "output_type": "execute_result"
    }
   ],
   "source": [
    "miestu_skaiciai.reset_index()"
   ]
  },
  {
   "cell_type": "code",
   "execution_count": 122,
   "metadata": {},
   "outputs": [
    {
     "data": {
      "text/html": [
       "<div>\n",
       "<style scoped>\n",
       "    .dataframe tbody tr th:only-of-type {\n",
       "        vertical-align: middle;\n",
       "    }\n",
       "\n",
       "    .dataframe tbody tr th {\n",
       "        vertical-align: top;\n",
       "    }\n",
       "\n",
       "    .dataframe thead th {\n",
       "        text-align: right;\n",
       "    }\n",
       "</style>\n",
       "<table border=\"1\" class=\"dataframe\">\n",
       "  <thead>\n",
       "    <tr style=\"text-align: right;\">\n",
       "      <th></th>\n",
       "      <th>index</th>\n",
       "      <th>Vilnius</th>\n",
       "      <th>Kaunas</th>\n",
       "      <th>Klaipeda</th>\n",
       "      <th>Panevezys</th>\n",
       "      <th>Alytus</th>\n",
       "      <th>Druskininkai</th>\n",
       "      <th>Kazlu Ruda</th>\n",
       "    </tr>\n",
       "  </thead>\n",
       "  <tbody>\n",
       "    <tr>\n",
       "      <th>0</th>\n",
       "      <td>2000</td>\n",
       "      <td>99</td>\n",
       "      <td>90</td>\n",
       "      <td>15</td>\n",
       "      <td>97</td>\n",
       "      <td>54</td>\n",
       "      <td>17</td>\n",
       "      <td>65</td>\n",
       "    </tr>\n",
       "    <tr>\n",
       "      <th>1</th>\n",
       "      <td>2004</td>\n",
       "      <td>30</td>\n",
       "      <td>96</td>\n",
       "      <td>43</td>\n",
       "      <td>36</td>\n",
       "      <td>28</td>\n",
       "      <td>16</td>\n",
       "      <td>20</td>\n",
       "    </tr>\n",
       "    <tr>\n",
       "      <th>2</th>\n",
       "      <td>2008</td>\n",
       "      <td>20</td>\n",
       "      <td>23</td>\n",
       "      <td>82</td>\n",
       "      <td>69</td>\n",
       "      <td>26</td>\n",
       "      <td>60</td>\n",
       "      <td>34</td>\n",
       "    </tr>\n",
       "    <tr>\n",
       "      <th>3</th>\n",
       "      <td>2012</td>\n",
       "      <td>22</td>\n",
       "      <td>19</td>\n",
       "      <td>91</td>\n",
       "      <td>80</td>\n",
       "      <td>34</td>\n",
       "      <td>79</td>\n",
       "      <td>88</td>\n",
       "    </tr>\n",
       "    <tr>\n",
       "      <th>4</th>\n",
       "      <td>2016</td>\n",
       "      <td>71</td>\n",
       "      <td>72</td>\n",
       "      <td>86</td>\n",
       "      <td>10</td>\n",
       "      <td>14</td>\n",
       "      <td>22</td>\n",
       "      <td>22</td>\n",
       "    </tr>\n",
       "    <tr>\n",
       "      <th>5</th>\n",
       "      <td>2020</td>\n",
       "      <td>90</td>\n",
       "      <td>17</td>\n",
       "      <td>25</td>\n",
       "      <td>70</td>\n",
       "      <td>44</td>\n",
       "      <td>77</td>\n",
       "      <td>69</td>\n",
       "    </tr>\n",
       "    <tr>\n",
       "      <th>6</th>\n",
       "      <td>2024</td>\n",
       "      <td>57</td>\n",
       "      <td>23</td>\n",
       "      <td>49</td>\n",
       "      <td>38</td>\n",
       "      <td>29</td>\n",
       "      <td>94</td>\n",
       "      <td>90</td>\n",
       "    </tr>\n",
       "  </tbody>\n",
       "</table>\n",
       "</div>"
      ],
      "text/plain": [
       "   index  Vilnius  Kaunas  Klaipeda  Panevezys  Alytus  Druskininkai   \n",
       "0   2000       99      90        15         97      54            17  \\\n",
       "1   2004       30      96        43         36      28            16   \n",
       "2   2008       20      23        82         69      26            60   \n",
       "3   2012       22      19        91         80      34            79   \n",
       "4   2016       71      72        86         10      14            22   \n",
       "5   2020       90      17        25         70      44            77   \n",
       "6   2024       57      23        49         38      29            94   \n",
       "\n",
       "   Kazlu Ruda  \n",
       "0          65  \n",
       "1          20  \n",
       "2          34  \n",
       "3          88  \n",
       "4          22  \n",
       "5          69  \n",
       "6          90  "
      ]
     },
     "execution_count": 122,
     "metadata": {},
     "output_type": "execute_result"
    }
   ],
   "source": [
    "be_indekso = miestu_skaiciai.reset_index()\n",
    "be_indekso"
   ]
  },
  {
   "cell_type": "code",
   "execution_count": 123,
   "metadata": {},
   "outputs": [
    {
     "data": {
      "text/html": [
       "<div>\n",
       "<style scoped>\n",
       "    .dataframe tbody tr th:only-of-type {\n",
       "        vertical-align: middle;\n",
       "    }\n",
       "\n",
       "    .dataframe tbody tr th {\n",
       "        vertical-align: top;\n",
       "    }\n",
       "\n",
       "    .dataframe thead th {\n",
       "        text-align: right;\n",
       "    }\n",
       "</style>\n",
       "<table border=\"1\" class=\"dataframe\">\n",
       "  <thead>\n",
       "    <tr style=\"text-align: right;\">\n",
       "      <th></th>\n",
       "      <th>index</th>\n",
       "      <th>Vilnius</th>\n",
       "      <th>Kaunas</th>\n",
       "      <th>Klaipeda</th>\n",
       "      <th>Panevezys</th>\n",
       "      <th>Alytus</th>\n",
       "      <th>Druskininkai</th>\n",
       "      <th>Kazlu Ruda</th>\n",
       "      <th>Utena</th>\n",
       "    </tr>\n",
       "  </thead>\n",
       "  <tbody>\n",
       "    <tr>\n",
       "      <th>0</th>\n",
       "      <td>2000</td>\n",
       "      <td>99</td>\n",
       "      <td>90</td>\n",
       "      <td>15</td>\n",
       "      <td>97</td>\n",
       "      <td>54</td>\n",
       "      <td>17</td>\n",
       "      <td>65</td>\n",
       "      <td>28</td>\n",
       "    </tr>\n",
       "    <tr>\n",
       "      <th>1</th>\n",
       "      <td>2004</td>\n",
       "      <td>30</td>\n",
       "      <td>96</td>\n",
       "      <td>43</td>\n",
       "      <td>36</td>\n",
       "      <td>28</td>\n",
       "      <td>16</td>\n",
       "      <td>20</td>\n",
       "      <td>14</td>\n",
       "    </tr>\n",
       "    <tr>\n",
       "      <th>2</th>\n",
       "      <td>2008</td>\n",
       "      <td>20</td>\n",
       "      <td>23</td>\n",
       "      <td>82</td>\n",
       "      <td>69</td>\n",
       "      <td>26</td>\n",
       "      <td>60</td>\n",
       "      <td>34</td>\n",
       "      <td>37</td>\n",
       "    </tr>\n",
       "    <tr>\n",
       "      <th>3</th>\n",
       "      <td>2012</td>\n",
       "      <td>22</td>\n",
       "      <td>19</td>\n",
       "      <td>91</td>\n",
       "      <td>80</td>\n",
       "      <td>34</td>\n",
       "      <td>79</td>\n",
       "      <td>88</td>\n",
       "      <td>34</td>\n",
       "    </tr>\n",
       "    <tr>\n",
       "      <th>4</th>\n",
       "      <td>2016</td>\n",
       "      <td>71</td>\n",
       "      <td>72</td>\n",
       "      <td>86</td>\n",
       "      <td>10</td>\n",
       "      <td>14</td>\n",
       "      <td>22</td>\n",
       "      <td>22</td>\n",
       "      <td>53</td>\n",
       "    </tr>\n",
       "    <tr>\n",
       "      <th>5</th>\n",
       "      <td>2020</td>\n",
       "      <td>90</td>\n",
       "      <td>17</td>\n",
       "      <td>25</td>\n",
       "      <td>70</td>\n",
       "      <td>44</td>\n",
       "      <td>77</td>\n",
       "      <td>69</td>\n",
       "      <td>37</td>\n",
       "    </tr>\n",
       "    <tr>\n",
       "      <th>6</th>\n",
       "      <td>2024</td>\n",
       "      <td>57</td>\n",
       "      <td>23</td>\n",
       "      <td>49</td>\n",
       "      <td>38</td>\n",
       "      <td>29</td>\n",
       "      <td>94</td>\n",
       "      <td>90</td>\n",
       "      <td>12</td>\n",
       "    </tr>\n",
       "  </tbody>\n",
       "</table>\n",
       "</div>"
      ],
      "text/plain": [
       "   index  Vilnius  Kaunas  Klaipeda  Panevezys  Alytus  Druskininkai   \n",
       "0   2000       99      90        15         97      54            17  \\\n",
       "1   2004       30      96        43         36      28            16   \n",
       "2   2008       20      23        82         69      26            60   \n",
       "3   2012       22      19        91         80      34            79   \n",
       "4   2016       71      72        86         10      14            22   \n",
       "5   2020       90      17        25         70      44            77   \n",
       "6   2024       57      23        49         38      29            94   \n",
       "\n",
       "   Kazlu Ruda  Utena  \n",
       "0          65     28  \n",
       "1          20     14  \n",
       "2          34     37  \n",
       "3          88     34  \n",
       "4          22     53  \n",
       "5          69     37  \n",
       "6          90     12  "
      ]
     },
     "execution_count": 123,
     "metadata": {},
     "output_type": "execute_result"
    }
   ],
   "source": [
    "be_indekso['Utena'] = np.random.randint(10, 71, 7)\n",
    "be_indekso"
   ]
  },
  {
   "cell_type": "code",
   "execution_count": 125,
   "metadata": {},
   "outputs": [
    {
     "data": {
      "text/html": [
       "<div>\n",
       "<style scoped>\n",
       "    .dataframe tbody tr th:only-of-type {\n",
       "        vertical-align: middle;\n",
       "    }\n",
       "\n",
       "    .dataframe tbody tr th {\n",
       "        vertical-align: top;\n",
       "    }\n",
       "\n",
       "    .dataframe thead th {\n",
       "        text-align: right;\n",
       "    }\n",
       "</style>\n",
       "<table border=\"1\" class=\"dataframe\">\n",
       "  <thead>\n",
       "    <tr style=\"text-align: right;\">\n",
       "      <th></th>\n",
       "      <th>Vilnius</th>\n",
       "      <th>Kaunas</th>\n",
       "      <th>Klaipeda</th>\n",
       "      <th>Panevezys</th>\n",
       "      <th>Alytus</th>\n",
       "      <th>Druskininkai</th>\n",
       "      <th>Kazlu Ruda</th>\n",
       "      <th>Utena</th>\n",
       "    </tr>\n",
       "    <tr>\n",
       "      <th>index</th>\n",
       "      <th></th>\n",
       "      <th></th>\n",
       "      <th></th>\n",
       "      <th></th>\n",
       "      <th></th>\n",
       "      <th></th>\n",
       "      <th></th>\n",
       "      <th></th>\n",
       "    </tr>\n",
       "  </thead>\n",
       "  <tbody>\n",
       "    <tr>\n",
       "      <th>2000</th>\n",
       "      <td>99</td>\n",
       "      <td>90</td>\n",
       "      <td>15</td>\n",
       "      <td>97</td>\n",
       "      <td>54</td>\n",
       "      <td>17</td>\n",
       "      <td>65</td>\n",
       "      <td>28</td>\n",
       "    </tr>\n",
       "    <tr>\n",
       "      <th>2004</th>\n",
       "      <td>30</td>\n",
       "      <td>96</td>\n",
       "      <td>43</td>\n",
       "      <td>36</td>\n",
       "      <td>28</td>\n",
       "      <td>16</td>\n",
       "      <td>20</td>\n",
       "      <td>14</td>\n",
       "    </tr>\n",
       "    <tr>\n",
       "      <th>2008</th>\n",
       "      <td>20</td>\n",
       "      <td>23</td>\n",
       "      <td>82</td>\n",
       "      <td>69</td>\n",
       "      <td>26</td>\n",
       "      <td>60</td>\n",
       "      <td>34</td>\n",
       "      <td>37</td>\n",
       "    </tr>\n",
       "    <tr>\n",
       "      <th>2012</th>\n",
       "      <td>22</td>\n",
       "      <td>19</td>\n",
       "      <td>91</td>\n",
       "      <td>80</td>\n",
       "      <td>34</td>\n",
       "      <td>79</td>\n",
       "      <td>88</td>\n",
       "      <td>34</td>\n",
       "    </tr>\n",
       "    <tr>\n",
       "      <th>2016</th>\n",
       "      <td>71</td>\n",
       "      <td>72</td>\n",
       "      <td>86</td>\n",
       "      <td>10</td>\n",
       "      <td>14</td>\n",
       "      <td>22</td>\n",
       "      <td>22</td>\n",
       "      <td>53</td>\n",
       "    </tr>\n",
       "    <tr>\n",
       "      <th>2020</th>\n",
       "      <td>90</td>\n",
       "      <td>17</td>\n",
       "      <td>25</td>\n",
       "      <td>70</td>\n",
       "      <td>44</td>\n",
       "      <td>77</td>\n",
       "      <td>69</td>\n",
       "      <td>37</td>\n",
       "    </tr>\n",
       "    <tr>\n",
       "      <th>2024</th>\n",
       "      <td>57</td>\n",
       "      <td>23</td>\n",
       "      <td>49</td>\n",
       "      <td>38</td>\n",
       "      <td>29</td>\n",
       "      <td>94</td>\n",
       "      <td>90</td>\n",
       "      <td>12</td>\n",
       "    </tr>\n",
       "  </tbody>\n",
       "</table>\n",
       "</div>"
      ],
      "text/plain": [
       "       Vilnius  Kaunas  Klaipeda  Panevezys  Alytus  Druskininkai  Kazlu Ruda   \n",
       "index                                                                           \n",
       "2000        99      90        15         97      54            17          65  \\\n",
       "2004        30      96        43         36      28            16          20   \n",
       "2008        20      23        82         69      26            60          34   \n",
       "2012        22      19        91         80      34            79          88   \n",
       "2016        71      72        86         10      14            22          22   \n",
       "2020        90      17        25         70      44            77          69   \n",
       "2024        57      23        49         38      29            94          90   \n",
       "\n",
       "       Utena  \n",
       "index         \n",
       "2000      28  \n",
       "2004      14  \n",
       "2008      37  \n",
       "2012      34  \n",
       "2016      53  \n",
       "2020      37  \n",
       "2024      12  "
      ]
     },
     "execution_count": 125,
     "metadata": {},
     "output_type": "execute_result"
    }
   ],
   "source": [
    "su_utena = be_indekso.set_index('index')\n",
    "su_utena"
   ]
  }
 ],
 "metadata": {
  "kernelspec": {
   "display_name": "venv",
   "language": "python",
   "name": "python3"
  },
  "language_info": {
   "codemirror_mode": {
    "name": "ipython",
    "version": 3
   },
   "file_extension": ".py",
   "mimetype": "text/x-python",
   "name": "python",
   "nbconvert_exporter": "python",
   "pygments_lexer": "ipython3",
   "version": "3.10.12"
  }
 },
 "nbformat": 4,
 "nbformat_minor": 2
}
