{
 "cells": [
  {
   "cell_type": "code",
   "execution_count": null,
   "metadata": {},
   "outputs": [],
   "source": [
    "from datetime import datetime\n",
    "\n",
    "def trukme(funkcija):\n",
    "    def wrapper(*args, **kwargs):\n",
    "        # print(\"pradedam matuoti\")\n",
    "        start = datetime.now()\n",
    "        rezultatas = funkcija(*args, **kwargs)\n",
    "        end = datetime.now()\n",
    "        duration = end - start\n",
    "        if duration.seconds > 0:\n",
    "            print(f\"funkcijos vykdymo trukme: {duration}\")\n",
    "        elif duration.microseconds >= 1000:\n",
    "            print(f\"funkcijos vykdymo trukme: {duration.microseconds} mikrosekundziu\")\n",
    "        return rezultatas\n",
    "    return wrapper\n"
   ]
  },
  {
   "cell_type": "code",
   "execution_count": null,
   "metadata": {},
   "outputs": [],
   "source": [
    "def is_prime(num):\n",
    "    if num <= 1:\n",
    "        return False\n",
    "    for i in range(2, int(num**0.5) + 1):\n",
    "        if num % i == 0:\n",
    "            return False\n",
    "    return True\n",
    "\n",
    "@trukme\n",
    "def generate_primes(end, start=1):\n",
    "    primes = []\n",
    "    for num in range(start, end + 1):\n",
    "        if is_prime(num):\n",
    "            primes.append(num)\n",
    "    return primes"
   ]
  },
  {
   "cell_type": "code",
   "execution_count": null,
   "metadata": {},
   "outputs": [],
   "source": [
    "print(len(generate_primes(1000000)))"
   ]
  },
  {
   "cell_type": "code",
   "execution_count": null,
   "metadata": {},
   "outputs": [],
   "source": [
    "def tikrinti_teigiamus(funkcija):\n",
    "    def wrapper(*args, **kwargs):\n",
    "        if all(arg > 0 for arg in args) and \\\n",
    "            all(kwarg > 0 for kwarg in kwargs.values()):\n",
    "            rezultatas = funkcija(*args, **kwargs)\n",
    "        else:\n",
    "            rezultatas = \"Klaida: visi argumentai turi būti teigiami\"\n",
    "        return rezultatas\n",
    "    return wrapper\n",
    "\n",
    "@tikrinti_teigiamus\n",
    "def daugyba(x, y):\n",
    "    return x * y\n",
    "\n",
    "@tikrinti_teigiamus\n",
    "def dalyba(x, y):\n",
    "    return x / y\n",
    "\n",
    "rezultatas1 = daugyba(3, 5)\n",
    "print(f\"Daugybos rezultatas: {rezultatas1}\")\n",
    "\n",
    "rezultatas2 = daugyba(x=-2, y=4)\n",
    "print(f\"Daugybos rezultatas: {rezultatas2}\")\n",
    "\n",
    "print(f\"Dalyba: {dalyba(9, 10)}\")\n",
    "print(f\"Dalyba: {dalyba(9, 0)}\")"
   ]
  },
  {
   "cell_type": "code",
   "execution_count": null,
   "metadata": {},
   "outputs": [],
   "source": [
    "class Zmogus:\n",
    "    def __init__(self, vardas, pavarde):\n",
    "        self._vardas = vardas\n",
    "        self._pavarde = pavarde\n",
    "\n",
    "    @property\n",
    "    def pilnas_vardas(self):\n",
    "        return f\"{self._vardas} {self._pavarde}\""
   ]
  },
  {
   "cell_type": "code",
   "execution_count": null,
   "metadata": {},
   "outputs": [],
   "source": [
    "jonas = Zmogus(\"Jonas\", \"Petrauskas\")\n",
    "print(jonas.pilnas_vardas)"
   ]
  },
  {
   "cell_type": "code",
   "execution_count": null,
   "metadata": {},
   "outputs": [],
   "source": [
    "class Matematika:\n",
    "    @staticmethod\n",
    "    def sudetis(x, y):\n",
    "        return x + y\n",
    "\n",
    "rezultatas = Matematika.sudetis(3, 5)\n",
    "print(rezultatas)"
   ]
  },
  {
   "cell_type": "code",
   "execution_count": null,
   "metadata": {},
   "outputs": [],
   "source": [
    "class Automobilis:\n",
    "    _gamintojas = \"Toyota\"\n",
    "\n",
    "    def __init__(self, gamintojas=\"ne Toyota\") -> None:\n",
    "        self._gamintojas = gamintojas\n",
    "\n",
    "    @property\n",
    "    def tikras_gamintojas(self):\n",
    "        return self._gamintojas\n",
    "\n",
    "    @classmethod\n",
    "    @property\n",
    "    def gamintojas(cls):\n",
    "        return cls._gamintojas\n",
    "\n",
    "print(Automobilis.gamintojas)\n",
    "telsa = Automobilis(\"Tesla\")\n",
    "print(telsa.gamintojas)\n",
    "print(telsa.tikras_gamintojas)"
   ]
  },
  {
   "cell_type": "code",
   "execution_count": null,
   "metadata": {},
   "outputs": [],
   "source": [
    "from typing import Callable, Any\n",
    "\n",
    "def my_decorator(func: Callable[..., Any]) -> Callable[..., Any]:\n",
    "    def wrapper(*args: tuple, **kwargs: dict[str, Any]) -> Any:\n",
    "        print(\"Funkcija bus iškviesta\")\n",
    "        result = func(*args, **kwargs)\n",
    "        print(\"Funkcija buvo iškviesta\")\n",
    "        return result\n",
    "    return wrapper\n",
    "\n",
    "@my_decorator\n",
    "def funkcija(argas=0, kwargas=\"niekas\"):\n",
    "    print(argas, kwargas)\n",
    "\n",
    "funkcija()"
   ]
  },
  {
   "cell_type": "code",
   "execution_count": null,
   "metadata": {},
   "outputs": [],
   "source": [
    "from functools import wraps\n",
    "from typing import Callable, Any\n",
    "\n",
    "def my_decorator(func: Callable[..., Any]) -> Callable[..., Any]:\n",
    "    @wraps(func)\n",
    "    def wrapper(*args, **kwargs) -> Any:\n",
    "        \"\"\"wrapper doc\"\"\"\n",
    "        print(\"Funkcija bus iškviesta\")\n",
    "        result = func(*args, **kwargs)\n",
    "        print(\"Funkcija buvo iškviesta\")\n",
    "        return result\n",
    "    return wrapper\n",
    "\n",
    "@my_decorator\n",
    "def example_function(a: int, b: int) -> int:\n",
    "    \"\"\"\n",
    "    Funkcija, skirta sudėti du skaičius ir grąžinti rezultatą.\n",
    "\n",
    "    Args:\n",
    "        a (int): Pirmasis skaičius.\n",
    "        b (int): Antrasis skaičius.\n",
    "    Returns:\n",
    "        int: Skaičių suma.\n",
    "    \"\"\"\n",
    "    return a + b"
   ]
  },
  {
   "cell_type": "code",
   "execution_count": null,
   "metadata": {},
   "outputs": [],
   "source": [
    "print(example_function.__doc__)"
   ]
  },
  {
   "cell_type": "code",
   "execution_count": null,
   "metadata": {},
   "outputs": [],
   "source": [
    "from functools import wraps\n",
    "from typing import Callable, Any\n",
    "\n",
    "def repeat_decorator(times: int):\n",
    "    def actual_decorator(func: Callable[..., Any]) -> Callable[..., Any]:\n",
    "        @wraps(func)\n",
    "        def wrapper(*args, **kwargs) -> Any:\n",
    "            for _ in range(times):\n",
    "                result = func(*args, **kwargs)\n",
    "            return result\n",
    "        return wrapper\n",
    "    return actual_decorator\n",
    "\n",
    "@repeat_decorator(5)\n",
    "def print_message(message: str) -> None:\n",
    "    print(message)\n",
    "\n",
    "print_message(\"Labas!\")"
   ]
  },
  {
   "cell_type": "code",
   "execution_count": null,
   "metadata": {},
   "outputs": [],
   "source": [
    "from functools import wraps\n",
    "from typing import Callable, Any\n",
    "\n",
    "def print_before_decorator(func: Callable[..., Any]) -> Callable[..., Any]:\n",
    "    @wraps(func)\n",
    "    def wrapper(*args, **kwargs) -> Any:\n",
    "        print(\"Funkcija bus iškviesta\")\n",
    "        return func(*args, **kwargs)\n",
    "    return wrapper\n",
    "\n",
    "def print_after_decorator(func: Callable[..., Any]) -> Callable[..., Any]:\n",
    "    @wraps(func)\n",
    "    def wrapper(*args, **kwargs) -> Any:\n",
    "        result = func(*args, **kwargs)\n",
    "        print(\"Funkcija buvo iškviesta\")\n",
    "        return result\n",
    "    return wrapper\n",
    "\n",
    "@print_after_decorator\n",
    "@print_before_decorator\n",
    "def add_numbers(a: int, b: int) -> int:\n",
    "    return a + b\n",
    "\n",
    "result = add_numbers(3, 5)  # Output: Funkcija bus iškviesta, Funkcija buvo iškviesta\n",
    "print(result)  # Output: 8"
   ]
  },
  {
   "cell_type": "markdown",
   "metadata": {},
   "source": [
    "# setteriai ir getteriai"
   ]
  },
  {
   "cell_type": "code",
   "execution_count": 19,
   "metadata": {},
   "outputs": [],
   "source": [
    "class Zmogus:\n",
    "    def __init__(self, vardas, pavarde, amzius: int, *args, **kwargs) -> None:\n",
    "        self.vardas = vardas\n",
    "        self.pavarde = pavarde\n",
    "        self.amzius = amzius\n",
    "        self.savybes = args\n",
    "        for key, value in kwargs.items():\n",
    "            setattr(self, key, value)\n",
    "    \n",
    "    @property\n",
    "    def amzius(self) -> int:\n",
    "        return self.__amzius\n",
    "    \n",
    "    @amzius.setter\n",
    "    def amzius(self, metai) -> None:\n",
    "        if type(metai) != int:\n",
    "            raise ValueError(\"Amzius turi buti sveikas skaicius\")\n",
    "        elif metai < 0:\n",
    "            raise ValueError(\"Dar negyvena\")\n",
    "        elif metai > 200:\n",
    "            raise ValueError(\"Jau nebegyvena\")\n",
    "        self.__amzius = metai\n",
    "\n",
    "    @property\n",
    "    def vardas(self) -> str:\n",
    "        return self.__vardas\n",
    "    \n",
    "    @vardas.setter\n",
    "    def vardas(self, ivestas_vardas: str):\n",
    "        self.__vardas = ivestas_vardas.capitalize()\n",
    "    \n",
    "    def __str__(self) -> str:\n",
    "        return f\"{self.vardas} {self.pavarde}, {self.amzius}\""
   ]
  },
  {
   "cell_type": "code",
   "execution_count": null,
   "metadata": {},
   "outputs": [],
   "source": [
    "kestas = Zmogus(\"kESTas\", \"J\", 40)\n",
    "# kestas.amzius = 30\n",
    "print(kestas)"
   ]
  },
  {
   "cell_type": "code",
   "execution_count": 18,
   "metadata": {},
   "outputs": [],
   "source": [
    "class SetGetZmogus:\n",
    "    def __init__(self, vardas, pavarde, amzius: int, *args, **kwargs) -> None:\n",
    "        self.set_vardas(vardas)\n",
    "        self.pavarde = pavarde\n",
    "        self.set_amzius(amzius)\n",
    "        self.savybes = args\n",
    "        for key, value in kwargs.items():\n",
    "            setattr(self, key, value)\n",
    "\n",
    "    def get_amzius(self) -> int:\n",
    "        return self.__amzius\n",
    "\n",
    "    def set_amzius(self, metai) -> None:\n",
    "        if type(metai) != int:\n",
    "            raise ValueError(\"Amzius turi buti sveikas skaicius\")\n",
    "        elif metai < 0:\n",
    "            raise ValueError(\"Dar negyvena\")\n",
    "        elif metai > 200:\n",
    "            raise ValueError(\"Jau nebegyvena\")\n",
    "        self.__amzius = metai\n",
    "\n",
    "    def get_vardas(self) -> str:\n",
    "        return self.__vardas\n",
    "\n",
    "    def set_vardas(self, ivestas_vardas: str):\n",
    "        self.__vardas = ivestas_vardas.capitalize()\n",
    "\n",
    "    def __str__(self) -> str:\n",
    "        return f\"{self.__vardas} {self.pavarde}, {self.__amzius}\"\n"
   ]
  },
  {
   "cell_type": "code",
   "execution_count": 17,
   "metadata": {},
   "outputs": [
    {
     "name": "stdout",
     "output_type": "stream",
     "text": [
      "Jaunas Programisius, 5\n"
     ]
    }
   ],
   "source": [
    "jaunuolis = SetGetZmogus(\"jaunaS\", \"Programisius\", 5)\n",
    "print(jaunuolis)"
   ]
  }
 ],
 "metadata": {
  "kernelspec": {
   "display_name": "venv",
   "language": "python",
   "name": "python3"
  },
  "language_info": {
   "codemirror_mode": {
    "name": "ipython",
    "version": 3
   },
   "file_extension": ".py",
   "mimetype": "text/x-python",
   "name": "python",
   "nbconvert_exporter": "python",
   "pygments_lexer": "ipython3",
   "version": "3.11.7"
  }
 },
 "nbformat": 4,
 "nbformat_minor": 2
}
