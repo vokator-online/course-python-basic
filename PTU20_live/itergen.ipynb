{
 "cells": [
  {
   "cell_type": "markdown",
   "metadata": {},
   "source": [
    "# ITERatoriai"
   ]
  },
  {
   "cell_type": "code",
   "execution_count": 10,
   "metadata": {},
   "outputs": [
    {
     "data": {
      "text/plain": [
       "<list_iterator at 0x18b50211c90>"
      ]
     },
     "execution_count": 10,
     "metadata": {},
     "output_type": "execute_result"
    }
   ],
   "source": [
    "skaiciai = [4, 2, 7, 6, 9]\n",
    "skaiciuoklis = iter(skaiciai)\n",
    "skaiciuoklis"
   ]
  },
  {
   "cell_type": "code",
   "execution_count": 11,
   "metadata": {},
   "outputs": [
    {
     "name": "stdout",
     "output_type": "stream",
     "text": [
      "4\n"
     ]
    }
   ],
   "source": [
    "print(next(skaiciuoklis))"
   ]
  },
  {
   "cell_type": "code",
   "execution_count": 15,
   "metadata": {},
   "outputs": [
    {
     "name": "stdout",
     "output_type": "stream",
     "text": [
      "4\n",
      "2\n",
      "7\n",
      "6\n",
      "9\n"
     ]
    }
   ],
   "source": [
    "skaiciuoklis = iter(skaiciai)\n",
    "while True:\n",
    "    try:\n",
    "        skaicius = next(skaiciuoklis)\n",
    "    except StopIteration:\n",
    "        break\n",
    "    else:\n",
    "        print(skaicius)"
   ]
  },
  {
   "cell_type": "code",
   "execution_count": 16,
   "metadata": {},
   "outputs": [
    {
     "name": "stdout",
     "output_type": "stream",
     "text": [
      "4\n",
      "2\n",
      "7\n",
      "6\n",
      "9\n"
     ]
    }
   ],
   "source": [
    "for skaicius in skaiciai:\n",
    "    print(skaicius)"
   ]
  },
  {
   "cell_type": "code",
   "execution_count": 22,
   "metadata": {},
   "outputs": [
    {
     "name": "stdout",
     "output_type": "stream",
     "text": [
      "vardas Geras\n",
      "pavarde Studentas\n",
      "pazymiai [10, 9, 10, 10, 9, 10]\n",
      "lankomumas 100\n"
     ]
    }
   ],
   "source": [
    "zmogus = {\n",
    "    'vardas': \"Geras\",\n",
    "    'pavarde': \"Studentas\",\n",
    "    'pazymiai': [10, 9, 10, 10, 9, 10],\n",
    "    'lankomumas': 100,\n",
    "}\n",
    "\n",
    "zmogaus_atributai = iter(zmogus.items())\n",
    "\n",
    "while True:\n",
    "    try:\n",
    "        raktas, reiksme = next(zmogaus_atributai)\n",
    "    except StopIteration:\n",
    "        break\n",
    "    else:\n",
    "        print(raktas, reiksme)"
   ]
  },
  {
   "cell_type": "markdown",
   "metadata": {},
   "source": [
    "# GENERATORIAI"
   ]
  },
  {
   "cell_type": "code",
   "execution_count": 23,
   "metadata": {},
   "outputs": [
    {
     "name": "stdout",
     "output_type": "stream",
     "text": [
      "<generator object skaiciai_iki_n at 0x0000018B50C75F20>\n"
     ]
    }
   ],
   "source": [
    "def skaiciai_iki_n(n):\n",
    "    skaicius = 0\n",
    "    while skaicius < n:\n",
    "        yield skaicius\n",
    "        skaicius += 1\n",
    "\n",
    "skaitliukas = skaiciai_iki_n(10)\n",
    "print(skaitliukas)"
   ]
  },
  {
   "cell_type": "code",
   "execution_count": 25,
   "metadata": {},
   "outputs": [
    {
     "data": {
      "text/plain": [
       "[0, 1, 2, 3, 4, 5, 6, 7, 8, 9]"
      ]
     },
     "execution_count": 25,
     "metadata": {},
     "output_type": "execute_result"
    }
   ],
   "source": [
    "skaitliukas = skaiciai_iki_n(10)\n",
    "list(skaitliukas)"
   ]
  },
  {
   "cell_type": "code",
   "execution_count": 26,
   "metadata": {},
   "outputs": [
    {
     "name": "stdout",
     "output_type": "stream",
     "text": [
      "0\n",
      "1\n",
      "2\n",
      "3\n",
      "4\n"
     ]
    }
   ],
   "source": [
    "skaitliukas = skaiciai_iki_n(10)\n",
    "for skaicius in range(5):\n",
    "    print(next(skaitliukas))"
   ]
  },
  {
   "cell_type": "code",
   "execution_count": 57,
   "metadata": {},
   "outputs": [],
   "source": [
    "def primes_to_n(limit: int):\n",
    "    current = 1\n",
    "    while current < limit:\n",
    "        current += 1\n",
    "        if current == 2:\n",
    "            yield current\n",
    "        if current % 2 == 0:\n",
    "            continue\n",
    "        for number in range(3, current, 2):\n",
    "            if current % number == 0:\n",
    "                break\n",
    "        else:\n",
    "            yield current\n"
   ]
  },
  {
   "cell_type": "code",
   "execution_count": 60,
   "metadata": {},
   "outputs": [
    {
     "name": "stdout",
     "output_type": "stream",
     "text": [
      "[2, 3, 5, 7, 11, 13, 17, 19, 23, 29, 31, 37, 41, 43, 47, 53, 59, 61, 67, 71, 73, 79, 83, 89, 97, 101, 103, 107, 109, 113, 127, 131, 137, 139, 149, 151, 157, 163, 167, 173, 179, 181, 191, 193, 197, 199, 211, 223, 227, 229, 233, 239, 241, 251, 257, 263, 269, 271, 277, 281, 283, 293, 307, 311, 313, 317, 331, 337, 347, 349, 353, 359, 367, 373, 379, 383, 389, 397, 401, 409, 419, 421, 431, 433, 439, 443, 449, 457, 461, 463, 467, 479, 487, 491, 499, 503, 509, 521, 523, 541, 547, 557, 563, 569, 571, 577, 587, 593, 599, 601, 607, 613, 617, 619, 631, 641, 643, 647, 653, 659, 661, 673, 677, 683, 691, 701, 709, 719, 727, 733, 739, 743, 751, 757, 761, 769, 773, 787, 797, 809, 811, 821, 823, 827, 829, 839, 853, 857, 859, 863, 877, 881, 883, 887, 907, 911, 919, 929, 937, 941, 947, 953, 967, 971, 977, 983, 991, 997]\n"
     ]
    }
   ],
   "source": [
    "primes_to_100 = primes_to_n(1000)\n",
    "print(list(primes_to_100))"
   ]
  }
 ],
 "metadata": {
  "kernelspec": {
   "display_name": "venv",
   "language": "python",
   "name": "python3"
  },
  "language_info": {
   "codemirror_mode": {
    "name": "ipython",
    "version": 3
   },
   "file_extension": ".py",
   "mimetype": "text/x-python",
   "name": "python",
   "nbconvert_exporter": "python",
   "pygments_lexer": "ipython3",
   "version": "3.11.7"
  }
 },
 "nbformat": 4,
 "nbformat_minor": 2
}
