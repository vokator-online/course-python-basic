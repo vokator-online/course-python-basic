{
 "cells": [
  {
   "cell_type": "code",
   "execution_count": 16,
   "metadata": {},
   "outputs": [],
   "source": [
    "def sumuojam(x, y):\n",
    "    rez = x + y\n",
    "    print(f\"{x} + {y} = {rez}\")\n",
    "    return rez"
   ]
  },
  {
   "cell_type": "code",
   "execution_count": 17,
   "metadata": {},
   "outputs": [
    {
     "name": "stdout",
     "output_type": "stream",
     "text": [
      "2 + 3 = 5\n",
      "5 + 5 = 10\n",
      "10 + 7 = 17\n",
      "17 + 11 = 28\n",
      "28 + 4 = 32\n",
      "32 + 9 = 41\n",
      "41 + 32 = 73\n",
      "73 + -17 = 56\n",
      "56 + 42 = 98\n",
      "98 + -33 = 65\n",
      "65 + 69 = 134\n",
      "134\n"
     ]
    }
   ],
   "source": [
    "from functools import reduce\n",
    "\n",
    "skaiciai = [2, 3, 5, 7, 11, 4, 9, 32, -17, 42, -33, 69]\n",
    "suma = reduce(sumuojam, skaiciai)\n",
    "print(suma)"
   ]
  },
  {
   "cell_type": "code",
   "execution_count": 18,
   "metadata": {},
   "outputs": [
    {
     "data": {
      "text/plain": [
       "[2, 3, 5, 7, 11, 4, 9, 32, -17, 42, -33, 69]"
      ]
     },
     "execution_count": 18,
     "metadata": {},
     "output_type": "execute_result"
    }
   ],
   "source": [
    "skaiciai"
   ]
  },
  {
   "cell_type": "code",
   "execution_count": 19,
   "metadata": {},
   "outputs": [
    {
     "data": {
      "text/plain": [
       "[0.2, 0.3, 0.5, 0.7, 1.1, 0.4, 0.9, 3.2, -1.7, 4.2, -3.3, 6.9]"
      ]
     },
     "execution_count": 19,
     "metadata": {},
     "output_type": "execute_result"
    }
   ],
   "source": [
    "div_10_skaiciai = [skaicius / 10 for skaicius in skaiciai]\n",
    "div_10_skaiciai"
   ]
  },
  {
   "cell_type": "code",
   "execution_count": 20,
   "metadata": {},
   "outputs": [
    {
     "data": {
      "text/plain": [
       "[2, 4, 32, 42]"
      ]
     },
     "execution_count": 20,
     "metadata": {},
     "output_type": "execute_result"
    }
   ],
   "source": [
    "lyg = [skaicius for skaicius in skaiciai if skaicius % 2 == 0]\n",
    "lyg"
   ]
  },
  {
   "cell_type": "code",
   "execution_count": 21,
   "metadata": {},
   "outputs": [
    {
     "data": {
      "text/plain": [
       "[2, 4, 32, 42]"
      ]
     },
     "execution_count": 21,
     "metadata": {},
     "output_type": "execute_result"
    }
   ],
   "source": [
    "salyga = lambda skaicius: skaicius % 2 == 0\n",
    "lyginiai = [skaicius for skaicius in skaiciai if salyga(skaicius)]\n",
    "lyginiai"
   ]
  },
  {
   "cell_type": "code",
   "execution_count": 22,
   "metadata": {},
   "outputs": [
    {
     "data": {
      "text/plain": [
       "[True,\n",
       " False,\n",
       " False,\n",
       " False,\n",
       " False,\n",
       " True,\n",
       " False,\n",
       " True,\n",
       " False,\n",
       " True,\n",
       " False,\n",
       " False]"
      ]
     },
     "execution_count": 22,
     "metadata": {},
     "output_type": "execute_result"
    }
   ],
   "source": [
    "ar_lyginiai = [skaicius % 2 == 0 for skaicius in skaiciai]\n",
    "ar_lyginiai"
   ]
  },
  {
   "cell_type": "code",
   "execution_count": 23,
   "metadata": {},
   "outputs": [
    {
     "data": {
      "text/plain": [
       "[4, 9, 25, 49, 121, 16, 81, 1024, 289, 1764, 1089, 4761]"
      ]
     },
     "execution_count": 23,
     "metadata": {},
     "output_type": "execute_result"
    }
   ],
   "source": [
    "kvadratai = [(lambda sk: sk ** 2)(x) for x in skaiciai]\n",
    "kvadratai"
   ]
  },
  {
   "cell_type": "code",
   "execution_count": 24,
   "metadata": {},
   "outputs": [
    {
     "data": {
      "text/plain": [
       "69"
      ]
     },
     "execution_count": 24,
     "metadata": {},
     "output_type": "execute_result"
    }
   ],
   "source": [
    "didziausias = reduce(lambda x, y: x if x > y else y, skaiciai)\n",
    "didziausias"
   ]
  },
  {
   "cell_type": "code",
   "execution_count": 28,
   "metadata": {},
   "outputs": [
    {
     "data": {
      "text/plain": [
       "<generator object <genexpr> at 0x000001CDBF448FB0>"
      ]
     },
     "execution_count": 28,
     "metadata": {},
     "output_type": "execute_result"
    }
   ],
   "source": [
    "nelygniniai = (sk for sk in skaiciai if sk % 2 != 0)\n",
    "nelygniniai"
   ]
  },
  {
   "cell_type": "code",
   "execution_count": 29,
   "metadata": {},
   "outputs": [
    {
     "name": "stdout",
     "output_type": "stream",
     "text": [
      "3 + 5 = 8\n",
      "8 + 7 = 15\n",
      "15 + 11 = 26\n",
      "26 + 9 = 35\n",
      "35 + -17 = 18\n",
      "18 + -33 = -15\n",
      "-15 + 69 = 54\n"
     ]
    }
   ],
   "source": [
    "nelyg_suma = reduce(sumuojam, nelygniniai)"
   ]
  },
  {
   "cell_type": "code",
   "execution_count": 30,
   "metadata": {},
   "outputs": [
    {
     "data": {
      "text/plain": [
       "134"
      ]
     },
     "execution_count": 30,
     "metadata": {},
     "output_type": "execute_result"
    }
   ],
   "source": [
    "sum(skaiciai)"
   ]
  },
  {
   "cell_type": "code",
   "execution_count": 33,
   "metadata": {},
   "outputs": [
    {
     "data": {
      "text/plain": [
       "11.166666666666666"
      ]
     },
     "execution_count": 33,
     "metadata": {},
     "output_type": "execute_result"
    }
   ],
   "source": [
    "import statistics\n",
    "\n",
    "statistics.mean(skaiciai)"
   ]
  },
  {
   "cell_type": "code",
   "execution_count": 36,
   "metadata": {},
   "outputs": [
    {
     "data": {
      "text/plain": [
       "[4, 9, 25, 49, 121, 16, 81, 1024, 289, 1764, 1089, 4761]"
      ]
     },
     "execution_count": 36,
     "metadata": {},
     "output_type": "execute_result"
    }
   ],
   "source": [
    "map_kvad = map(lambda x: x** 2, skaiciai)\n",
    "list(map_kvad)"
   ]
  },
  {
   "cell_type": "code",
   "execution_count": 41,
   "metadata": {},
   "outputs": [
    {
     "data": {
      "text/plain": [
       "[3, 5, 7, 11, 9, -17, -33, 69]"
      ]
     },
     "execution_count": 41,
     "metadata": {},
     "output_type": "execute_result"
    }
   ],
   "source": [
    "nelyginiai = filter(lambda x: x if x % 2 != 0 else None, skaiciai)\n",
    "list(nelyginiai)"
   ]
  },
  {
   "cell_type": "code",
   "execution_count": 55,
   "metadata": {},
   "outputs": [],
   "source": [
    "class Studentas:\n",
    "    def __init__(self, vardas, pavarde, pazymiai):\n",
    "        self.vardas = vardas\n",
    "        self.pavarde = pavarde\n",
    "        self.pazymiai = pazymiai\n",
    "\n",
    "    def vidurkis(self):\n",
    "        return sum(self.pazymiai) / len(self.pazymiai)\n",
    "    \n",
    "    def __str__(self) -> str:\n",
    "        return f\"{self.vardas} {self.pavarde}: {self.vidurkis():.1f}\"\n",
    "    \n",
    "    def __repr__(self) -> str:\n",
    "        return f\"({self.vardas}, {self.pavarde}, {self.vidurkis():.1f})\"\n",
    "\n",
    "studentai = [\n",
    "    Studentas(\"Jonas\", \"Jonaitis\", [8, 9, 7]),\n",
    "    Studentas(\"Petras\", \"Petraitis\", [10, 9, 10]),\n",
    "    Studentas(\"Kazys\", \"Petraitis\", [7, 2, 10, 6]),\n",
    "    Studentas(\"Ona\", \"Onaitė\", [6, 8, 7]),\n",
    "]\n"
   ]
  },
  {
   "cell_type": "code",
   "execution_count": 56,
   "metadata": {},
   "outputs": [
    {
     "name": "stdout",
     "output_type": "stream",
     "text": [
      "[(Petras, Petraitis, 9.7), (Jonas, Jonaitis, 8.0), (Ona, Onaitė, 7.0), (Kazys, Petraitis, 6.2)]\n"
     ]
    }
   ],
   "source": [
    "pirmunai = sorted(studentai, key=lambda x: x.vidurkis(), reverse=True)\n",
    "print(pirmunai)"
   ]
  },
  {
   "cell_type": "code",
   "execution_count": 57,
   "metadata": {},
   "outputs": [
    {
     "name": "stdout",
     "output_type": "stream",
     "text": [
      "[(Jonas, Jonaitis, 8.0), (Ona, Onaitė, 7.0), (Kazys, Petraitis, 6.2), (Petras, Petraitis, 9.7)]\n"
     ]
    }
   ],
   "source": [
    "from operator import attrgetter\n",
    "\n",
    "pagal_pavarde = sorted(studentai, key=attrgetter(\"pavarde\", \"vardas\"))\n",
    "print(pagal_pavarde)"
   ]
  }
 ],
 "metadata": {
  "kernelspec": {
   "display_name": "venv",
   "language": "python",
   "name": "python3"
  },
  "language_info": {
   "codemirror_mode": {
    "name": "ipython",
    "version": 3
   },
   "file_extension": ".py",
   "mimetype": "text/x-python",
   "name": "python",
   "nbconvert_exporter": "python",
   "pygments_lexer": "ipython3",
   "version": "3.11.7"
  }
 },
 "nbformat": 4,
 "nbformat_minor": 2
}
