{
 "cells": [
  {
   "cell_type": "code",
   "execution_count": null,
   "metadata": {},
   "outputs": [],
   "source": [
    "failas = open(\"labas.txt\", \"r\")\n",
    "for eilute in failas:\n",
    "    print(eilute, end=\"\")\n",
    "failas.close()"
   ]
  },
  {
   "cell_type": "code",
   "execution_count": null,
   "metadata": {},
   "outputs": [],
   "source": [
    "naujas_f = open(\"naujas.txt\", \"w\")\n",
    "\n",
    "naujas_f.close()"
   ]
  },
  {
   "cell_type": "code",
   "execution_count": null,
   "metadata": {},
   "outputs": [],
   "source": [
    "with open(\"datetime.ipynb\", \"r\") as dt_file:\n",
    "    for line in dt_file:\n",
    "        print(line, end=\"\")"
   ]
  },
  {
   "cell_type": "code",
   "execution_count": null,
   "metadata": {},
   "outputs": [],
   "source": [
    "with open(\"labas.txt\", \"r\") as labas_f:\n",
    "    print(type(labas_f))"
   ]
  },
  {
   "cell_type": "code",
   "execution_count": null,
   "metadata": {},
   "outputs": [],
   "source": [
    "with open(\"labas.txt\", \"r\") as labas_f:\n",
    "    line = labas_f.readline()\n",
    "    while len(line) > 0:\n",
    "        print(line, end='')\n",
    "        line = labas_f.readline()"
   ]
  },
  {
   "cell_type": "code",
   "execution_count": null,
   "metadata": {},
   "outputs": [],
   "source": [
    "with open(\"labas.txt\", \"r\") as labas_f:\n",
    "    lines = labas_f.readlines()\n",
    "    print(type(lines))\n",
    "    print(lines)"
   ]
  },
  {
   "cell_type": "code",
   "execution_count": null,
   "metadata": {},
   "outputs": [],
   "source": [
    "with open(\"labas.txt\", \"r\") as labas_f:\n",
    "    viskas = labas_f.read()\n",
    "    print(viskas)"
   ]
  },
  {
   "cell_type": "code",
   "execution_count": null,
   "metadata": {},
   "outputs": [],
   "source": [
    "with open(\"datetime.ipynb\", \"r\") as dt_file:\n",
    "    while True:\n",
    "        buffer = dt_file.read(100)\n",
    "        if not buffer:\n",
    "            break\n",
    "        print(buffer, end='')\n",
    "        print(len(buffer), buffer)"
   ]
  },
  {
   "cell_type": "code",
   "execution_count": 25,
   "metadata": {},
   "outputs": [
    {
     "name": "stdout",
     "output_type": "stream",
     "text": [
      "0\n",
      "100\n",
      "{\n",
      " \"cells\": [\n",
      "  {\n",
      "   \"cell_type\": \"code\",\n",
      "   \"execution_count\": 1,\n",
      "   \"metadata\": {},\n",
      "   \"outputs\": \n"
     ]
    }
   ],
   "source": [
    "with open(\"datetime.ipynb\", \"r\") as dt_file:\n",
    "    pozicija = dt_file.tell()\n",
    "    print(pozicija)\n",
    "    buffer = dt_file.read(100)\n",
    "    nauja_pozicija = dt_file.tell()\n",
    "    print(nauja_pozicija)\n",
    "    print(buffer)"
   ]
  },
  {
   "cell_type": "code",
   "execution_count": 26,
   "metadata": {},
   "outputs": [
    {
     "name": "stdout",
     "output_type": "stream",
     "text": [
      "150\n",
      "ution_count\": 1,\n",
      "   \"metadata\": {},\n",
      "   \"outputs\": [],\n",
      "   \"source\": [\n",
      "    \"from datetime import datet\n"
     ]
    }
   ],
   "source": [
    "with open(\"datetime.ipynb\", \"r\") as dt_file:\n",
    "    dt_file.seek(50)\n",
    "    buffer = dt_file.read(100)\n",
    "    nauja_pozicija = dt_file.tell()\n",
    "    print(nauja_pozicija)\n",
    "    print(buffer)"
   ]
  },
  {
   "cell_type": "code",
   "execution_count": 29,
   "metadata": {},
   "outputs": [
    {
     "name": "stdout",
     "output_type": "stream",
     "text": [
      "Sveiki, kaip sekasi?\n"
     ]
    }
   ],
   "source": [
    "with open(\"naujas.txt\", \"w\") as naujas_f:\n",
    "    naujas_f.write(\"Sveiki, kaip sekasi?\")\n",
    "with open(\"naujas.txt\", \"r\") as naujas_f:\n",
    "    rezultatas = naujas_f.read()\n",
    "    print(rezultatas)"
   ]
  },
  {
   "cell_type": "code",
   "execution_count": 31,
   "metadata": {},
   "outputs": [],
   "source": [
    "daiktai = [\"greblys\\n\", \"tankas\\n\", \"kibiras\\n\", \"akmuo\\n\"]\n",
    "with open(\"daiktai.txt\", \"w\") as daiktu_f:\n",
    "    daiktu_f.writelines(daiktai)\n"
   ]
  },
  {
   "cell_type": "code",
   "execution_count": 34,
   "metadata": {},
   "outputs": [
    {
     "name": "stdout",
     "output_type": "stream",
     "text": [
      "42\n"
     ]
    }
   ],
   "source": [
    "with open(\"daiktai.txt\", \"a\") as daiktu_f:\n",
    "    print(daiktu_f.tell())\n",
    "    # daiktu_f.write(\"dangtis\\n\")\n"
   ]
  },
  {
   "cell_type": "code",
   "execution_count": 39,
   "metadata": {},
   "outputs": [
    {
     "name": "stdout",
     "output_type": "stream",
     "text": [
      "Pradinis turinys:\n",
      " Poperius\n",
      "ankas\n",
      "kibiras\n",
      "akmuo\n",
      "dangtis\n",
      "\n",
      "\n",
      "Pakeistas:\n",
      " Poperiux\n",
      "ankas\n",
      "kibiras\n",
      "akmuo\n",
      "dangtis\n",
      "\n"
     ]
    }
   ],
   "source": [
    "with open(\"daiktai.txt\", \"r+\") as failas:\n",
    "    # Skaitymas\n",
    "    turinys = failas.read()\n",
    "    print(\"Pradinis turinys:\\n\", turinys)\n",
    "\n",
    "    # Rašymas\n",
    "    failas.seek(0)\n",
    "    failas.write(\"Poperiux\\n\")\n",
    "\n",
    "    failas.seek(0)\n",
    "    turinys = failas.read()\n",
    "    print(\"\\nPakeistas:\\n\", turinys)\n"
   ]
  },
  {
   "cell_type": "code",
   "execution_count": 42,
   "metadata": {},
   "outputs": [
    {
     "name": "stdout",
     "output_type": "stream",
     "text": [
      "18\n",
      "Poperiux\n",
      "Tankas\n",
      "kibaaaa\n",
      "akmuo\n",
      "dangtis\n",
      "\n"
     ]
    }
   ],
   "source": [
    "with open(\"daiktai.txt\", \"r+\") as failas:\n",
    "    visi = failas.read()\n",
    "    kur_kibiras = visi.find(\"kibiras\") + visi.count(\"\\n\", 0, visi.find(\"kibiras\"))\n",
    "    print(kur_kibiras)\n",
    "    failas.seek(kur_kibiras + 3)\n",
    "    failas.write(\"aaaa\")\n",
    "    failas.seek(0)\n",
    "    visi = failas.read()\n",
    "    print(visi)"
   ]
  },
  {
   "cell_type": "code",
   "execution_count": 43,
   "metadata": {},
   "outputs": [],
   "source": [
    "import json"
   ]
  },
  {
   "cell_type": "code",
   "execution_count": 44,
   "metadata": {},
   "outputs": [
    {
     "name": "stdout",
     "output_type": "stream",
     "text": [
      "{\"vardas\": \"Jonas\", \"pavard\\u0117\": \"Kibirinis\", \"am\\u017eius\": 40}\n"
     ]
    }
   ],
   "source": [
    "zmogus = {\n",
    "    \"vardas\": \"Jonas\",\n",
    "    \"pavardė\": \"Kibirinis\",\n",
    "    \"amžius\": 40,\n",
    "}\n",
    "print(json.dumps(zmogus))"
   ]
  },
  {
   "cell_type": "code",
   "execution_count": 45,
   "metadata": {},
   "outputs": [],
   "source": [
    "with open(\"zmogus.json\", \"w\", encoding=\"utf-8\") as zmogaus_f:\n",
    "    json.dump(zmogus, zmogaus_f)\n"
   ]
  },
  {
   "cell_type": "code",
   "execution_count": 46,
   "metadata": {},
   "outputs": [
    {
     "name": "stdout",
     "output_type": "stream",
     "text": [
      "{'vardas': 'Jonas', 'amžius': 30, 'ar_studentas': False, 'pomėgiai': ['knygos', 'filmai', 'kelionės'], 'adresas': {'gatvė': 'Vytauto g. 10', 'miestas': 'Vilnius', 'šalis': 'Lietuva'}}\n"
     ]
    }
   ],
   "source": [
    "with open(\"asmuo.json\", \"r\", encoding=\"utf-8\") as asmens_f:\n",
    "    asmuo = json.load(asmens_f)\n",
    "\n",
    "print(asmuo)"
   ]
  },
  {
   "cell_type": "code",
   "execution_count": 49,
   "metadata": {},
   "outputs": [
    {
     "name": "stdout",
     "output_type": "stream",
     "text": [
      "{'vardas': 'Kazys', 'batų dydis': 46}\n"
     ]
    }
   ],
   "source": [
    "json_data = '{\"vardas\": \"Kazys\", \"batų dydis\": 46}'\n",
    "kazys = json.loads(json_data)\n",
    "print(kazys)"
   ]
  },
  {
   "cell_type": "code",
   "execution_count": 1,
   "metadata": {},
   "outputs": [],
   "source": [
    "with open(\"image.webp\", \"rb\") as input_file:\n",
    "    file_data = input_file.read()\n",
    "\n",
    "with open(\"ai_guy.webp\", \"wb\") as output_file:\n",
    "    output_file.write(file_data)"
   ]
  },
  {
   "cell_type": "code",
   "execution_count": 4,
   "metadata": {},
   "outputs": [
    {
     "data": {
      "text/plain": [
       "970850"
      ]
     },
     "execution_count": 4,
     "metadata": {},
     "output_type": "execute_result"
    }
   ],
   "source": [
    "len(file_data)"
   ]
  },
  {
   "cell_type": "code",
   "execution_count": 5,
   "metadata": {},
   "outputs": [],
   "source": [
    "import pickle"
   ]
  }
 ],
 "metadata": {
  "kernelspec": {
   "display_name": "venv",
   "language": "python",
   "name": "python3"
  },
  "language_info": {
   "codemirror_mode": {
    "name": "ipython",
    "version": 3
   },
   "file_extension": ".py",
   "mimetype": "text/x-python",
   "name": "python",
   "nbconvert_exporter": "python",
   "pygments_lexer": "ipython3",
   "version": "3.11.7"
  }
 },
 "nbformat": 4,
 "nbformat_minor": 2
}
