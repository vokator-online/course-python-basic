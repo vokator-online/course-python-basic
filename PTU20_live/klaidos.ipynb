{
 "cells": [
  {
   "cell_type": "code",
   "execution_count": 9,
   "metadata": {},
   "outputs": [
    {
     "name": "stdout",
     "output_type": "stream",
     "text": [
      "klaida\n"
     ]
    }
   ],
   "source": [
    "try:\n",
    "    rez = 10 / \"5\"\n",
    "except Exception:\n",
    "    print('klaida')\n",
    "else:\n",
    "    print(rez)"
   ]
  },
  {
   "cell_type": "code",
   "execution_count": 15,
   "metadata": {},
   "outputs": [
    {
     "name": "stdout",
     "output_type": "stream",
     "text": [
      "2.0\n",
      "baigem dalinti\n"
     ]
    }
   ],
   "source": [
    "try:\n",
    "    rez = 10 / 5\n",
    "except ZeroDivisionError:\n",
    "    print('klaida: negalima dalinti iš nulio')\n",
    "except TypeError:\n",
    "    print('klaida: netinkamas kintamojo tipas')\n",
    "except Exception as error:\n",
    "    print(f'klaida: {error.__class__}')\n",
    "else:\n",
    "    print(rez)\n",
    "finally:\n",
    "    print('baigem dalinti')"
   ]
  },
  {
   "cell_type": "code",
   "execution_count": 23,
   "metadata": {},
   "outputs": [
    {
     "name": "stdout",
     "output_type": "stream",
     "text": [
      "Kestas, 40 metų\n",
      "Jonas, 58 metų\n",
      "Koks skirtumas, 333 metų\n"
     ]
    }
   ],
   "source": [
    "import pickle\n",
    "from zmogus import Zmogus\n",
    "\n",
    "try:\n",
    "    with open(\"zmones.pkl\", \"rb\") as zmoniu_failas:\n",
    "        zmones = pickle.load(zmoniu_failas)\n",
    "except Exception as error:\n",
    "    zmones = []\n",
    "    print(f'Nepavyko atidaryti failo, klaida {error.__class__}: {error}')\n",
    "else:\n",
    "    for zmogus in zmones:\n",
    "        print(zmogus)\n"
   ]
  }
 ],
 "metadata": {
  "kernelspec": {
   "display_name": "venv",
   "language": "python",
   "name": "python3"
  },
  "language_info": {
   "codemirror_mode": {
    "name": "ipython",
    "version": 3
   },
   "file_extension": ".py",
   "mimetype": "text/x-python",
   "name": "python",
   "nbconvert_exporter": "python",
   "pygments_lexer": "ipython3",
   "version": "3.11.7"
  }
 },
 "nbformat": 4,
 "nbformat_minor": 2
}
