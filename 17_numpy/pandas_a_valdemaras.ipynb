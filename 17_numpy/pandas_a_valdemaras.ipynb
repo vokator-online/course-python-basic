{
 "cells": [
  {
   "cell_type": "markdown",
   "metadata": {},
   "source": [
    "# Pandas"
   ]
  },
  {
   "cell_type": "markdown",
   "metadata": {},
   "source": [
    "Pandas yra duomenų analizės biblioteka, sukurta NumPy pagrindu. Pandas yra pagrindinis įrankis Python aplinkoje, skirtas duomenų analizei, išvalymui ir paruošimui. Pandas pasižymi sparta ir produktyvumu. Galima dirbti su duomenimis iš įvairių šaltinių. "
   ]
  },
  {
   "cell_type": "markdown",
   "metadata": {},
   "source": [
    "Pandas diegiasi *conda install pandas* arba *pip install pandas*"
   ]
  },
  {
   "cell_type": "code",
   "execution_count": 18,
   "metadata": {},
   "outputs": [],
   "source": [
    "import numpy as np\n",
    "import pandas as pd"
   ]
  },
  {
   "cell_type": "code",
   "execution_count": 19,
   "metadata": {},
   "outputs": [
    {
     "name": "stdout",
     "output_type": "stream",
     "text": [
      "('vardas', 'pavarde', 'amzius') ('Geras', 'Zmogelis', 33)\n"
     ]
    }
   ],
   "source": [
    "labels = ('vardas', 'pavarde', 'amzius')\n",
    "zmogus = ('Geras', 'Zmogelis', 33)\n",
    "print(labels, zmogus)"
   ]
  },
  {
   "cell_type": "code",
   "execution_count": 20,
   "metadata": {},
   "outputs": [
    {
     "data": {
      "text/plain": [
       "0       Geras\n",
       "1    Zmogelis\n",
       "2          33\n",
       "dtype: object"
      ]
     },
     "execution_count": 20,
     "metadata": {},
     "output_type": "execute_result"
    }
   ],
   "source": [
    "pd.Series(data=zmogus)"
   ]
  },
  {
   "cell_type": "code",
   "execution_count": 21,
   "metadata": {},
   "outputs": [],
   "source": [
    "zmogus_dict = {\n",
    "    'vrdas': 'Smagus',\n",
    "    'pavarde': 'Giedriukas',\n",
    "    'amzius': 36\n",
    "}"
   ]
  },
  {
   "cell_type": "code",
   "execution_count": 22,
   "metadata": {},
   "outputs": [],
   "source": [
    "zmogus_pd = pd.Series(zmogus_dict)"
   ]
  },
  {
   "cell_type": "code",
   "execution_count": 23,
   "metadata": {},
   "outputs": [
    {
     "data": {
      "text/plain": [
       "vardas        Geras\n",
       "pavarde    Zmogelis\n",
       "amzius           33\n",
       "dtype: object"
      ]
     },
     "execution_count": 23,
     "metadata": {},
     "output_type": "execute_result"
    }
   ],
   "source": [
    "pd.Series(zmogus, labels)"
   ]
  },
  {
   "cell_type": "code",
   "execution_count": 24,
   "metadata": {},
   "outputs": [
    {
     "data": {
      "text/plain": [
       "36"
      ]
     },
     "execution_count": 24,
     "metadata": {},
     "output_type": "execute_result"
    }
   ],
   "source": [
    "zmogus_pd['amzius']"
   ]
  },
  {
   "cell_type": "code",
   "execution_count": 25,
   "metadata": {},
   "outputs": [],
   "source": [
    "miestai = pd.Series((500, 400, 300, 200), ('Vilnius', 'Kaunas', 'Klaipėda', 'Šiauliai'))"
   ]
  },
  {
   "cell_type": "code",
   "execution_count": 26,
   "metadata": {},
   "outputs": [],
   "source": [
    "augimas = pd.Series((1.5, 1.3, 0.9, 0.7), ('Vilnius', 'Kaunas', 'Klaipėda', 'Šiauliai'))"
   ]
  },
  {
   "cell_type": "code",
   "execution_count": 27,
   "metadata": {},
   "outputs": [
    {
     "data": {
      "text/plain": [
       "Vilnius     750.0\n",
       "Kaunas      520.0\n",
       "Klaipėda    270.0\n",
       "Šiauliai    140.0\n",
       "dtype: float64"
      ]
     },
     "execution_count": 27,
     "metadata": {},
     "output_type": "execute_result"
    }
   ],
   "source": [
    "miestai * augimas"
   ]
  },
  {
   "cell_type": "markdown",
   "metadata": {},
   "source": [
    "# Serijos\n"
   ]
  },
  {
   "cell_type": "markdown",
   "metadata": {},
   "source": [
    "Serijos (*Series*) yra smulkus pandas duomenų darinys, sukurtas ant NumPy array pagrindo. "
   ]
  },
  {
   "cell_type": "code",
   "execution_count": 28,
   "metadata": {},
   "outputs": [
    {
     "data": {
      "text/plain": [
       "0    20\n",
       "1    30\n",
       "2    40\n",
       "dtype: int64"
      ]
     },
     "execution_count": 28,
     "metadata": {},
     "output_type": "execute_result"
    }
   ],
   "source": [
    "labels = ['x', 'y', 'z']\n",
    "data = [20, 30, 40]\n",
    "pd.Series(data=data)"
   ]
  },
  {
   "cell_type": "markdown",
   "metadata": {},
   "source": [
    "Matyti, kad nuo įprastų masyvų, pandas serija skiriasi tuo, kad turi indeksaciją. Vienas iš parametrų, kuriuos galime perduoti kurdami seriją yra index."
   ]
  },
  {
   "cell_type": "code",
   "execution_count": 29,
   "metadata": {},
   "outputs": [
    {
     "data": {
      "text/plain": [
       "x    20\n",
       "y    30\n",
       "z    40\n",
       "dtype: int64"
      ]
     },
     "execution_count": 29,
     "metadata": {},
     "output_type": "execute_result"
    }
   ],
   "source": [
    "pd.Series(data=data, index=labels)"
   ]
  },
  {
   "cell_type": "markdown",
   "metadata": {},
   "source": [
    "Pandas series galima kurti ir su python žodynais:"
   ]
  },
  {
   "cell_type": "code",
   "execution_count": 30,
   "metadata": {},
   "outputs": [
    {
     "data": {
      "text/plain": [
       "x    20\n",
       "y    30\n",
       "z    40\n",
       "dtype: int64"
      ]
     },
     "execution_count": 30,
     "metadata": {},
     "output_type": "execute_result"
    }
   ],
   "source": [
    "zodynas = {'x':20, 'y':30, 'z':40}\n",
    "pd.Series(zodynas)"
   ]
  },
  {
   "cell_type": "markdown",
   "metadata": {},
   "source": [
    "**Reikšmės traukimas iš serijos**"
   ]
  },
  {
   "cell_type": "code",
   "execution_count": 31,
   "metadata": {},
   "outputs": [],
   "source": [
    "serija = pd.Series([1,2,3,4,5], ['Vilnius', 'Kaunas', 'Klaipėda', 'Panevėžys', 'Šiauliai'])\n",
    "# atkreipkite dėmesį, kad duomenis galima sudėti nebūtinai nurodant parametro pavadinimą."
   ]
  },
  {
   "cell_type": "code",
   "execution_count": 32,
   "metadata": {},
   "outputs": [
    {
     "data": {
      "text/plain": [
       "Vilnius      1\n",
       "Kaunas       2\n",
       "Klaipėda     3\n",
       "Panevėžys    4\n",
       "Šiauliai     5\n",
       "dtype: int64"
      ]
     },
     "execution_count": 32,
     "metadata": {},
     "output_type": "execute_result"
    }
   ],
   "source": [
    "serija\n"
   ]
  },
  {
   "cell_type": "code",
   "execution_count": 33,
   "metadata": {},
   "outputs": [
    {
     "data": {
      "text/plain": [
       "1"
      ]
     },
     "execution_count": 33,
     "metadata": {},
     "output_type": "execute_result"
    }
   ],
   "source": [
    "serija['Vilnius']"
   ]
  },
  {
   "cell_type": "markdown",
   "metadata": {},
   "source": [
    "**Operacijos su serijomis**"
   ]
  },
  {
   "cell_type": "code",
   "execution_count": 34,
   "metadata": {},
   "outputs": [],
   "source": [
    "serija2 = pd.Series([1,2,3,4,5], ['Vilnius', 'Kaunas', 'Lentvaris', 'Šiauliai', 'Klaipėda'])"
   ]
  },
  {
   "cell_type": "code",
   "execution_count": 35,
   "metadata": {},
   "outputs": [
    {
     "data": {
      "text/plain": [
       "Vilnius      1\n",
       "Kaunas       2\n",
       "Lentvaris    3\n",
       "Šiauliai     4\n",
       "Klaipėda     5\n",
       "dtype: int64"
      ]
     },
     "execution_count": 35,
     "metadata": {},
     "output_type": "execute_result"
    }
   ],
   "source": [
    "serija2"
   ]
  },
  {
   "cell_type": "markdown",
   "metadata": {},
   "source": [
    "naudojant sudėtį, pandas pagal galimybes bandys sumuoti reikšmes:"
   ]
  },
  {
   "cell_type": "code",
   "execution_count": 36,
   "metadata": {},
   "outputs": [
    {
     "data": {
      "text/plain": [
       "Kaunas       4.0\n",
       "Klaipėda     8.0\n",
       "Lentvaris    NaN\n",
       "Panevėžys    NaN\n",
       "Vilnius      2.0\n",
       "Šiauliai     9.0\n",
       "dtype: float64"
      ]
     },
     "execution_count": 36,
     "metadata": {},
     "output_type": "execute_result"
    }
   ],
   "source": [
    "serija + serija2"
   ]
  },
  {
   "cell_type": "markdown",
   "metadata": {},
   "source": [
    "Ten, kur pandos negalėjo atlikti sudėties veiksmo, sugeneravo NaN - *not a number*. Tiek Pandas, tiek NumPy mėgsta integer reikšmes versti į float, kad išlaikytų kiek įmanoma tikslesnę informaciją."
   ]
  },
  {
   "cell_type": "markdown",
   "metadata": {},
   "source": [
    "# DataFrames"
   ]
  },
  {
   "cell_type": "markdown",
   "metadata": {},
   "source": [
    "DataFrames yra pagrindinis pandas operacijų objektas. Jeigu norime susikurti naują DF, reikia į parametrus perduoti *data*, *index*, *columns*: "
   ]
  },
  {
   "cell_type": "code",
   "execution_count": 37,
   "metadata": {},
   "outputs": [],
   "source": [
    "betko7x7 = np.random.randint(10, 100, (7, 7))"
   ]
  },
  {
   "cell_type": "code",
   "execution_count": 38,
   "metadata": {},
   "outputs": [],
   "source": [
    "df = pd.DataFrame(np.random.rand(5,6), \n",
    "                  ['a', 'b', 'c', 'd', 'e'], \n",
    "                  ['U', 'V', 'W', 'X', 'Y', 'Z'])"
   ]
  },
  {
   "cell_type": "code",
   "execution_count": 39,
   "metadata": {},
   "outputs": [
    {
     "data": {
      "text/html": [
       "<div>\n",
       "<style scoped>\n",
       "    .dataframe tbody tr th:only-of-type {\n",
       "        vertical-align: middle;\n",
       "    }\n",
       "\n",
       "    .dataframe tbody tr th {\n",
       "        vertical-align: top;\n",
       "    }\n",
       "\n",
       "    .dataframe thead th {\n",
       "        text-align: right;\n",
       "    }\n",
       "</style>\n",
       "<table border=\"1\" class=\"dataframe\">\n",
       "  <thead>\n",
       "    <tr style=\"text-align: right;\">\n",
       "      <th></th>\n",
       "      <th>U</th>\n",
       "      <th>V</th>\n",
       "      <th>W</th>\n",
       "      <th>X</th>\n",
       "      <th>Y</th>\n",
       "      <th>Z</th>\n",
       "    </tr>\n",
       "  </thead>\n",
       "  <tbody>\n",
       "    <tr>\n",
       "      <th>a</th>\n",
       "      <td>0.863571</td>\n",
       "      <td>0.883254</td>\n",
       "      <td>0.787205</td>\n",
       "      <td>0.672174</td>\n",
       "      <td>0.751997</td>\n",
       "      <td>0.922455</td>\n",
       "    </tr>\n",
       "    <tr>\n",
       "      <th>b</th>\n",
       "      <td>0.932546</td>\n",
       "      <td>0.317620</td>\n",
       "      <td>0.241403</td>\n",
       "      <td>0.912207</td>\n",
       "      <td>0.715740</td>\n",
       "      <td>0.373847</td>\n",
       "    </tr>\n",
       "    <tr>\n",
       "      <th>c</th>\n",
       "      <td>0.543049</td>\n",
       "      <td>0.683090</td>\n",
       "      <td>0.839093</td>\n",
       "      <td>0.282489</td>\n",
       "      <td>0.622360</td>\n",
       "      <td>0.111230</td>\n",
       "    </tr>\n",
       "    <tr>\n",
       "      <th>d</th>\n",
       "      <td>0.492632</td>\n",
       "      <td>0.405244</td>\n",
       "      <td>0.093171</td>\n",
       "      <td>0.502899</td>\n",
       "      <td>0.473212</td>\n",
       "      <td>0.618707</td>\n",
       "    </tr>\n",
       "    <tr>\n",
       "      <th>e</th>\n",
       "      <td>0.765506</td>\n",
       "      <td>0.752538</td>\n",
       "      <td>0.280722</td>\n",
       "      <td>0.570152</td>\n",
       "      <td>0.128662</td>\n",
       "      <td>0.903604</td>\n",
       "    </tr>\n",
       "  </tbody>\n",
       "</table>\n",
       "</div>"
      ],
      "text/plain": [
       "          U         V         W         X         Y         Z\n",
       "a  0.863571  0.883254  0.787205  0.672174  0.751997  0.922455\n",
       "b  0.932546  0.317620  0.241403  0.912207  0.715740  0.373847\n",
       "c  0.543049  0.683090  0.839093  0.282489  0.622360  0.111230\n",
       "d  0.492632  0.405244  0.093171  0.502899  0.473212  0.618707\n",
       "e  0.765506  0.752538  0.280722  0.570152  0.128662  0.903604"
      ]
     },
     "execution_count": 39,
     "metadata": {},
     "output_type": "execute_result"
    }
   ],
   "source": [
    "df      "
   ]
  },
  {
   "cell_type": "markdown",
   "metadata": {},
   "source": [
    "Kiekvienas stulpelis yra pandas serija, jos tarpusavyje dalijasi indeksais (a, b, c, d, e), pvz.:"
   ]
  },
  {
   "cell_type": "code",
   "execution_count": 40,
   "metadata": {},
   "outputs": [
    {
     "data": {
      "text/plain": [
       "a    0.863571\n",
       "b    0.932546\n",
       "c    0.543049\n",
       "d    0.492632\n",
       "e    0.765506\n",
       "Name: U, dtype: float64"
      ]
     },
     "execution_count": 40,
     "metadata": {},
     "output_type": "execute_result"
    }
   ],
   "source": [
    "df['U']"
   ]
  },
  {
   "cell_type": "code",
   "execution_count": 41,
   "metadata": {},
   "outputs": [
    {
     "data": {
      "text/plain": [
       "pandas.core.series.Series"
      ]
     },
     "execution_count": 41,
     "metadata": {},
     "output_type": "execute_result"
    }
   ],
   "source": [
    "type(df['U'])"
   ]
  },
  {
   "cell_type": "markdown",
   "metadata": {},
   "source": [
    "**Jei norime daugiau stulpelių:**"
   ]
  },
  {
   "cell_type": "code",
   "execution_count": 42,
   "metadata": {},
   "outputs": [
    {
     "data": {
      "text/html": [
       "<div>\n",
       "<style scoped>\n",
       "    .dataframe tbody tr th:only-of-type {\n",
       "        vertical-align: middle;\n",
       "    }\n",
       "\n",
       "    .dataframe tbody tr th {\n",
       "        vertical-align: top;\n",
       "    }\n",
       "\n",
       "    .dataframe thead th {\n",
       "        text-align: right;\n",
       "    }\n",
       "</style>\n",
       "<table border=\"1\" class=\"dataframe\">\n",
       "  <thead>\n",
       "    <tr style=\"text-align: right;\">\n",
       "      <th></th>\n",
       "      <th>U</th>\n",
       "      <th>Y</th>\n",
       "      <th>Z</th>\n",
       "    </tr>\n",
       "  </thead>\n",
       "  <tbody>\n",
       "    <tr>\n",
       "      <th>a</th>\n",
       "      <td>0.863571</td>\n",
       "      <td>0.751997</td>\n",
       "      <td>0.922455</td>\n",
       "    </tr>\n",
       "    <tr>\n",
       "      <th>b</th>\n",
       "      <td>0.932546</td>\n",
       "      <td>0.715740</td>\n",
       "      <td>0.373847</td>\n",
       "    </tr>\n",
       "    <tr>\n",
       "      <th>c</th>\n",
       "      <td>0.543049</td>\n",
       "      <td>0.622360</td>\n",
       "      <td>0.111230</td>\n",
       "    </tr>\n",
       "    <tr>\n",
       "      <th>d</th>\n",
       "      <td>0.492632</td>\n",
       "      <td>0.473212</td>\n",
       "      <td>0.618707</td>\n",
       "    </tr>\n",
       "    <tr>\n",
       "      <th>e</th>\n",
       "      <td>0.765506</td>\n",
       "      <td>0.128662</td>\n",
       "      <td>0.903604</td>\n",
       "    </tr>\n",
       "  </tbody>\n",
       "</table>\n",
       "</div>"
      ],
      "text/plain": [
       "          U         Y         Z\n",
       "a  0.863571  0.751997  0.922455\n",
       "b  0.932546  0.715740  0.373847\n",
       "c  0.543049  0.622360  0.111230\n",
       "d  0.492632  0.473212  0.618707\n",
       "e  0.765506  0.128662  0.903604"
      ]
     },
     "execution_count": 42,
     "metadata": {},
     "output_type": "execute_result"
    }
   ],
   "source": [
    "df[['U', 'Y', 'Z']]"
   ]
  },
  {
   "cell_type": "markdown",
   "metadata": {},
   "source": [
    "**Naujo stulpelio sukūrimas**"
   ]
  },
  {
   "cell_type": "code",
   "execution_count": 43,
   "metadata": {},
   "outputs": [],
   "source": [
    "df['naujas'] = [1, 2, 3, 4, 5]"
   ]
  },
  {
   "cell_type": "code",
   "execution_count": 44,
   "metadata": {},
   "outputs": [
    {
     "data": {
      "text/html": [
       "<div>\n",
       "<style scoped>\n",
       "    .dataframe tbody tr th:only-of-type {\n",
       "        vertical-align: middle;\n",
       "    }\n",
       "\n",
       "    .dataframe tbody tr th {\n",
       "        vertical-align: top;\n",
       "    }\n",
       "\n",
       "    .dataframe thead th {\n",
       "        text-align: right;\n",
       "    }\n",
       "</style>\n",
       "<table border=\"1\" class=\"dataframe\">\n",
       "  <thead>\n",
       "    <tr style=\"text-align: right;\">\n",
       "      <th></th>\n",
       "      <th>U</th>\n",
       "      <th>V</th>\n",
       "      <th>W</th>\n",
       "      <th>X</th>\n",
       "      <th>Y</th>\n",
       "      <th>Z</th>\n",
       "      <th>naujas</th>\n",
       "    </tr>\n",
       "  </thead>\n",
       "  <tbody>\n",
       "    <tr>\n",
       "      <th>a</th>\n",
       "      <td>0.863571</td>\n",
       "      <td>0.883254</td>\n",
       "      <td>0.787205</td>\n",
       "      <td>0.672174</td>\n",
       "      <td>0.751997</td>\n",
       "      <td>0.922455</td>\n",
       "      <td>1</td>\n",
       "    </tr>\n",
       "    <tr>\n",
       "      <th>b</th>\n",
       "      <td>0.932546</td>\n",
       "      <td>0.317620</td>\n",
       "      <td>0.241403</td>\n",
       "      <td>0.912207</td>\n",
       "      <td>0.715740</td>\n",
       "      <td>0.373847</td>\n",
       "      <td>2</td>\n",
       "    </tr>\n",
       "    <tr>\n",
       "      <th>c</th>\n",
       "      <td>0.543049</td>\n",
       "      <td>0.683090</td>\n",
       "      <td>0.839093</td>\n",
       "      <td>0.282489</td>\n",
       "      <td>0.622360</td>\n",
       "      <td>0.111230</td>\n",
       "      <td>3</td>\n",
       "    </tr>\n",
       "    <tr>\n",
       "      <th>d</th>\n",
       "      <td>0.492632</td>\n",
       "      <td>0.405244</td>\n",
       "      <td>0.093171</td>\n",
       "      <td>0.502899</td>\n",
       "      <td>0.473212</td>\n",
       "      <td>0.618707</td>\n",
       "      <td>4</td>\n",
       "    </tr>\n",
       "    <tr>\n",
       "      <th>e</th>\n",
       "      <td>0.765506</td>\n",
       "      <td>0.752538</td>\n",
       "      <td>0.280722</td>\n",
       "      <td>0.570152</td>\n",
       "      <td>0.128662</td>\n",
       "      <td>0.903604</td>\n",
       "      <td>5</td>\n",
       "    </tr>\n",
       "  </tbody>\n",
       "</table>\n",
       "</div>"
      ],
      "text/plain": [
       "          U         V         W         X         Y         Z  naujas\n",
       "a  0.863571  0.883254  0.787205  0.672174  0.751997  0.922455       1\n",
       "b  0.932546  0.317620  0.241403  0.912207  0.715740  0.373847       2\n",
       "c  0.543049  0.683090  0.839093  0.282489  0.622360  0.111230       3\n",
       "d  0.492632  0.405244  0.093171  0.502899  0.473212  0.618707       4\n",
       "e  0.765506  0.752538  0.280722  0.570152  0.128662  0.903604       5"
      ]
     },
     "execution_count": 44,
     "metadata": {},
     "output_type": "execute_result"
    }
   ],
   "source": [
    "df"
   ]
  },
  {
   "cell_type": "markdown",
   "metadata": {},
   "source": [
    "**Stulpelio ištrynimas**"
   ]
  },
  {
   "cell_type": "code",
   "execution_count": 45,
   "metadata": {},
   "outputs": [
    {
     "data": {
      "text/html": [
       "<div>\n",
       "<style scoped>\n",
       "    .dataframe tbody tr th:only-of-type {\n",
       "        vertical-align: middle;\n",
       "    }\n",
       "\n",
       "    .dataframe tbody tr th {\n",
       "        vertical-align: top;\n",
       "    }\n",
       "\n",
       "    .dataframe thead th {\n",
       "        text-align: right;\n",
       "    }\n",
       "</style>\n",
       "<table border=\"1\" class=\"dataframe\">\n",
       "  <thead>\n",
       "    <tr style=\"text-align: right;\">\n",
       "      <th></th>\n",
       "      <th>U</th>\n",
       "      <th>V</th>\n",
       "      <th>W</th>\n",
       "      <th>X</th>\n",
       "      <th>Y</th>\n",
       "      <th>Z</th>\n",
       "    </tr>\n",
       "  </thead>\n",
       "  <tbody>\n",
       "    <tr>\n",
       "      <th>a</th>\n",
       "      <td>0.863571</td>\n",
       "      <td>0.883254</td>\n",
       "      <td>0.787205</td>\n",
       "      <td>0.672174</td>\n",
       "      <td>0.751997</td>\n",
       "      <td>0.922455</td>\n",
       "    </tr>\n",
       "    <tr>\n",
       "      <th>b</th>\n",
       "      <td>0.932546</td>\n",
       "      <td>0.317620</td>\n",
       "      <td>0.241403</td>\n",
       "      <td>0.912207</td>\n",
       "      <td>0.715740</td>\n",
       "      <td>0.373847</td>\n",
       "    </tr>\n",
       "    <tr>\n",
       "      <th>c</th>\n",
       "      <td>0.543049</td>\n",
       "      <td>0.683090</td>\n",
       "      <td>0.839093</td>\n",
       "      <td>0.282489</td>\n",
       "      <td>0.622360</td>\n",
       "      <td>0.111230</td>\n",
       "    </tr>\n",
       "    <tr>\n",
       "      <th>d</th>\n",
       "      <td>0.492632</td>\n",
       "      <td>0.405244</td>\n",
       "      <td>0.093171</td>\n",
       "      <td>0.502899</td>\n",
       "      <td>0.473212</td>\n",
       "      <td>0.618707</td>\n",
       "    </tr>\n",
       "    <tr>\n",
       "      <th>e</th>\n",
       "      <td>0.765506</td>\n",
       "      <td>0.752538</td>\n",
       "      <td>0.280722</td>\n",
       "      <td>0.570152</td>\n",
       "      <td>0.128662</td>\n",
       "      <td>0.903604</td>\n",
       "    </tr>\n",
       "  </tbody>\n",
       "</table>\n",
       "</div>"
      ],
      "text/plain": [
       "          U         V         W         X         Y         Z\n",
       "a  0.863571  0.883254  0.787205  0.672174  0.751997  0.922455\n",
       "b  0.932546  0.317620  0.241403  0.912207  0.715740  0.373847\n",
       "c  0.543049  0.683090  0.839093  0.282489  0.622360  0.111230\n",
       "d  0.492632  0.405244  0.093171  0.502899  0.473212  0.618707\n",
       "e  0.765506  0.752538  0.280722  0.570152  0.128662  0.903604"
      ]
     },
     "execution_count": 45,
     "metadata": {},
     "output_type": "execute_result"
    }
   ],
   "source": [
    "df.drop('naujas', axis=1)"
   ]
  },
  {
   "cell_type": "markdown",
   "metadata": {},
   "source": [
    "axis=0 reikštų, kad atliekame veiksmą su eilute. 1 tuo tarpu reiškia stulpelį."
   ]
  },
  {
   "cell_type": "markdown",
   "metadata": {},
   "source": [
    "**Inplace parametras**"
   ]
  },
  {
   "cell_type": "markdown",
   "metadata": {},
   "source": [
    "paskutinis mūsų veiksmas originalaus šaltinio nepakeitė, jeigu dabar išsikviesime df, matysime, kad jis koks buvo, toks ir liko: "
   ]
  },
  {
   "cell_type": "code",
   "execution_count": 46,
   "metadata": {},
   "outputs": [
    {
     "data": {
      "text/html": [
       "<div>\n",
       "<style scoped>\n",
       "    .dataframe tbody tr th:only-of-type {\n",
       "        vertical-align: middle;\n",
       "    }\n",
       "\n",
       "    .dataframe tbody tr th {\n",
       "        vertical-align: top;\n",
       "    }\n",
       "\n",
       "    .dataframe thead th {\n",
       "        text-align: right;\n",
       "    }\n",
       "</style>\n",
       "<table border=\"1\" class=\"dataframe\">\n",
       "  <thead>\n",
       "    <tr style=\"text-align: right;\">\n",
       "      <th></th>\n",
       "      <th>U</th>\n",
       "      <th>V</th>\n",
       "      <th>W</th>\n",
       "      <th>X</th>\n",
       "      <th>Y</th>\n",
       "      <th>Z</th>\n",
       "      <th>naujas</th>\n",
       "    </tr>\n",
       "  </thead>\n",
       "  <tbody>\n",
       "    <tr>\n",
       "      <th>a</th>\n",
       "      <td>0.863571</td>\n",
       "      <td>0.883254</td>\n",
       "      <td>0.787205</td>\n",
       "      <td>0.672174</td>\n",
       "      <td>0.751997</td>\n",
       "      <td>0.922455</td>\n",
       "      <td>1</td>\n",
       "    </tr>\n",
       "    <tr>\n",
       "      <th>b</th>\n",
       "      <td>0.932546</td>\n",
       "      <td>0.317620</td>\n",
       "      <td>0.241403</td>\n",
       "      <td>0.912207</td>\n",
       "      <td>0.715740</td>\n",
       "      <td>0.373847</td>\n",
       "      <td>2</td>\n",
       "    </tr>\n",
       "    <tr>\n",
       "      <th>c</th>\n",
       "      <td>0.543049</td>\n",
       "      <td>0.683090</td>\n",
       "      <td>0.839093</td>\n",
       "      <td>0.282489</td>\n",
       "      <td>0.622360</td>\n",
       "      <td>0.111230</td>\n",
       "      <td>3</td>\n",
       "    </tr>\n",
       "    <tr>\n",
       "      <th>d</th>\n",
       "      <td>0.492632</td>\n",
       "      <td>0.405244</td>\n",
       "      <td>0.093171</td>\n",
       "      <td>0.502899</td>\n",
       "      <td>0.473212</td>\n",
       "      <td>0.618707</td>\n",
       "      <td>4</td>\n",
       "    </tr>\n",
       "    <tr>\n",
       "      <th>e</th>\n",
       "      <td>0.765506</td>\n",
       "      <td>0.752538</td>\n",
       "      <td>0.280722</td>\n",
       "      <td>0.570152</td>\n",
       "      <td>0.128662</td>\n",
       "      <td>0.903604</td>\n",
       "      <td>5</td>\n",
       "    </tr>\n",
       "  </tbody>\n",
       "</table>\n",
       "</div>"
      ],
      "text/plain": [
       "          U         V         W         X         Y         Z  naujas\n",
       "a  0.863571  0.883254  0.787205  0.672174  0.751997  0.922455       1\n",
       "b  0.932546  0.317620  0.241403  0.912207  0.715740  0.373847       2\n",
       "c  0.543049  0.683090  0.839093  0.282489  0.622360  0.111230       3\n",
       "d  0.492632  0.405244  0.093171  0.502899  0.473212  0.618707       4\n",
       "e  0.765506  0.752538  0.280722  0.570152  0.128662  0.903604       5"
      ]
     },
     "execution_count": 46,
     "metadata": {},
     "output_type": "execute_result"
    }
   ],
   "source": [
    "df"
   ]
  },
  {
   "cell_type": "markdown",
   "metadata": {},
   "source": [
    "norėdami pakeisti originalą, turime nurodyti parametrą inplace=True:"
   ]
  },
  {
   "cell_type": "code",
   "execution_count": 47,
   "metadata": {},
   "outputs": [],
   "source": [
    "df.drop('naujas', axis=1, inplace=True)"
   ]
  },
  {
   "cell_type": "code",
   "execution_count": 48,
   "metadata": {},
   "outputs": [
    {
     "data": {
      "text/html": [
       "<div>\n",
       "<style scoped>\n",
       "    .dataframe tbody tr th:only-of-type {\n",
       "        vertical-align: middle;\n",
       "    }\n",
       "\n",
       "    .dataframe tbody tr th {\n",
       "        vertical-align: top;\n",
       "    }\n",
       "\n",
       "    .dataframe thead th {\n",
       "        text-align: right;\n",
       "    }\n",
       "</style>\n",
       "<table border=\"1\" class=\"dataframe\">\n",
       "  <thead>\n",
       "    <tr style=\"text-align: right;\">\n",
       "      <th></th>\n",
       "      <th>U</th>\n",
       "      <th>V</th>\n",
       "      <th>W</th>\n",
       "      <th>X</th>\n",
       "      <th>Y</th>\n",
       "      <th>Z</th>\n",
       "    </tr>\n",
       "  </thead>\n",
       "  <tbody>\n",
       "    <tr>\n",
       "      <th>a</th>\n",
       "      <td>0.863571</td>\n",
       "      <td>0.883254</td>\n",
       "      <td>0.787205</td>\n",
       "      <td>0.672174</td>\n",
       "      <td>0.751997</td>\n",
       "      <td>0.922455</td>\n",
       "    </tr>\n",
       "    <tr>\n",
       "      <th>b</th>\n",
       "      <td>0.932546</td>\n",
       "      <td>0.317620</td>\n",
       "      <td>0.241403</td>\n",
       "      <td>0.912207</td>\n",
       "      <td>0.715740</td>\n",
       "      <td>0.373847</td>\n",
       "    </tr>\n",
       "    <tr>\n",
       "      <th>c</th>\n",
       "      <td>0.543049</td>\n",
       "      <td>0.683090</td>\n",
       "      <td>0.839093</td>\n",
       "      <td>0.282489</td>\n",
       "      <td>0.622360</td>\n",
       "      <td>0.111230</td>\n",
       "    </tr>\n",
       "    <tr>\n",
       "      <th>d</th>\n",
       "      <td>0.492632</td>\n",
       "      <td>0.405244</td>\n",
       "      <td>0.093171</td>\n",
       "      <td>0.502899</td>\n",
       "      <td>0.473212</td>\n",
       "      <td>0.618707</td>\n",
       "    </tr>\n",
       "    <tr>\n",
       "      <th>e</th>\n",
       "      <td>0.765506</td>\n",
       "      <td>0.752538</td>\n",
       "      <td>0.280722</td>\n",
       "      <td>0.570152</td>\n",
       "      <td>0.128662</td>\n",
       "      <td>0.903604</td>\n",
       "    </tr>\n",
       "  </tbody>\n",
       "</table>\n",
       "</div>"
      ],
      "text/plain": [
       "          U         V         W         X         Y         Z\n",
       "a  0.863571  0.883254  0.787205  0.672174  0.751997  0.922455\n",
       "b  0.932546  0.317620  0.241403  0.912207  0.715740  0.373847\n",
       "c  0.543049  0.683090  0.839093  0.282489  0.622360  0.111230\n",
       "d  0.492632  0.405244  0.093171  0.502899  0.473212  0.618707\n",
       "e  0.765506  0.752538  0.280722  0.570152  0.128662  0.903604"
      ]
     },
     "execution_count": 48,
     "metadata": {},
     "output_type": "execute_result"
    }
   ],
   "source": [
    "df"
   ]
  },
  {
   "cell_type": "markdown",
   "metadata": {},
   "source": [
    "*inplace* parametras apsaugo mus nuo netyčinio duomenų sugadinimo"
   ]
  },
  {
   "cell_type": "markdown",
   "metadata": {},
   "source": [
    "**Pabandykime ištrinti eilutę:**"
   ]
  },
  {
   "cell_type": "code",
   "execution_count": 49,
   "metadata": {},
   "outputs": [
    {
     "data": {
      "text/html": [
       "<div>\n",
       "<style scoped>\n",
       "    .dataframe tbody tr th:only-of-type {\n",
       "        vertical-align: middle;\n",
       "    }\n",
       "\n",
       "    .dataframe tbody tr th {\n",
       "        vertical-align: top;\n",
       "    }\n",
       "\n",
       "    .dataframe thead th {\n",
       "        text-align: right;\n",
       "    }\n",
       "</style>\n",
       "<table border=\"1\" class=\"dataframe\">\n",
       "  <thead>\n",
       "    <tr style=\"text-align: right;\">\n",
       "      <th></th>\n",
       "      <th>U</th>\n",
       "      <th>V</th>\n",
       "      <th>W</th>\n",
       "      <th>X</th>\n",
       "      <th>Y</th>\n",
       "      <th>Z</th>\n",
       "    </tr>\n",
       "  </thead>\n",
       "  <tbody>\n",
       "    <tr>\n",
       "      <th>a</th>\n",
       "      <td>0.863571</td>\n",
       "      <td>0.883254</td>\n",
       "      <td>0.787205</td>\n",
       "      <td>0.672174</td>\n",
       "      <td>0.751997</td>\n",
       "      <td>0.922455</td>\n",
       "    </tr>\n",
       "    <tr>\n",
       "      <th>b</th>\n",
       "      <td>0.932546</td>\n",
       "      <td>0.317620</td>\n",
       "      <td>0.241403</td>\n",
       "      <td>0.912207</td>\n",
       "      <td>0.715740</td>\n",
       "      <td>0.373847</td>\n",
       "    </tr>\n",
       "    <tr>\n",
       "      <th>c</th>\n",
       "      <td>0.543049</td>\n",
       "      <td>0.683090</td>\n",
       "      <td>0.839093</td>\n",
       "      <td>0.282489</td>\n",
       "      <td>0.622360</td>\n",
       "      <td>0.111230</td>\n",
       "    </tr>\n",
       "    <tr>\n",
       "      <th>d</th>\n",
       "      <td>0.492632</td>\n",
       "      <td>0.405244</td>\n",
       "      <td>0.093171</td>\n",
       "      <td>0.502899</td>\n",
       "      <td>0.473212</td>\n",
       "      <td>0.618707</td>\n",
       "    </tr>\n",
       "  </tbody>\n",
       "</table>\n",
       "</div>"
      ],
      "text/plain": [
       "          U         V         W         X         Y         Z\n",
       "a  0.863571  0.883254  0.787205  0.672174  0.751997  0.922455\n",
       "b  0.932546  0.317620  0.241403  0.912207  0.715740  0.373847\n",
       "c  0.543049  0.683090  0.839093  0.282489  0.622360  0.111230\n",
       "d  0.492632  0.405244  0.093171  0.502899  0.473212  0.618707"
      ]
     },
     "execution_count": 49,
     "metadata": {},
     "output_type": "execute_result"
    }
   ],
   "source": [
    "df.drop('e')"
   ]
  },
  {
   "cell_type": "markdown",
   "metadata": {},
   "source": [
    "trinant eilutę parametro axis=0 nurodyti nebūtina, tai yra *default* reikšmė"
   ]
  },
  {
   "cell_type": "markdown",
   "metadata": {},
   "source": [
    "**Eilučių traukimas**"
   ]
  },
  {
   "cell_type": "code",
   "execution_count": 50,
   "metadata": {},
   "outputs": [
    {
     "data": {
      "text/plain": [
       "U    0.765506\n",
       "V    0.752538\n",
       "W    0.280722\n",
       "X    0.570152\n",
       "Y    0.128662\n",
       "Z    0.903604\n",
       "Name: e, dtype: float64"
      ]
     },
     "execution_count": 50,
     "metadata": {},
     "output_type": "execute_result"
    }
   ],
   "source": [
    "df.loc['e']"
   ]
  },
  {
   "cell_type": "markdown",
   "metadata": {},
   "source": [
    "eilutes galime traukti ir pagal indeksą:"
   ]
  },
  {
   "cell_type": "code",
   "execution_count": 51,
   "metadata": {},
   "outputs": [
    {
     "data": {
      "text/plain": [
       "U    0.765506\n",
       "V    0.752538\n",
       "W    0.280722\n",
       "X    0.570152\n",
       "Y    0.128662\n",
       "Z    0.903604\n",
       "Name: e, dtype: float64"
      ]
     },
     "execution_count": 51,
     "metadata": {},
     "output_type": "execute_result"
    }
   ],
   "source": [
    "df.iloc[4]"
   ]
  },
  {
   "cell_type": "markdown",
   "metadata": {},
   "source": [
    "**Subsets**"
   ]
  },
  {
   "cell_type": "markdown",
   "metadata": {},
   "source": [
    "jeigu norime pavienės reikšmės iš lentelės:"
   ]
  },
  {
   "cell_type": "code",
   "execution_count": 52,
   "metadata": {},
   "outputs": [
    {
     "data": {
      "text/plain": [
       "0.11122976520584293"
      ]
     },
     "execution_count": 52,
     "metadata": {},
     "output_type": "execute_result"
    }
   ],
   "source": [
    "df.loc['c', 'Z']"
   ]
  },
  {
   "cell_type": "markdown",
   "metadata": {},
   "source": [
    "jeigu norime fragmento iš eilučių ir stulpelių (*subset*):"
   ]
  },
  {
   "cell_type": "code",
   "execution_count": 53,
   "metadata": {},
   "outputs": [
    {
     "data": {
      "text/html": [
       "<div>\n",
       "<style scoped>\n",
       "    .dataframe tbody tr th:only-of-type {\n",
       "        vertical-align: middle;\n",
       "    }\n",
       "\n",
       "    .dataframe tbody tr th {\n",
       "        vertical-align: top;\n",
       "    }\n",
       "\n",
       "    .dataframe thead th {\n",
       "        text-align: right;\n",
       "    }\n",
       "</style>\n",
       "<table border=\"1\" class=\"dataframe\">\n",
       "  <thead>\n",
       "    <tr style=\"text-align: right;\">\n",
       "      <th></th>\n",
       "      <th>U</th>\n",
       "      <th>V</th>\n",
       "      <th>Z</th>\n",
       "    </tr>\n",
       "  </thead>\n",
       "  <tbody>\n",
       "    <tr>\n",
       "      <th>a</th>\n",
       "      <td>0.863571</td>\n",
       "      <td>0.883254</td>\n",
       "      <td>0.922455</td>\n",
       "    </tr>\n",
       "    <tr>\n",
       "      <th>c</th>\n",
       "      <td>0.543049</td>\n",
       "      <td>0.683090</td>\n",
       "      <td>0.111230</td>\n",
       "    </tr>\n",
       "  </tbody>\n",
       "</table>\n",
       "</div>"
      ],
      "text/plain": [
       "          U         V         Z\n",
       "a  0.863571  0.883254  0.922455\n",
       "c  0.543049  0.683090  0.111230"
      ]
     },
     "execution_count": 53,
     "metadata": {},
     "output_type": "execute_result"
    }
   ],
   "source": [
    "df.loc[['a', 'c'], ['U', 'V', 'Z']]"
   ]
  },
  {
   "cell_type": "markdown",
   "metadata": {},
   "source": [
    "**Duomenų traukimas pagal sąlygą:**"
   ]
  },
  {
   "cell_type": "markdown",
   "metadata": {},
   "source": [
    "duomenų traukimas pagal sąlygą yra labai panašus, kaip ir numPy:"
   ]
  },
  {
   "cell_type": "code",
   "execution_count": 54,
   "metadata": {},
   "outputs": [
    {
     "data": {
      "text/html": [
       "<div>\n",
       "<style scoped>\n",
       "    .dataframe tbody tr th:only-of-type {\n",
       "        vertical-align: middle;\n",
       "    }\n",
       "\n",
       "    .dataframe tbody tr th {\n",
       "        vertical-align: top;\n",
       "    }\n",
       "\n",
       "    .dataframe thead th {\n",
       "        text-align: right;\n",
       "    }\n",
       "</style>\n",
       "<table border=\"1\" class=\"dataframe\">\n",
       "  <thead>\n",
       "    <tr style=\"text-align: right;\">\n",
       "      <th></th>\n",
       "      <th>U</th>\n",
       "      <th>V</th>\n",
       "      <th>W</th>\n",
       "      <th>X</th>\n",
       "      <th>Y</th>\n",
       "      <th>Z</th>\n",
       "    </tr>\n",
       "  </thead>\n",
       "  <tbody>\n",
       "    <tr>\n",
       "      <th>a</th>\n",
       "      <td>0.863571</td>\n",
       "      <td>0.883254</td>\n",
       "      <td>0.787205</td>\n",
       "      <td>0.672174</td>\n",
       "      <td>0.751997</td>\n",
       "      <td>0.922455</td>\n",
       "    </tr>\n",
       "    <tr>\n",
       "      <th>b</th>\n",
       "      <td>0.932546</td>\n",
       "      <td>0.317620</td>\n",
       "      <td>0.241403</td>\n",
       "      <td>0.912207</td>\n",
       "      <td>0.715740</td>\n",
       "      <td>0.373847</td>\n",
       "    </tr>\n",
       "    <tr>\n",
       "      <th>c</th>\n",
       "      <td>0.543049</td>\n",
       "      <td>0.683090</td>\n",
       "      <td>0.839093</td>\n",
       "      <td>0.282489</td>\n",
       "      <td>0.622360</td>\n",
       "      <td>0.111230</td>\n",
       "    </tr>\n",
       "    <tr>\n",
       "      <th>d</th>\n",
       "      <td>0.492632</td>\n",
       "      <td>0.405244</td>\n",
       "      <td>0.093171</td>\n",
       "      <td>0.502899</td>\n",
       "      <td>0.473212</td>\n",
       "      <td>0.618707</td>\n",
       "    </tr>\n",
       "    <tr>\n",
       "      <th>e</th>\n",
       "      <td>0.765506</td>\n",
       "      <td>0.752538</td>\n",
       "      <td>0.280722</td>\n",
       "      <td>0.570152</td>\n",
       "      <td>0.128662</td>\n",
       "      <td>0.903604</td>\n",
       "    </tr>\n",
       "  </tbody>\n",
       "</table>\n",
       "</div>"
      ],
      "text/plain": [
       "          U         V         W         X         Y         Z\n",
       "a  0.863571  0.883254  0.787205  0.672174  0.751997  0.922455\n",
       "b  0.932546  0.317620  0.241403  0.912207  0.715740  0.373847\n",
       "c  0.543049  0.683090  0.839093  0.282489  0.622360  0.111230\n",
       "d  0.492632  0.405244  0.093171  0.502899  0.473212  0.618707\n",
       "e  0.765506  0.752538  0.280722  0.570152  0.128662  0.903604"
      ]
     },
     "execution_count": 54,
     "metadata": {},
     "output_type": "execute_result"
    }
   ],
   "source": [
    "df"
   ]
  },
  {
   "cell_type": "code",
   "execution_count": 55,
   "metadata": {},
   "outputs": [
    {
     "data": {
      "text/html": [
       "<div>\n",
       "<style scoped>\n",
       "    .dataframe tbody tr th:only-of-type {\n",
       "        vertical-align: middle;\n",
       "    }\n",
       "\n",
       "    .dataframe tbody tr th {\n",
       "        vertical-align: top;\n",
       "    }\n",
       "\n",
       "    .dataframe thead th {\n",
       "        text-align: right;\n",
       "    }\n",
       "</style>\n",
       "<table border=\"1\" class=\"dataframe\">\n",
       "  <thead>\n",
       "    <tr style=\"text-align: right;\">\n",
       "      <th></th>\n",
       "      <th>U</th>\n",
       "      <th>V</th>\n",
       "      <th>W</th>\n",
       "      <th>X</th>\n",
       "      <th>Y</th>\n",
       "      <th>Z</th>\n",
       "    </tr>\n",
       "  </thead>\n",
       "  <tbody>\n",
       "    <tr>\n",
       "      <th>a</th>\n",
       "      <td>0.863571</td>\n",
       "      <td>0.883254</td>\n",
       "      <td>0.787205</td>\n",
       "      <td>0.672174</td>\n",
       "      <td>0.751997</td>\n",
       "      <td>0.922455</td>\n",
       "    </tr>\n",
       "    <tr>\n",
       "      <th>b</th>\n",
       "      <td>0.932546</td>\n",
       "      <td>NaN</td>\n",
       "      <td>NaN</td>\n",
       "      <td>0.912207</td>\n",
       "      <td>0.715740</td>\n",
       "      <td>NaN</td>\n",
       "    </tr>\n",
       "    <tr>\n",
       "      <th>c</th>\n",
       "      <td>0.543049</td>\n",
       "      <td>0.683090</td>\n",
       "      <td>0.839093</td>\n",
       "      <td>NaN</td>\n",
       "      <td>0.622360</td>\n",
       "      <td>NaN</td>\n",
       "    </tr>\n",
       "    <tr>\n",
       "      <th>d</th>\n",
       "      <td>0.492632</td>\n",
       "      <td>0.405244</td>\n",
       "      <td>NaN</td>\n",
       "      <td>0.502899</td>\n",
       "      <td>0.473212</td>\n",
       "      <td>0.618707</td>\n",
       "    </tr>\n",
       "    <tr>\n",
       "      <th>e</th>\n",
       "      <td>0.765506</td>\n",
       "      <td>0.752538</td>\n",
       "      <td>NaN</td>\n",
       "      <td>0.570152</td>\n",
       "      <td>NaN</td>\n",
       "      <td>0.903604</td>\n",
       "    </tr>\n",
       "  </tbody>\n",
       "</table>\n",
       "</div>"
      ],
      "text/plain": [
       "          U         V         W         X         Y         Z\n",
       "a  0.863571  0.883254  0.787205  0.672174  0.751997  0.922455\n",
       "b  0.932546       NaN       NaN  0.912207  0.715740       NaN\n",
       "c  0.543049  0.683090  0.839093       NaN  0.622360       NaN\n",
       "d  0.492632  0.405244       NaN  0.502899  0.473212  0.618707\n",
       "e  0.765506  0.752538       NaN  0.570152       NaN  0.903604"
      ]
     },
     "execution_count": 55,
     "metadata": {},
     "output_type": "execute_result"
    }
   ],
   "source": [
    "df[df>0.4] "
   ]
  },
  {
   "cell_type": "markdown",
   "metadata": {},
   "source": [
    "kur reikšmės atitinką sąlygą, turime reikšmes, kur neatitinka - NaN."
   ]
  },
  {
   "cell_type": "markdown",
   "metadata": {},
   "source": [
    "jeigu prireiktų subset'o, kur stulpelio 'W' reikšmės yra > 0.5:"
   ]
  },
  {
   "cell_type": "code",
   "execution_count": 56,
   "metadata": {},
   "outputs": [
    {
     "data": {
      "text/html": [
       "<div>\n",
       "<style scoped>\n",
       "    .dataframe tbody tr th:only-of-type {\n",
       "        vertical-align: middle;\n",
       "    }\n",
       "\n",
       "    .dataframe tbody tr th {\n",
       "        vertical-align: top;\n",
       "    }\n",
       "\n",
       "    .dataframe thead th {\n",
       "        text-align: right;\n",
       "    }\n",
       "</style>\n",
       "<table border=\"1\" class=\"dataframe\">\n",
       "  <thead>\n",
       "    <tr style=\"text-align: right;\">\n",
       "      <th></th>\n",
       "      <th>U</th>\n",
       "      <th>V</th>\n",
       "      <th>W</th>\n",
       "      <th>X</th>\n",
       "      <th>Y</th>\n",
       "      <th>Z</th>\n",
       "    </tr>\n",
       "  </thead>\n",
       "  <tbody>\n",
       "    <tr>\n",
       "      <th>a</th>\n",
       "      <td>0.863571</td>\n",
       "      <td>0.883254</td>\n",
       "      <td>0.787205</td>\n",
       "      <td>0.672174</td>\n",
       "      <td>0.751997</td>\n",
       "      <td>0.922455</td>\n",
       "    </tr>\n",
       "    <tr>\n",
       "      <th>c</th>\n",
       "      <td>0.543049</td>\n",
       "      <td>0.683090</td>\n",
       "      <td>0.839093</td>\n",
       "      <td>0.282489</td>\n",
       "      <td>0.622360</td>\n",
       "      <td>0.111230</td>\n",
       "    </tr>\n",
       "  </tbody>\n",
       "</table>\n",
       "</div>"
      ],
      "text/plain": [
       "          U         V         W         X         Y         Z\n",
       "a  0.863571  0.883254  0.787205  0.672174  0.751997  0.922455\n",
       "c  0.543049  0.683090  0.839093  0.282489  0.622360  0.111230"
      ]
     },
     "execution_count": 56,
     "metadata": {},
     "output_type": "execute_result"
    }
   ],
   "source": [
    "df[df['W']>0.5]"
   ]
  },
  {
   "cell_type": "markdown",
   "metadata": {},
   "source": [
    "Skirtumas tarp šių operacijų toks, kad kai sąlygą taikome visam DataFrame'ui, gauname tą patį DataFrame su NaN reikšmėmis, tose vietose, kur originalios reikšmės neatitinka sąlygos. Kai sąlygą taikome stulpeliams, gauname tik tas eilutes, kurios atitinka sąlygą, t.y. vykdome filtravimą."
   ]
  },
  {
   "cell_type": "markdown",
   "metadata": {},
   "source": [
    "**Užklausų kombinavimas**"
   ]
  },
  {
   "cell_type": "code",
   "execution_count": 57,
   "metadata": {},
   "outputs": [
    {
     "data": {
      "text/html": [
       "<div>\n",
       "<style scoped>\n",
       "    .dataframe tbody tr th:only-of-type {\n",
       "        vertical-align: middle;\n",
       "    }\n",
       "\n",
       "    .dataframe tbody tr th {\n",
       "        vertical-align: top;\n",
       "    }\n",
       "\n",
       "    .dataframe thead th {\n",
       "        text-align: right;\n",
       "    }\n",
       "</style>\n",
       "<table border=\"1\" class=\"dataframe\">\n",
       "  <thead>\n",
       "    <tr style=\"text-align: right;\">\n",
       "      <th></th>\n",
       "      <th>U</th>\n",
       "      <th>W</th>\n",
       "      <th>Z</th>\n",
       "    </tr>\n",
       "  </thead>\n",
       "  <tbody>\n",
       "    <tr>\n",
       "      <th>a</th>\n",
       "      <td>0.863571</td>\n",
       "      <td>0.787205</td>\n",
       "      <td>0.922455</td>\n",
       "    </tr>\n",
       "    <tr>\n",
       "      <th>c</th>\n",
       "      <td>0.543049</td>\n",
       "      <td>0.839093</td>\n",
       "      <td>0.111230</td>\n",
       "    </tr>\n",
       "  </tbody>\n",
       "</table>\n",
       "</div>"
      ],
      "text/plain": [
       "          U         W         Z\n",
       "a  0.863571  0.787205  0.922455\n",
       "c  0.543049  0.839093  0.111230"
      ]
     },
     "execution_count": 57,
     "metadata": {},
     "output_type": "execute_result"
    }
   ],
   "source": [
    "df[df['W']>0.5][['U', 'W', 'Z']]"
   ]
  },
  {
   "cell_type": "markdown",
   "metadata": {},
   "source": [
    "šiame pavyzdyje gauname rezultatą, kokį gautumėm paeiliui ivykdę dvi atskiras eilutes: *df1 = df[df['W']>0.5], df1[['U', 'W', 'Z']]*. Užklausų kombinavimas leidžia mums nekurti atmintyje papildomų kintamųjų (kaip šiuo atveju *df1*)."
   ]
  },
  {
   "cell_type": "markdown",
   "metadata": {},
   "source": [
    "**Sąlygų kombinavimas**"
   ]
  },
  {
   "cell_type": "code",
   "execution_count": 58,
   "metadata": {},
   "outputs": [
    {
     "data": {
      "text/html": [
       "<div>\n",
       "<style scoped>\n",
       "    .dataframe tbody tr th:only-of-type {\n",
       "        vertical-align: middle;\n",
       "    }\n",
       "\n",
       "    .dataframe tbody tr th {\n",
       "        vertical-align: top;\n",
       "    }\n",
       "\n",
       "    .dataframe thead th {\n",
       "        text-align: right;\n",
       "    }\n",
       "</style>\n",
       "<table border=\"1\" class=\"dataframe\">\n",
       "  <thead>\n",
       "    <tr style=\"text-align: right;\">\n",
       "      <th></th>\n",
       "      <th>U</th>\n",
       "      <th>V</th>\n",
       "      <th>W</th>\n",
       "      <th>X</th>\n",
       "      <th>Y</th>\n",
       "      <th>Z</th>\n",
       "    </tr>\n",
       "  </thead>\n",
       "  <tbody>\n",
       "    <tr>\n",
       "      <th>a</th>\n",
       "      <td>0.863571</td>\n",
       "      <td>0.883254</td>\n",
       "      <td>0.787205</td>\n",
       "      <td>0.672174</td>\n",
       "      <td>0.751997</td>\n",
       "      <td>0.922455</td>\n",
       "    </tr>\n",
       "    <tr>\n",
       "      <th>b</th>\n",
       "      <td>0.932546</td>\n",
       "      <td>0.317620</td>\n",
       "      <td>0.241403</td>\n",
       "      <td>0.912207</td>\n",
       "      <td>0.715740</td>\n",
       "      <td>0.373847</td>\n",
       "    </tr>\n",
       "    <tr>\n",
       "      <th>c</th>\n",
       "      <td>0.543049</td>\n",
       "      <td>0.683090</td>\n",
       "      <td>0.839093</td>\n",
       "      <td>0.282489</td>\n",
       "      <td>0.622360</td>\n",
       "      <td>0.111230</td>\n",
       "    </tr>\n",
       "    <tr>\n",
       "      <th>d</th>\n",
       "      <td>0.492632</td>\n",
       "      <td>0.405244</td>\n",
       "      <td>0.093171</td>\n",
       "      <td>0.502899</td>\n",
       "      <td>0.473212</td>\n",
       "      <td>0.618707</td>\n",
       "    </tr>\n",
       "    <tr>\n",
       "      <th>e</th>\n",
       "      <td>0.765506</td>\n",
       "      <td>0.752538</td>\n",
       "      <td>0.280722</td>\n",
       "      <td>0.570152</td>\n",
       "      <td>0.128662</td>\n",
       "      <td>0.903604</td>\n",
       "    </tr>\n",
       "  </tbody>\n",
       "</table>\n",
       "</div>"
      ],
      "text/plain": [
       "          U         V         W         X         Y         Z\n",
       "a  0.863571  0.883254  0.787205  0.672174  0.751997  0.922455\n",
       "b  0.932546  0.317620  0.241403  0.912207  0.715740  0.373847\n",
       "c  0.543049  0.683090  0.839093  0.282489  0.622360  0.111230\n",
       "d  0.492632  0.405244  0.093171  0.502899  0.473212  0.618707\n",
       "e  0.765506  0.752538  0.280722  0.570152  0.128662  0.903604"
      ]
     },
     "execution_count": 58,
     "metadata": {},
     "output_type": "execute_result"
    }
   ],
   "source": [
    "df"
   ]
  },
  {
   "cell_type": "code",
   "execution_count": 59,
   "metadata": {},
   "outputs": [
    {
     "data": {
      "text/html": [
       "<div>\n",
       "<style scoped>\n",
       "    .dataframe tbody tr th:only-of-type {\n",
       "        vertical-align: middle;\n",
       "    }\n",
       "\n",
       "    .dataframe tbody tr th {\n",
       "        vertical-align: top;\n",
       "    }\n",
       "\n",
       "    .dataframe thead th {\n",
       "        text-align: right;\n",
       "    }\n",
       "</style>\n",
       "<table border=\"1\" class=\"dataframe\">\n",
       "  <thead>\n",
       "    <tr style=\"text-align: right;\">\n",
       "      <th></th>\n",
       "      <th>U</th>\n",
       "      <th>V</th>\n",
       "      <th>W</th>\n",
       "      <th>X</th>\n",
       "      <th>Y</th>\n",
       "      <th>Z</th>\n",
       "    </tr>\n",
       "  </thead>\n",
       "  <tbody>\n",
       "    <tr>\n",
       "      <th>b</th>\n",
       "      <td>0.932546</td>\n",
       "      <td>0.31762</td>\n",
       "      <td>0.241403</td>\n",
       "      <td>0.912207</td>\n",
       "      <td>0.71574</td>\n",
       "      <td>0.373847</td>\n",
       "    </tr>\n",
       "    <tr>\n",
       "      <th>c</th>\n",
       "      <td>0.543049</td>\n",
       "      <td>0.68309</td>\n",
       "      <td>0.839093</td>\n",
       "      <td>0.282489</td>\n",
       "      <td>0.62236</td>\n",
       "      <td>0.111230</td>\n",
       "    </tr>\n",
       "  </tbody>\n",
       "</table>\n",
       "</div>"
      ],
      "text/plain": [
       "          U        V         W         X        Y         Z\n",
       "b  0.932546  0.31762  0.241403  0.912207  0.71574  0.373847\n",
       "c  0.543049  0.68309  0.839093  0.282489  0.62236  0.111230"
      ]
     },
     "execution_count": 59,
     "metadata": {},
     "output_type": "execute_result"
    }
   ],
   "source": [
    "df[(df['U']>0.5) & (df['Z']<0.5)]"
   ]
  },
  {
   "cell_type": "markdown",
   "metadata": {},
   "source": [
    "gavome tas eilutes, kuriose U stulpelyje reikšmės didesnės, o Z stulpelyje mažesnės už 0.5."
   ]
  },
  {
   "cell_type": "code",
   "execution_count": 60,
   "metadata": {},
   "outputs": [
    {
     "data": {
      "text/html": [
       "<div>\n",
       "<style scoped>\n",
       "    .dataframe tbody tr th:only-of-type {\n",
       "        vertical-align: middle;\n",
       "    }\n",
       "\n",
       "    .dataframe tbody tr th {\n",
       "        vertical-align: top;\n",
       "    }\n",
       "\n",
       "    .dataframe thead th {\n",
       "        text-align: right;\n",
       "    }\n",
       "</style>\n",
       "<table border=\"1\" class=\"dataframe\">\n",
       "  <thead>\n",
       "    <tr style=\"text-align: right;\">\n",
       "      <th></th>\n",
       "      <th>U</th>\n",
       "      <th>Z</th>\n",
       "    </tr>\n",
       "  </thead>\n",
       "  <tbody>\n",
       "    <tr>\n",
       "      <th>b</th>\n",
       "      <td>0.932546</td>\n",
       "      <td>0.373847</td>\n",
       "    </tr>\n",
       "    <tr>\n",
       "      <th>c</th>\n",
       "      <td>0.543049</td>\n",
       "      <td>0.111230</td>\n",
       "    </tr>\n",
       "  </tbody>\n",
       "</table>\n",
       "</div>"
      ],
      "text/plain": [
       "          U         Z\n",
       "b  0.932546  0.373847\n",
       "c  0.543049  0.111230"
      ]
     },
     "execution_count": 60,
     "metadata": {},
     "output_type": "execute_result"
    }
   ],
   "source": [
    "df[(df['U']>0.5) & (df['Z']<0.5)][['U', 'Z']]"
   ]
  },
  {
   "cell_type": "markdown",
   "metadata": {},
   "source": [
    "Čia sukombinavome dvi sąlygas ir iš rezultato paprašėme tik 2jų stulpelių"
   ]
  },
  {
   "cell_type": "markdown",
   "metadata": {},
   "source": [
    "**Operacijos su index stulpeliu**"
   ]
  },
  {
   "cell_type": "markdown",
   "metadata": {},
   "source": [
    "reset_index paverčia mūsų seną indeksą dar vienu stulpeliu, ir sukuria naują indeksą iš skaičių. Reikia naudoti *inplace=True*, jei norime pakeisti originalą."
   ]
  },
  {
   "cell_type": "code",
   "execution_count": 61,
   "metadata": {},
   "outputs": [
    {
     "data": {
      "text/html": [
       "<div>\n",
       "<style scoped>\n",
       "    .dataframe tbody tr th:only-of-type {\n",
       "        vertical-align: middle;\n",
       "    }\n",
       "\n",
       "    .dataframe tbody tr th {\n",
       "        vertical-align: top;\n",
       "    }\n",
       "\n",
       "    .dataframe thead th {\n",
       "        text-align: right;\n",
       "    }\n",
       "</style>\n",
       "<table border=\"1\" class=\"dataframe\">\n",
       "  <thead>\n",
       "    <tr style=\"text-align: right;\">\n",
       "      <th></th>\n",
       "      <th>index</th>\n",
       "      <th>U</th>\n",
       "      <th>V</th>\n",
       "      <th>W</th>\n",
       "      <th>X</th>\n",
       "      <th>Y</th>\n",
       "      <th>Z</th>\n",
       "    </tr>\n",
       "  </thead>\n",
       "  <tbody>\n",
       "    <tr>\n",
       "      <th>0</th>\n",
       "      <td>a</td>\n",
       "      <td>0.863571</td>\n",
       "      <td>0.883254</td>\n",
       "      <td>0.787205</td>\n",
       "      <td>0.672174</td>\n",
       "      <td>0.751997</td>\n",
       "      <td>0.922455</td>\n",
       "    </tr>\n",
       "    <tr>\n",
       "      <th>1</th>\n",
       "      <td>b</td>\n",
       "      <td>0.932546</td>\n",
       "      <td>0.317620</td>\n",
       "      <td>0.241403</td>\n",
       "      <td>0.912207</td>\n",
       "      <td>0.715740</td>\n",
       "      <td>0.373847</td>\n",
       "    </tr>\n",
       "    <tr>\n",
       "      <th>2</th>\n",
       "      <td>c</td>\n",
       "      <td>0.543049</td>\n",
       "      <td>0.683090</td>\n",
       "      <td>0.839093</td>\n",
       "      <td>0.282489</td>\n",
       "      <td>0.622360</td>\n",
       "      <td>0.111230</td>\n",
       "    </tr>\n",
       "    <tr>\n",
       "      <th>3</th>\n",
       "      <td>d</td>\n",
       "      <td>0.492632</td>\n",
       "      <td>0.405244</td>\n",
       "      <td>0.093171</td>\n",
       "      <td>0.502899</td>\n",
       "      <td>0.473212</td>\n",
       "      <td>0.618707</td>\n",
       "    </tr>\n",
       "    <tr>\n",
       "      <th>4</th>\n",
       "      <td>e</td>\n",
       "      <td>0.765506</td>\n",
       "      <td>0.752538</td>\n",
       "      <td>0.280722</td>\n",
       "      <td>0.570152</td>\n",
       "      <td>0.128662</td>\n",
       "      <td>0.903604</td>\n",
       "    </tr>\n",
       "  </tbody>\n",
       "</table>\n",
       "</div>"
      ],
      "text/plain": [
       "  index         U         V         W         X         Y         Z\n",
       "0     a  0.863571  0.883254  0.787205  0.672174  0.751997  0.922455\n",
       "1     b  0.932546  0.317620  0.241403  0.912207  0.715740  0.373847\n",
       "2     c  0.543049  0.683090  0.839093  0.282489  0.622360  0.111230\n",
       "3     d  0.492632  0.405244  0.093171  0.502899  0.473212  0.618707\n",
       "4     e  0.765506  0.752538  0.280722  0.570152  0.128662  0.903604"
      ]
     },
     "execution_count": 61,
     "metadata": {},
     "output_type": "execute_result"
    }
   ],
   "source": [
    "df.reset_index()"
   ]
  },
  {
   "cell_type": "markdown",
   "metadata": {},
   "source": [
    "Norint sukurti naują indeksą, reikia pridėti naują stulpelį:"
   ]
  },
  {
   "cell_type": "code",
   "execution_count": 62,
   "metadata": {},
   "outputs": [],
   "source": [
    "naujas_indeksas = 'Vilnius Kaunas Klaipėda Šiauliai Panevėžys'.split()"
   ]
  },
  {
   "cell_type": "code",
   "execution_count": 63,
   "metadata": {},
   "outputs": [
    {
     "data": {
      "text/plain": [
       "['Vilnius', 'Kaunas', 'Klaipėda', 'Šiauliai', 'Panevėžys']"
      ]
     },
     "execution_count": 63,
     "metadata": {},
     "output_type": "execute_result"
    }
   ],
   "source": [
    "naujas_indeksas"
   ]
  },
  {
   "cell_type": "code",
   "execution_count": 64,
   "metadata": {},
   "outputs": [],
   "source": [
    "df['Miestai'] = naujas_indeksas"
   ]
  },
  {
   "cell_type": "code",
   "execution_count": 65,
   "metadata": {},
   "outputs": [
    {
     "data": {
      "text/html": [
       "<div>\n",
       "<style scoped>\n",
       "    .dataframe tbody tr th:only-of-type {\n",
       "        vertical-align: middle;\n",
       "    }\n",
       "\n",
       "    .dataframe tbody tr th {\n",
       "        vertical-align: top;\n",
       "    }\n",
       "\n",
       "    .dataframe thead th {\n",
       "        text-align: right;\n",
       "    }\n",
       "</style>\n",
       "<table border=\"1\" class=\"dataframe\">\n",
       "  <thead>\n",
       "    <tr style=\"text-align: right;\">\n",
       "      <th></th>\n",
       "      <th>U</th>\n",
       "      <th>V</th>\n",
       "      <th>W</th>\n",
       "      <th>X</th>\n",
       "      <th>Y</th>\n",
       "      <th>Z</th>\n",
       "      <th>Miestai</th>\n",
       "    </tr>\n",
       "  </thead>\n",
       "  <tbody>\n",
       "    <tr>\n",
       "      <th>a</th>\n",
       "      <td>0.863571</td>\n",
       "      <td>0.883254</td>\n",
       "      <td>0.787205</td>\n",
       "      <td>0.672174</td>\n",
       "      <td>0.751997</td>\n",
       "      <td>0.922455</td>\n",
       "      <td>Vilnius</td>\n",
       "    </tr>\n",
       "    <tr>\n",
       "      <th>b</th>\n",
       "      <td>0.932546</td>\n",
       "      <td>0.317620</td>\n",
       "      <td>0.241403</td>\n",
       "      <td>0.912207</td>\n",
       "      <td>0.715740</td>\n",
       "      <td>0.373847</td>\n",
       "      <td>Kaunas</td>\n",
       "    </tr>\n",
       "    <tr>\n",
       "      <th>c</th>\n",
       "      <td>0.543049</td>\n",
       "      <td>0.683090</td>\n",
       "      <td>0.839093</td>\n",
       "      <td>0.282489</td>\n",
       "      <td>0.622360</td>\n",
       "      <td>0.111230</td>\n",
       "      <td>Klaipėda</td>\n",
       "    </tr>\n",
       "    <tr>\n",
       "      <th>d</th>\n",
       "      <td>0.492632</td>\n",
       "      <td>0.405244</td>\n",
       "      <td>0.093171</td>\n",
       "      <td>0.502899</td>\n",
       "      <td>0.473212</td>\n",
       "      <td>0.618707</td>\n",
       "      <td>Šiauliai</td>\n",
       "    </tr>\n",
       "    <tr>\n",
       "      <th>e</th>\n",
       "      <td>0.765506</td>\n",
       "      <td>0.752538</td>\n",
       "      <td>0.280722</td>\n",
       "      <td>0.570152</td>\n",
       "      <td>0.128662</td>\n",
       "      <td>0.903604</td>\n",
       "      <td>Panevėžys</td>\n",
       "    </tr>\n",
       "  </tbody>\n",
       "</table>\n",
       "</div>"
      ],
      "text/plain": [
       "          U         V         W         X         Y         Z    Miestai\n",
       "a  0.863571  0.883254  0.787205  0.672174  0.751997  0.922455    Vilnius\n",
       "b  0.932546  0.317620  0.241403  0.912207  0.715740  0.373847     Kaunas\n",
       "c  0.543049  0.683090  0.839093  0.282489  0.622360  0.111230   Klaipėda\n",
       "d  0.492632  0.405244  0.093171  0.502899  0.473212  0.618707   Šiauliai\n",
       "e  0.765506  0.752538  0.280722  0.570152  0.128662  0.903604  Panevėžys"
      ]
     },
     "execution_count": 65,
     "metadata": {},
     "output_type": "execute_result"
    }
   ],
   "source": [
    "df"
   ]
  },
  {
   "cell_type": "code",
   "execution_count": 66,
   "metadata": {
    "scrolled": true
   },
   "outputs": [
    {
     "data": {
      "text/html": [
       "<div>\n",
       "<style scoped>\n",
       "    .dataframe tbody tr th:only-of-type {\n",
       "        vertical-align: middle;\n",
       "    }\n",
       "\n",
       "    .dataframe tbody tr th {\n",
       "        vertical-align: top;\n",
       "    }\n",
       "\n",
       "    .dataframe thead th {\n",
       "        text-align: right;\n",
       "    }\n",
       "</style>\n",
       "<table border=\"1\" class=\"dataframe\">\n",
       "  <thead>\n",
       "    <tr style=\"text-align: right;\">\n",
       "      <th></th>\n",
       "      <th>U</th>\n",
       "      <th>V</th>\n",
       "      <th>W</th>\n",
       "      <th>X</th>\n",
       "      <th>Y</th>\n",
       "      <th>Z</th>\n",
       "    </tr>\n",
       "    <tr>\n",
       "      <th>Miestai</th>\n",
       "      <th></th>\n",
       "      <th></th>\n",
       "      <th></th>\n",
       "      <th></th>\n",
       "      <th></th>\n",
       "      <th></th>\n",
       "    </tr>\n",
       "  </thead>\n",
       "  <tbody>\n",
       "    <tr>\n",
       "      <th>Vilnius</th>\n",
       "      <td>0.863571</td>\n",
       "      <td>0.883254</td>\n",
       "      <td>0.787205</td>\n",
       "      <td>0.672174</td>\n",
       "      <td>0.751997</td>\n",
       "      <td>0.922455</td>\n",
       "    </tr>\n",
       "    <tr>\n",
       "      <th>Kaunas</th>\n",
       "      <td>0.932546</td>\n",
       "      <td>0.317620</td>\n",
       "      <td>0.241403</td>\n",
       "      <td>0.912207</td>\n",
       "      <td>0.715740</td>\n",
       "      <td>0.373847</td>\n",
       "    </tr>\n",
       "    <tr>\n",
       "      <th>Klaipėda</th>\n",
       "      <td>0.543049</td>\n",
       "      <td>0.683090</td>\n",
       "      <td>0.839093</td>\n",
       "      <td>0.282489</td>\n",
       "      <td>0.622360</td>\n",
       "      <td>0.111230</td>\n",
       "    </tr>\n",
       "    <tr>\n",
       "      <th>Šiauliai</th>\n",
       "      <td>0.492632</td>\n",
       "      <td>0.405244</td>\n",
       "      <td>0.093171</td>\n",
       "      <td>0.502899</td>\n",
       "      <td>0.473212</td>\n",
       "      <td>0.618707</td>\n",
       "    </tr>\n",
       "    <tr>\n",
       "      <th>Panevėžys</th>\n",
       "      <td>0.765506</td>\n",
       "      <td>0.752538</td>\n",
       "      <td>0.280722</td>\n",
       "      <td>0.570152</td>\n",
       "      <td>0.128662</td>\n",
       "      <td>0.903604</td>\n",
       "    </tr>\n",
       "  </tbody>\n",
       "</table>\n",
       "</div>"
      ],
      "text/plain": [
       "                  U         V         W         X         Y         Z\n",
       "Miestai                                                              \n",
       "Vilnius    0.863571  0.883254  0.787205  0.672174  0.751997  0.922455\n",
       "Kaunas     0.932546  0.317620  0.241403  0.912207  0.715740  0.373847\n",
       "Klaipėda   0.543049  0.683090  0.839093  0.282489  0.622360  0.111230\n",
       "Šiauliai   0.492632  0.405244  0.093171  0.502899  0.473212  0.618707\n",
       "Panevėžys  0.765506  0.752538  0.280722  0.570152  0.128662  0.903604"
      ]
     },
     "execution_count": 66,
     "metadata": {},
     "output_type": "execute_result"
    }
   ],
   "source": [
    "df.set_index('Miestai')"
   ]
  },
  {
   "cell_type": "code",
   "execution_count": null,
   "metadata": {},
   "outputs": [],
   "source": []
  }
 ],
 "metadata": {
  "kernelspec": {
   "display_name": "Python 3",
   "language": "python",
   "name": "python3"
  },
  "language_info": {
   "codemirror_mode": {
    "name": "ipython",
    "version": 3
   },
   "file_extension": ".py",
   "mimetype": "text/x-python",
   "name": "python",
   "nbconvert_exporter": "python",
   "pygments_lexer": "ipython3",
   "version": "3.12.1"
  }
 },
 "nbformat": 4,
 "nbformat_minor": 2
}
