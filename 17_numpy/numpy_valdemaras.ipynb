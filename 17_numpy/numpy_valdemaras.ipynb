{
 "cells": [
  {
   "cell_type": "markdown",
   "metadata": {},
   "source": [
    "# NumPy"
   ]
  },
  {
   "cell_type": "markdown",
   "metadata": {},
   "source": [
    "* NumPy yra tiesinės algebros biblioteka. Jos pagrindu sukurtos beveik visos su duomenų mokslu susijusios bibliotekos, tokios kaip Pandas ir kt. Numpy procedūriškai yra itin greita, nes yra susieta ryšiais (`bindings`) su C kalba parašytais moduliais. \n",
    "\n",
    "* Standartiškai įsidiegia `*pip install numpy*`, jeigu naudojate Anaconda - `*conda install numpy*`\n",
    "\n",
    "* Papildomai rekomenduojama suinstaliuioti `seaborn`:\n",
    "\n",
    "`pip install seaborn`\n",
    "\n",
    "`Seaborn` suinstaliuoja visus reikiamus komponentus, kurie bus reikalingi ateityje, besimokant kurso medžiagą (`pandas`, `pillow`, `matplotlib` ir pan.).\n",
    "\n",
    "* Dažniausiai naudojamas NumPy ingredientas - NumPy masyvai, arba kitaip dar gali būti vadinami `kitokie sąrašai` (`numpy array`). Jie būna dviejų tipų - vektoriai ir matricos."
   ]
  },
  {
   "cell_type": "markdown",
   "metadata": {},
   "source": [
    "Prieš pradedant darbą su NumPy, reikia jį importuoti."
   ]
  },
  {
   "cell_type": "code",
   "execution_count": 37,
   "metadata": {},
   "outputs": [],
   "source": [
    "import numpy as np"
   ]
  },
  {
   "cell_type": "markdown",
   "metadata": {},
   "source": [
    "Tarkime, turime paprastą Python list'ą:"
   ]
  },
  {
   "cell_type": "code",
   "execution_count": 3,
   "metadata": {},
   "outputs": [],
   "source": [
    "listas = [1, 2, 3, 4, 5]"
   ]
  },
  {
   "cell_type": "markdown",
   "metadata": {},
   "source": [
    "Paverskime jį į NumPy array:"
   ]
  },
  {
   "cell_type": "code",
   "execution_count": 4,
   "metadata": {},
   "outputs": [],
   "source": [
    "arr = np.array(listas)"
   ]
  },
  {
   "cell_type": "code",
   "execution_count": 5,
   "metadata": {},
   "outputs": [
    {
     "data": {
      "text/plain": [
       "array([1, 2, 3, 4, 5])"
      ]
     },
     "execution_count": 5,
     "metadata": {},
     "output_type": "execute_result"
    }
   ],
   "source": [
    "arr"
   ]
  },
  {
   "cell_type": "markdown",
   "metadata": {},
   "source": [
    "Gauname 1 lygio NumPy masyvą (vektorių). Jeigu norime matricos, turime sukurti keletą masyvų masyve:"
   ]
  },
  {
   "cell_type": "code",
   "execution_count": 6,
   "metadata": {},
   "outputs": [],
   "source": [
    "mano_listai = [[1, 2, 3],[4, 5, 6],[7, 8, 9]]\n",
    "matrica = np.array(mano_listai)\n"
   ]
  },
  {
   "cell_type": "code",
   "execution_count": 7,
   "metadata": {},
   "outputs": [
    {
     "data": {
      "text/plain": [
       "array([[1, 2, 3],\n",
       "       [4, 5, 6],\n",
       "       [7, 8, 9]])"
      ]
     },
     "execution_count": 7,
     "metadata": {},
     "output_type": "execute_result"
    }
   ],
   "source": [
    "matrica"
   ]
  },
  {
   "cell_type": "markdown",
   "metadata": {},
   "source": [
    "Masyvas gali būti tiek vektorius, tiek ir matrica.<br>\n",
    "Dar vienas pavyzdys:"
   ]
  },
  {
   "cell_type": "code",
   "execution_count": 8,
   "metadata": {},
   "outputs": [
    {
     "name": "stdout",
     "output_type": "stream",
     "text": [
      "[[1, 2, 3], [4, 5, 6], [7, 8, 9]]\n"
     ]
    }
   ],
   "source": [
    "x0 = [[1, 2, 3], [4, 5, 6], [7, 8, 9]]\n",
    "print(x0)"
   ]
  },
  {
   "cell_type": "markdown",
   "metadata": {},
   "source": [
    "Darom matricą:"
   ]
  },
  {
   "cell_type": "code",
   "execution_count": 9,
   "metadata": {},
   "outputs": [
    {
     "name": "stdout",
     "output_type": "stream",
     "text": [
      "[[1 2 3]\n",
      " [4 5 6]\n",
      " [7 8 9]]\n"
     ]
    }
   ],
   "source": [
    "x0matrix = np.array(x0)\n",
    "print(x0matrix)"
   ]
  },
  {
   "cell_type": "markdown",
   "metadata": {},
   "source": [
    "NumPy trumpinys `np` pripažintas visame pasaulyje ir yra naudotinas."
   ]
  },
  {
   "cell_type": "code",
   "execution_count": 10,
   "metadata": {},
   "outputs": [
    {
     "name": "stdout",
     "output_type": "stream",
     "text": [
      "[4 5 1 3 2]\n"
     ]
    }
   ],
   "source": [
    "sarasas = [4, 5, 1, 3, 2]\n",
    "masyvas = np.array(sarasas)\n",
    "print(masyvas)"
   ]
  },
  {
   "cell_type": "markdown",
   "metadata": {},
   "source": [
    "NumPy turi ir integruotus, paprastus būdus susikurti masyvą. Skliausteliuose reikia įrašyti start, stop ir step(nebūtina) reikšmes:"
   ]
  },
  {
   "cell_type": "code",
   "execution_count": 11,
   "metadata": {},
   "outputs": [
    {
     "data": {
      "text/plain": [
       "array([ 0,  3,  6,  9, 12, 15, 18, 21, 24, 27])"
      ]
     },
     "execution_count": 11,
     "metadata": {},
     "output_type": "execute_result"
    }
   ],
   "source": [
    "np.arange(0,30,3)"
   ]
  },
  {
   "cell_type": "markdown",
   "metadata": {},
   "source": [
    "Naudojant `NumPy` biblioteką ir jos funkciją `arange` sukuriamas masyvas, kuris prasideda nuo 5 ir baigiasi prieš 202, su žingsniu 5. Tai reiškia, kad masyvas bus sukurtas su visais skaičiais nuo 5 iki 202 (neįskaitant), kurie yra padalinti iš 5 be liekanos:"
   ]
  },
  {
   "cell_type": "code",
   "execution_count": 12,
   "metadata": {},
   "outputs": [
    {
     "name": "stdout",
     "output_type": "stream",
     "text": [
      "[  5  10  15  20  25  30  35  40  45  50  55  60  65  70  75  80  85  90\n",
      "  95 100 105 110 115 120 125 130 135 140 145 150 155 160 165 170 175 180\n",
      " 185 190 195 200]\n"
     ]
    }
   ],
   "source": [
    "print(np.arange(5, 202, 5))"
   ]
  },
  {
   "cell_type": "markdown",
   "metadata": {},
   "source": [
    "Jeigu reikia vektoriaus iš nulių:"
   ]
  },
  {
   "cell_type": "code",
   "execution_count": 13,
   "metadata": {},
   "outputs": [
    {
     "data": {
      "text/plain": [
       "array([0., 0., 0., 0., 0., 0., 0., 0., 0., 0.])"
      ]
     },
     "execution_count": 13,
     "metadata": {},
     "output_type": "execute_result"
    }
   ],
   "source": [
    "np.zeros(10)"
   ]
  },
  {
   "cell_type": "markdown",
   "metadata": {},
   "source": [
    "`np.zeros` gražina sąrašą `array` užpildytą nuliais, kiek nulių paprašysime, tiek nulių duos:"
   ]
  },
  {
   "cell_type": "code",
   "execution_count": 14,
   "metadata": {},
   "outputs": [
    {
     "name": "stdout",
     "output_type": "stream",
     "text": [
      "[0. 0. 0. 0. 0.]\n"
     ]
    }
   ],
   "source": [
    "print(np.zeros(5))"
   ]
  },
  {
   "cell_type": "markdown",
   "metadata": {},
   "source": [
    "Jeigu reikia matricos iš nulių:"
   ]
  },
  {
   "cell_type": "code",
   "execution_count": 15,
   "metadata": {},
   "outputs": [
    {
     "data": {
      "text/plain": [
       "array([[0., 0., 0., 0., 0.],\n",
       "       [0., 0., 0., 0., 0.],\n",
       "       [0., 0., 0., 0., 0.],\n",
       "       [0., 0., 0., 0., 0.],\n",
       "       [0., 0., 0., 0., 0.]])"
      ]
     },
     "execution_count": 15,
     "metadata": {},
     "output_type": "execute_result"
    }
   ],
   "source": [
    "np.zeros((5,5))"
   ]
  },
  {
   "cell_type": "markdown",
   "metadata": {},
   "source": [
    "Dar vienas pavyzdys,kurio metu argumentą `np.zeros` galime paprašyti, kad gražintų matricą.<br>\n",
    "Argumentą nusirodome kaip `tuple`:"
   ]
  },
  {
   "cell_type": "code",
   "execution_count": 16,
   "metadata": {},
   "outputs": [
    {
     "name": "stdout",
     "output_type": "stream",
     "text": [
      "[[0. 0. 0.]\n",
      " [0. 0. 0.]\n",
      " [0. 0. 0.]]\n"
     ]
    }
   ],
   "source": [
    "print(np.zeros((3, 3)))"
   ]
  },
  {
   "cell_type": "markdown",
   "metadata": {},
   "source": [
    "Analogiškai veikia `np.ones` metodas."
   ]
  },
  {
   "cell_type": "code",
   "execution_count": 17,
   "metadata": {},
   "outputs": [
    {
     "name": "stdout",
     "output_type": "stream",
     "text": [
      "[[1. 1. 1.]\n",
      " [1. 1. 1.]\n",
      " [1. 1. 1.]]\n"
     ]
    }
   ],
   "source": [
    "print(np.ones((3, 3)))"
   ]
  },
  {
   "cell_type": "markdown",
   "metadata": {},
   "source": [
    "Dar viena naudinga funkcija - `linspace`.<br>\n",
    "Ji grąžina masyvą, su lygiais intervalais išdėliotomis reikšmėmis. Reikia nurodyti start, stop ir intervalo reikšmes:"
   ]
  },
  {
   "cell_type": "code",
   "execution_count": 18,
   "metadata": {},
   "outputs": [
    {
     "data": {
      "text/plain": [
       "array([ 1.,  6., 11.])"
      ]
     },
     "execution_count": 18,
     "metadata": {},
     "output_type": "execute_result"
    }
   ],
   "source": [
    "np.linspace(1, 11, 3)"
   ]
  },
  {
   "cell_type": "code",
   "execution_count": 19,
   "metadata": {},
   "outputs": [
    {
     "data": {
      "text/plain": [
       "array([21., 26., 31., 36., 41., 46., 51., 56., 61.])"
      ]
     },
     "execution_count": 19,
     "metadata": {},
     "output_type": "execute_result"
    }
   ],
   "source": [
    "np.linspace(21, 61, 9)"
   ]
  },
  {
   "cell_type": "code",
   "execution_count": 20,
   "metadata": {},
   "outputs": [
    {
     "data": {
      "text/plain": [
       "array([ 0.        ,  1.33333333,  2.66666667,  4.        ,  5.33333333,\n",
       "        6.66666667,  8.        ,  9.33333333, 10.66666667, 12.        ,\n",
       "       13.33333333, 14.66666667, 16.        , 17.33333333, 18.66666667,\n",
       "       20.        ])"
      ]
     },
     "execution_count": 20,
     "metadata": {},
     "output_type": "execute_result"
    }
   ],
   "source": [
    "np.linspace(0,20,16)"
   ]
  },
  {
   "cell_type": "markdown",
   "metadata": {},
   "source": [
    "Jeigu prireikė vienetinės matricos, siekiant sulyginti vieną sąrašą su kitu, naudojam `np.eye` matricą:"
   ]
  },
  {
   "cell_type": "code",
   "execution_count": 21,
   "metadata": {},
   "outputs": [
    {
     "data": {
      "text/plain": [
       "array([[1., 0., 0., 0., 0., 0.],\n",
       "       [0., 1., 0., 0., 0., 0.],\n",
       "       [0., 0., 1., 0., 0., 0.],\n",
       "       [0., 0., 0., 1., 0., 0.],\n",
       "       [0., 0., 0., 0., 1., 0.],\n",
       "       [0., 0., 0., 0., 0., 1.]])"
      ]
     },
     "execution_count": 21,
     "metadata": {},
     "output_type": "execute_result"
    }
   ],
   "source": [
    "np.eye(6)"
   ]
  },
  {
   "cell_type": "code",
   "execution_count": 22,
   "metadata": {},
   "outputs": [
    {
     "name": "stdout",
     "output_type": "stream",
     "text": [
      "[[1. 0. 0. 0. 0.]\n",
      " [0. 1. 0. 0. 0.]\n",
      " [0. 0. 1. 0. 0.]\n",
      " [0. 0. 0. 1. 0.]\n",
      " [0. 0. 0. 0. 1.]]\n"
     ]
    }
   ],
   "source": [
    "print(np.eye(5))"
   ]
  },
  {
   "cell_type": "markdown",
   "metadata": {},
   "source": [
    "# Random arrays kūrimas"
   ]
  },
  {
   "cell_type": "markdown",
   "metadata": {},
   "source": [
    "Pirmas metodas susikurti random array - `np.random.rand()`.<br>\n",
    "Jo pagalba galime susikurti masyvą su atsitiktinėm reikšmėm nuo 0 iki 1 `(\"uniform\" distribution)`"
   ]
  },
  {
   "cell_type": "code",
   "execution_count": 23,
   "metadata": {},
   "outputs": [
    {
     "data": {
      "text/plain": [
       "array([0.7723286 , 0.01713925, 0.09459537, 0.33084533, 0.44487261])"
      ]
     },
     "execution_count": 23,
     "metadata": {},
     "output_type": "execute_result"
    }
   ],
   "source": [
    "np.random.rand(5)"
   ]
  },
  {
   "cell_type": "code",
   "execution_count": 24,
   "metadata": {},
   "outputs": [
    {
     "data": {
      "text/plain": [
       "array([0.30158572, 0.30263171, 0.51581361, 0.53721076, 0.15767624,\n",
       "       0.46217284, 0.54929303, 0.41941638, 0.22811891, 0.64989452])"
      ]
     },
     "execution_count": 24,
     "metadata": {},
     "output_type": "execute_result"
    }
   ],
   "source": [
    "np.random.rand(10)"
   ]
  },
  {
   "cell_type": "markdown",
   "metadata": {},
   "source": [
    "jeigu norime ne vektoriaus, o matricos:"
   ]
  },
  {
   "cell_type": "code",
   "execution_count": 25,
   "metadata": {},
   "outputs": [
    {
     "data": {
      "text/plain": [
       "array([[0.13518092, 0.82131211, 0.72665544, 0.41679563, 0.65726253],\n",
       "       [0.21290002, 0.05230241, 0.13377671, 0.80973482, 0.12208156],\n",
       "       [0.92573555, 0.33082448, 0.19161104, 0.06898845, 0.78492683],\n",
       "       [0.73067185, 0.45420944, 0.7227671 , 0.89872776, 0.51883856],\n",
       "       [0.94719875, 0.30850354, 0.59731914, 0.89886836, 0.56121501]])"
      ]
     },
     "execution_count": 25,
     "metadata": {},
     "output_type": "execute_result"
    }
   ],
   "source": [
    "np.random.rand(5, 5)"
   ]
  },
  {
   "cell_type": "code",
   "execution_count": 26,
   "metadata": {},
   "outputs": [
    {
     "data": {
      "text/plain": [
       "array([[-0.8218907 ,  0.45112826,  0.06829474, -1.08079988],\n",
       "       [ 0.96894757,  0.90817251,  1.75709377,  1.2831579 ],\n",
       "       [ 0.44866643, -0.80386952,  1.31153513, -1.2466564 ],\n",
       "       [ 0.88211617,  2.03609488, -1.15943365, -0.06382593]])"
      ]
     },
     "execution_count": 26,
     "metadata": {},
     "output_type": "execute_result"
    }
   ],
   "source": [
    "np.random.randn(4, 4)"
   ]
  },
  {
   "cell_type": "markdown",
   "metadata": {},
   "source": [
    "`np.random.randn()` sugeneruos reikšmes iš  `“standard normal” distribution` (standartinis normalusis skirstinys)"
   ]
  },
  {
   "cell_type": "code",
   "execution_count": 27,
   "metadata": {},
   "outputs": [
    {
     "data": {
      "text/plain": [
       "array([[ 0.83028751, -3.81683791,  0.49088776],\n",
       "       [ 0.03808058,  1.05873003, -0.86379169],\n",
       "       [ 0.05008541,  1.20582662, -0.28912768]])"
      ]
     },
     "execution_count": 27,
     "metadata": {},
     "output_type": "execute_result"
    }
   ],
   "source": [
    "np.random.randn(3, 3)"
   ]
  },
  {
   "cell_type": "markdown",
   "metadata": {},
   "source": [
    "`np.random.randint()` sugeneruoja atsitiktines integer reikšmes. Parametruose reikia nurodyti, žemiausią, aukščiausią (neįskaitant) reikšmes ir norimą kiekį reikšmių."
   ]
  },
  {
   "cell_type": "code",
   "execution_count": 28,
   "metadata": {},
   "outputs": [
    {
     "data": {
      "text/plain": [
       "array([180, 149, 116, 117, 148, 110, 150, 182, 110, 117, 160, 123, 159,\n",
       "       171, 139, 165, 197, 140, 157, 106])"
      ]
     },
     "execution_count": 28,
     "metadata": {},
     "output_type": "execute_result"
    }
   ],
   "source": [
    "np.random.randint(100, 200, 20)"
   ]
  },
  {
   "cell_type": "code",
   "execution_count": 29,
   "metadata": {},
   "outputs": [
    {
     "data": {
      "text/plain": [
       "array([[ 9, 68, 89, 32, 78],\n",
       "       [83,  9, 72, 52, 36],\n",
       "       [30, 63, 47, 65, 81],\n",
       "       [87, 38, 19, 85, 68],\n",
       "       [ 7, 16, 11, 13, 11]])"
      ]
     },
     "execution_count": 29,
     "metadata": {},
     "output_type": "execute_result"
    }
   ],
   "source": [
    "np.random.randint(1, 100, (5, 5))"
   ]
  },
  {
   "cell_type": "markdown",
   "metadata": {},
   "source": [
    "# Masyvų pertvarkymas"
   ]
  },
  {
   "cell_type": "markdown",
   "metadata": {},
   "source": [
    "`reshape()` metodas leidžia mums performuoti turimą masyvą į kitą formą:"
   ]
  },
  {
   "cell_type": "code",
   "execution_count": 30,
   "metadata": {},
   "outputs": [],
   "source": [
    "my_array = np.random.randint(0, 100, 64)"
   ]
  },
  {
   "cell_type": "code",
   "execution_count": 31,
   "metadata": {},
   "outputs": [
    {
     "data": {
      "text/plain": [
       "array([ 8, 38,  1, 38, 69, 18, 25, 44, 21, 17, 99, 70, 79, 66, 36, 50, 69,\n",
       "       28, 88, 55, 65, 94, 66, 93, 54, 15, 10, 27, 22, 61,  2, 86,  1, 31,\n",
       "        6,  3, 97, 66, 96, 55, 45, 19,  0, 62, 93, 98,  0, 53, 67, 28, 15,\n",
       "       21, 76, 52, 17, 70, 42, 29, 65, 39, 31, 86, 90, 26])"
      ]
     },
     "execution_count": 31,
     "metadata": {},
     "output_type": "execute_result"
    }
   ],
   "source": [
    "my_array"
   ]
  },
  {
   "cell_type": "code",
   "execution_count": 32,
   "metadata": {},
   "outputs": [
    {
     "data": {
      "text/plain": [
       "array([37, 66, 88, 50, 23, 59, 68, 74, 37, 58, 10, 73, 45, 52, 38, 33, 52,\n",
       "       83, 31, 26, 51, 49, 64, 83, 13, 58, 55, 12, 72, 46, 36, 13, 47, 45,\n",
       "       14, 47, 59, 90, 60, 51, 18, 58, 22, 48, 95, 45, 23, 67, 83, 81, 38,\n",
       "       83, 32, 35, 68, 58])"
      ]
     },
     "execution_count": 32,
     "metadata": {},
     "output_type": "execute_result"
    }
   ],
   "source": [
    "betko56 = np.random.randint(10, 100, 56)\n",
    "betko56"
   ]
  },
  {
   "cell_type": "code",
   "execution_count": 33,
   "metadata": {},
   "outputs": [],
   "source": [
    "reshaped_array = my_array.reshape(8, 8)"
   ]
  },
  {
   "cell_type": "code",
   "execution_count": 34,
   "metadata": {},
   "outputs": [
    {
     "data": {
      "text/plain": [
       "array([[ 8, 38,  1, 38, 69, 18, 25, 44],\n",
       "       [21, 17, 99, 70, 79, 66, 36, 50],\n",
       "       [69, 28, 88, 55, 65, 94, 66, 93],\n",
       "       [54, 15, 10, 27, 22, 61,  2, 86],\n",
       "       [ 1, 31,  6,  3, 97, 66, 96, 55],\n",
       "       [45, 19,  0, 62, 93, 98,  0, 53],\n",
       "       [67, 28, 15, 21, 76, 52, 17, 70],\n",
       "       [42, 29, 65, 39, 31, 86, 90, 26]])"
      ]
     },
     "execution_count": 34,
     "metadata": {},
     "output_type": "execute_result"
    }
   ],
   "source": [
    "reshaped_array"
   ]
  },
  {
   "cell_type": "markdown",
   "metadata": {},
   "source": [
    "šiame pavyzdyje vektorių iš 64 reikšmių performavome į 8x8 matricą."
   ]
  },
  {
   "cell_type": "code",
   "execution_count": 39,
   "metadata": {},
   "outputs": [
    {
     "data": {
      "text/plain": [
       "array([[37, 66, 88, 50, 23, 59, 68],\n",
       "       [74, 37, 58, 10, 73, 45, 52],\n",
       "       [38, 33, 52, 83, 31, 26, 51],\n",
       "       [49, 64, 83, 13, 58, 55, 12],\n",
       "       [72, 46, 36, 13, 47, 45, 14],\n",
       "       [47, 59, 90, 60, 51, 18, 58],\n",
       "       [22, 48, 95, 45, 23, 67, 83],\n",
       "       [81, 38, 83, 32, 35, 68, 58]])"
      ]
     },
     "execution_count": 39,
     "metadata": {},
     "output_type": "execute_result"
    }
   ],
   "source": [
    "betko8x7 = betko56.reshape(8, 7)\n",
    "betko8x7"
   ]
  },
  {
   "cell_type": "code",
   "execution_count": null,
   "metadata": {},
   "outputs": [
    {
     "ename": "NameError",
     "evalue": "name 'betko64' is not defined",
     "output_type": "error",
     "traceback": [
      "\u001b[1;31m---------------------------------------------------------------------------\u001b[0m",
      "\u001b[1;31mNameError\u001b[0m                                 Traceback (most recent call last)",
      "Cell \u001b[1;32mIn[36], line 1\u001b[0m\n\u001b[1;32m----> 1\u001b[0m betko8x8 \u001b[38;5;241m=\u001b[39m \u001b[43mbetko64\u001b[49m\u001b[38;5;241m.\u001b[39mreshape(\u001b[38;5;241m8\u001b[39m, \u001b[38;5;241m8\u001b[39m)\n\u001b[0;32m      2\u001b[0m betko8x8\n",
      "\u001b[1;31mNameError\u001b[0m: name 'betko64' is not defined"
     ]
    }
   ],
   "source": [
    "betko8x8 = betko64.reshape(8, 8)\n",
    "betko8x8"
   ]
  },
  {
   "cell_type": "code",
   "execution_count": 44,
   "metadata": {},
   "outputs": [
    {
     "data": {
      "text/plain": [
       "array([[37, 74, 38, 49, 72, 47, 22, 81],\n",
       "       [66, 37, 33, 64, 46, 59, 48, 38],\n",
       "       [88, 58, 52, 83, 36, 90, 95, 83],\n",
       "       [50, 10, 83, 13, 13, 60, 45, 32],\n",
       "       [23, 73, 31, 58, 47, 51, 23, 35],\n",
       "       [59, 45, 26, 55, 45, 18, 67, 68],\n",
       "       [68, 52, 51, 12, 14, 58, 83, 58]])"
      ]
     },
     "execution_count": 44,
     "metadata": {},
     "output_type": "execute_result"
    }
   ],
   "source": [
    "betko7x8 = betko8x7.transpose()\n",
    "betko7x8"
   ]
  },
  {
   "cell_type": "code",
   "execution_count": 43,
   "metadata": {},
   "outputs": [
    {
     "data": {
      "text/plain": [
       "array([37, 74, 38, 49, 72, 47, 22, 81, 66, 37, 33, 64, 46, 59, 48, 38, 88,\n",
       "       58, 52, 83, 36, 90, 95, 83, 50, 10, 83, 13, 13, 60, 45, 32, 23, 73,\n",
       "       31, 58, 47, 51, 23, 35, 59, 45, 26, 55, 45, 18, 67, 68, 68, 52, 51,\n",
       "       12, 14, 58, 83, 58])"
      ]
     },
     "execution_count": 43,
     "metadata": {},
     "output_type": "execute_result"
    }
   ],
   "source": [
    "betko7x8.reshape(56)"
   ]
  },
  {
   "cell_type": "markdown",
   "metadata": {},
   "source": [
    "# Naudingi Metodai"
   ]
  },
  {
   "cell_type": "code",
   "execution_count": 48,
   "metadata": {},
   "outputs": [
    {
     "name": "stdout",
     "output_type": "stream",
     "text": [
      "466921:-4.898007426993453, 977406:4.618240236974853\n"
     ]
    }
   ],
   "source": [
    "daug_betko = np.random.randn(1000, 1000)\n",
    "print(f\"{daug_betko.argmin()}:{daug_betko.min()}, {daug_betko.argmax()}:{daug_betko.max()}\")"
   ]
  },
  {
   "cell_type": "markdown",
   "metadata": {},
   "source": [
    "`max()` ir `.min()` metodai ištraukia maksimalią ir minimalią reikšmes iš masyvo:"
   ]
  },
  {
   "cell_type": "code",
   "execution_count": 49,
   "metadata": {},
   "outputs": [
    {
     "data": {
      "text/plain": [
       "0"
      ]
     },
     "execution_count": 49,
     "metadata": {},
     "output_type": "execute_result"
    }
   ],
   "source": [
    "my_array.min()"
   ]
  },
  {
   "cell_type": "code",
   "execution_count": 50,
   "metadata": {},
   "outputs": [
    {
     "data": {
      "text/plain": [
       "99"
      ]
     },
     "execution_count": 50,
     "metadata": {},
     "output_type": "execute_result"
    }
   ],
   "source": [
    "my_array.max()"
   ]
  },
  {
   "cell_type": "code",
   "execution_count": 51,
   "metadata": {},
   "outputs": [
    {
     "name": "stdout",
     "output_type": "stream",
     "text": [
      "(1000, 1000) float64\n"
     ]
    }
   ],
   "source": [
    "print(daug_betko.shape, daug_betko.dtype)"
   ]
  },
  {
   "cell_type": "markdown",
   "metadata": {},
   "source": [
    "## Indeksacija ir reikšmių traukimas"
   ]
  },
  {
   "cell_type": "code",
   "execution_count": 52,
   "metadata": {},
   "outputs": [
    {
     "name": "stdout",
     "output_type": "stream",
     "text": [
      "[1 3 8 1 3 9 1 3 4 9]\n",
      "1 1 [9 1 3 4]\n"
     ]
    }
   ],
   "source": [
    "betko10 = np.random.randint(1, 10, 10)\n",
    "print(betko10)\n",
    "print(betko10[0], betko10[3], betko10[5:9])"
   ]
  },
  {
   "cell_type": "markdown",
   "metadata": {},
   "source": [
    "`argmax()` ir `argmin()` nurodo mums maksimalios ir minimalios reikšmių indeksą:"
   ]
  },
  {
   "cell_type": "code",
   "execution_count": null,
   "metadata": {},
   "outputs": [],
   "source": [
    "my_array.argmax()"
   ]
  },
  {
   "cell_type": "code",
   "execution_count": null,
   "metadata": {},
   "outputs": [],
   "source": [
    "my_array.argmin()"
   ]
  },
  {
   "cell_type": "markdown",
   "metadata": {},
   "source": [
    "**.shape** nurodo, kokią formą turi mūsų masyvas:"
   ]
  },
  {
   "cell_type": "code",
   "execution_count": null,
   "metadata": {},
   "outputs": [],
   "source": [
    "reshaped_array.shape"
   ]
  },
  {
   "cell_type": "markdown",
   "metadata": {},
   "source": [
    "**.dtype** nurodo, koks duomenų tipas yra mūsų masyve:"
   ]
  },
  {
   "cell_type": "code",
   "execution_count": null,
   "metadata": {},
   "outputs": [],
   "source": [
    "reshaped_array.dtype"
   ]
  },
  {
   "cell_type": "markdown",
   "metadata": {},
   "source": [
    "# Indeksacija ir reikšmių traukimas"
   ]
  },
  {
   "cell_type": "code",
   "execution_count": null,
   "metadata": {},
   "outputs": [],
   "source": [
    "sample_array = np.arange(1,10)"
   ]
  },
  {
   "cell_type": "code",
   "execution_count": null,
   "metadata": {},
   "outputs": [],
   "source": [
    "sample_array"
   ]
  },
  {
   "cell_type": "markdown",
   "metadata": {},
   "source": [
    "reikšmę iš vektoriaus traukiame taip pat kaip ir iš Python sąrašo:"
   ]
  },
  {
   "cell_type": "code",
   "execution_count": null,
   "metadata": {},
   "outputs": [],
   "source": [
    "sample_array[5]"
   ]
  },
  {
   "cell_type": "markdown",
   "metadata": {},
   "source": [
    "galime naudoti *slices*:"
   ]
  },
  {
   "cell_type": "code",
   "execution_count": null,
   "metadata": {},
   "outputs": [],
   "source": [
    "sample_array[2:8]"
   ]
  },
  {
   "cell_type": "code",
   "execution_count": null,
   "metadata": {},
   "outputs": [],
   "source": [
    "sample_array[6:]"
   ]
  },
  {
   "cell_type": "code",
   "execution_count": null,
   "metadata": {
    "scrolled": true
   },
   "outputs": [],
   "source": [
    "sample_array[-5:]"
   ]
  },
  {
   "cell_type": "markdown",
   "metadata": {},
   "source": [
    "galime pasirinktam rėžiui suteikti kokią nors savo reikšmę *(Broadcasting)*: "
   ]
  },
  {
   "cell_type": "code",
   "execution_count": null,
   "metadata": {},
   "outputs": [],
   "source": [
    "sample_array[4:8] = 50"
   ]
  },
  {
   "cell_type": "code",
   "execution_count": null,
   "metadata": {},
   "outputs": [],
   "source": [
    "sample_array"
   ]
  },
  {
   "cell_type": "markdown",
   "metadata": {},
   "source": [
    "# Reikšmių traukimas iš matricos "
   ]
  },
  {
   "cell_type": "code",
   "execution_count": null,
   "metadata": {},
   "outputs": [],
   "source": [
    "sample = np.random.randint(1, 10, 25)"
   ]
  },
  {
   "cell_type": "code",
   "execution_count": null,
   "metadata": {},
   "outputs": [],
   "source": [
    "sample_matrix = sample.reshape(5,5)"
   ]
  },
  {
   "cell_type": "code",
   "execution_count": null,
   "metadata": {},
   "outputs": [],
   "source": [
    "sample_matrix"
   ]
  },
  {
   "cell_type": "code",
   "execution_count": null,
   "metadata": {},
   "outputs": [],
   "source": [
    "sample_matrix[2,2] "
   ]
  },
  {
   "cell_type": "markdown",
   "metadata": {},
   "source": [
    "laužtiniuose skliausteliuose pirmiau nurodome eilutę, paskui tos eilutės nario indeksą."
   ]
  },
  {
   "cell_type": "markdown",
   "metadata": {},
   "source": [
    "taip pat galime naudoti rėžius:"
   ]
  },
  {
   "cell_type": "code",
   "execution_count": null,
   "metadata": {},
   "outputs": [],
   "source": [
    "sample_matrix[1:4, 1:4]"
   ]
  },
  {
   "cell_type": "code",
   "execution_count": null,
   "metadata": {},
   "outputs": [],
   "source": [
    "sample_matrix[3:,:]"
   ]
  },
  {
   "cell_type": "code",
   "execution_count": null,
   "metadata": {},
   "outputs": [],
   "source": [
    "sample_matrix[:, 0:2]"
   ]
  },
  {
   "cell_type": "markdown",
   "metadata": {},
   "source": [
    "# Reikšmių traukimas pagal sąlygą"
   ]
  },
  {
   "cell_type": "markdown",
   "metadata": {},
   "source": [
    "Tarkime, turime masyvą:"
   ]
  },
  {
   "cell_type": "code",
   "execution_count": null,
   "metadata": {},
   "outputs": [],
   "source": [
    "masyvas = np.arange(1,21)"
   ]
  },
  {
   "cell_type": "code",
   "execution_count": null,
   "metadata": {},
   "outputs": [],
   "source": [
    "masyvas"
   ]
  },
  {
   "cell_type": "markdown",
   "metadata": {},
   "source": [
    "norime reikšmių, didesnių už 9:"
   ]
  },
  {
   "cell_type": "code",
   "execution_count": null,
   "metadata": {},
   "outputs": [],
   "source": [
    "bool_masyvas = masyvas > 9"
   ]
  },
  {
   "cell_type": "code",
   "execution_count": null,
   "metadata": {},
   "outputs": [],
   "source": [
    "bool_masyvas"
   ]
  },
  {
   "cell_type": "markdown",
   "metadata": {},
   "source": [
    "gauname masyvą iš *bool* reikšmių, kuriame True reikšmės atitinka užduotą sąlygą. Atlikime tokią operaciją:"
   ]
  },
  {
   "cell_type": "code",
   "execution_count": null,
   "metadata": {},
   "outputs": [],
   "source": [
    "masyvas[bool_masyvas]"
   ]
  },
  {
   "cell_type": "markdown",
   "metadata": {},
   "source": [
    "kintamojo *masvas* laužtiniuose skliautuose įvedę kintamąjį *bool_masyvas*, gauname reikšmes, kurios atitinka True indeksą. Tą patį rezultatą galime gauti laužtiniuose skliaustuose tiesiog įrašę sąlygą:"
   ]
  },
  {
   "cell_type": "code",
   "execution_count": null,
   "metadata": {},
   "outputs": [],
   "source": [
    "masyvas[masyvas>9]"
   ]
  },
  {
   "cell_type": "markdown",
   "metadata": {},
   "source": [
    "# Numpy elgsenos ypatumai"
   ]
  },
  {
   "cell_type": "markdown",
   "metadata": {},
   "source": [
    "Yra tam tikri NumPy elgsenos ypatumai, tarkime:"
   ]
  },
  {
   "cell_type": "code",
   "execution_count": null,
   "metadata": {},
   "outputs": [],
   "source": [
    "pvz = np.random.randint(1, 21, 20)"
   ]
  },
  {
   "cell_type": "code",
   "execution_count": null,
   "metadata": {},
   "outputs": [],
   "source": [
    "pvz"
   ]
  },
  {
   "cell_type": "markdown",
   "metadata": {},
   "source": [
    "turime *random* masyvą iš integer reikšmių. Susikurkime jo atraižą:"
   ]
  },
  {
   "cell_type": "code",
   "execution_count": null,
   "metadata": {},
   "outputs": [],
   "source": [
    "pvz_ispjova = pvz[5:15]"
   ]
  },
  {
   "cell_type": "code",
   "execution_count": null,
   "metadata": {},
   "outputs": [],
   "source": [
    "pvz_ispjova"
   ]
  },
  {
   "cell_type": "code",
   "execution_count": null,
   "metadata": {},
   "outputs": [],
   "source": [
    "pvz_ispjova[:] = 99"
   ]
  },
  {
   "cell_type": "code",
   "execution_count": null,
   "metadata": {},
   "outputs": [],
   "source": [
    "pvz_ispjova"
   ]
  },
  {
   "cell_type": "markdown",
   "metadata": {},
   "source": [
    "Iki šio momento viskas atrodo kaip ir tikėtąsi. Tačiau išsikvietę pirmąjį masyvą matome:"
   ]
  },
  {
   "cell_type": "code",
   "execution_count": null,
   "metadata": {},
   "outputs": [],
   "source": [
    "pvz"
   ]
  },
  {
   "cell_type": "markdown",
   "metadata": {},
   "source": [
    "Paprastai kuriant kintamąjį, užkulisiuose padaroma kopija šaltinio, iš kurio jis gaminamas (šiuo atveju *pvz*). \n",
    "Iš tos kopijos formuojamas naujas kintamasis. Tačiau NumPy atveju pakeitimai vykdomi originale, ir mums \n",
    "rodoma tik modifikuota to originalo dalis. NumPy pritaikytas darbui su milžiniškais kiekiais duomenų. Daryti laikinas jų kopijas atmintyje yra neefektyvu, ir nestabilu. Todėl, kai norime išsaugoti originalą, turime nurodyti, kad norėsime pasidaryti kopiją:"
   ]
  },
  {
   "cell_type": "code",
   "execution_count": null,
   "metadata": {},
   "outputs": [],
   "source": [
    "pvz_copy = pvz.copy()"
   ]
  },
  {
   "cell_type": "code",
   "execution_count": null,
   "metadata": {},
   "outputs": [],
   "source": [
    "pvz_copy"
   ]
  },
  {
   "cell_type": "code",
   "execution_count": null,
   "metadata": {},
   "outputs": [],
   "source": [
    "pvz_copy == pvz"
   ]
  },
  {
   "cell_type": "code",
   "execution_count": null,
   "metadata": {},
   "outputs": [],
   "source": [
    "pvz_copy_ispjova = pvz_copy[5:15]\n",
    "pvz_copy_ispjova[:] = 100"
   ]
  },
  {
   "cell_type": "code",
   "execution_count": null,
   "metadata": {},
   "outputs": [],
   "source": [
    "pvz_copy_ispjova"
   ]
  },
  {
   "cell_type": "code",
   "execution_count": null,
   "metadata": {},
   "outputs": [],
   "source": [
    "pvz"
   ]
  },
  {
   "cell_type": "code",
   "execution_count": null,
   "metadata": {},
   "outputs": [],
   "source": [
    "pvz_copy"
   ]
  },
  {
   "cell_type": "markdown",
   "metadata": {},
   "source": [
    "Taigi, pasidarėme kopiją, nurodėme kad norime jos rėžio [5:15] kintamąjame *pvz_copy_ispjova*, joje visas reikšmes pakeitėme į 100, ir įsitikinome, kad po to originalusis *pvz* liko nepakeistas."
   ]
  },
  {
   "cell_type": "markdown",
   "metadata": {},
   "source": [
    "# Matematinės operacijos ir funkcijos"
   ]
  },
  {
   "cell_type": "markdown",
   "metadata": {},
   "source": [
    "su NumPy arrays galima atlikti paprastus aritmetinius veiksmus:"
   ]
  },
  {
   "cell_type": "code",
   "execution_count": null,
   "metadata": {},
   "outputs": [],
   "source": [
    "vektorius = np.arange(1,11)"
   ]
  },
  {
   "cell_type": "code",
   "execution_count": null,
   "metadata": {},
   "outputs": [],
   "source": [
    "vektorius"
   ]
  },
  {
   "cell_type": "code",
   "execution_count": null,
   "metadata": {},
   "outputs": [],
   "source": [
    "vektorius + vektorius"
   ]
  },
  {
   "cell_type": "code",
   "execution_count": null,
   "metadata": {},
   "outputs": [],
   "source": [
    "vektorius * vektorius"
   ]
  },
  {
   "cell_type": "code",
   "execution_count": null,
   "metadata": {},
   "outputs": [],
   "source": [
    "vektorius / vektorius"
   ]
  },
  {
   "cell_type": "code",
   "execution_count": null,
   "metadata": {},
   "outputs": [],
   "source": [
    "vektorius / 0"
   ]
  },
  {
   "cell_type": "markdown",
   "metadata": {},
   "source": [
    "atkreipkite dėmesį, atlikus dalybą iš 0 gausime begalybes arba nan - not a number. Taip pat galime atlikti veiksmus ir su skaičiais:"
   ]
  },
  {
   "cell_type": "code",
   "execution_count": null,
   "metadata": {},
   "outputs": [],
   "source": [
    "vektorius + 1000"
   ]
  },
  {
   "cell_type": "code",
   "execution_count": null,
   "metadata": {},
   "outputs": [],
   "source": [
    "vektorius ** 3"
   ]
  },
  {
   "cell_type": "markdown",
   "metadata": {},
   "source": [
    "ir t.t."
   ]
  },
  {
   "cell_type": "markdown",
   "metadata": {},
   "source": [
    "Numpy aplinkoje taip pat galime taikyti įvairias trigonometrines funkcijas ir tt."
   ]
  },
  {
   "cell_type": "code",
   "execution_count": null,
   "metadata": {},
   "outputs": [],
   "source": [
    "np.sin(vektorius)"
   ]
  },
  {
   "cell_type": "code",
   "execution_count": null,
   "metadata": {},
   "outputs": [],
   "source": [
    "np.log(vektorius)"
   ]
  },
  {
   "cell_type": "markdown",
   "metadata": {},
   "source": [
    "Visas matematines funkcijas galite surasti\n",
    "[čia](https://docs.scipy.org/doc/numpy/reference/ufuncs.html)."
   ]
  },
  {
   "cell_type": "code",
   "execution_count": null,
   "metadata": {},
   "outputs": [],
   "source": []
  }
 ],
 "metadata": {
  "kernelspec": {
   "display_name": "Python 3",
   "language": "python",
   "name": "python3"
  },
  "language_info": {
   "codemirror_mode": {
    "name": "ipython",
    "version": 3
   },
   "file_extension": ".py",
   "mimetype": "text/x-python",
   "name": "python",
   "nbconvert_exporter": "python",
   "pygments_lexer": "ipython3",
   "version": "3.12.1"
  }
 },
 "nbformat": 4,
 "nbformat_minor": 2
}
