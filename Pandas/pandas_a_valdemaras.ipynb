{
 "cells": [
  {
   "cell_type": "markdown",
   "metadata": {},
   "source": [
    "# Pandas biblioteka\n",
    "\n",
    "<br>\n",
    "\n",
    "---"
   ]
  },
  {
   "cell_type": "markdown",
   "metadata": {},
   "source": [
    "`\"Pandas\"` yra programų kalbos Python biblioteka, skirta duomenų analizei ir manipuliavimui. Pandas biblioteka yra sukurta NumPy pagrindu. Ši biblioteka suteikia lengvai naudojamą duomenų struktūrų ir analizės įrankių rinkinį, ypač skirtų darbui su duomenų lentelėmis.\n",
    "<br>\n",
    "<br>\n",
    "Pagrindinės `\"Pandas\"` duomenų struktūros yra `\"DataFrame\"` ir `\"Series\"`. `\"DataFrame\"` yra dvimatė duomenų struktūra, panaši į lentelę arba duomenų bazės lentelę, o `\"Series\"` yra vienmatė duomenų struktūra, panaši į stulpelį arba vieną eilutę lentelėje.\n",
    "<br>\n",
    "<br>\n",
    "`\"Pandas\"` leidžia lengvai atlikti įvairias operacijas su duomenimis, tokiomis kaip duomenų filtras, grupavimas, agregavimas, trūkstamų duomenų tvarkymas ir daug kitų. Tai labai naudinga tiek duomenų analitikams, tiek mokslininkams, kurie dirba su duomenimis Python programavimo kalboje. Pasižymi sparta ir produktyvumu."
   ]
  },
  {
   "cell_type": "markdown",
   "metadata": {},
   "source": [
    "* Standartiškai įsidiegia `*pip install numpy*`, jeigu naudojate Anaconda - `*conda install numpy*`"
   ]
  },
  {
   "cell_type": "code",
   "execution_count": 58,
   "metadata": {},
   "outputs": [],
   "source": [
    "import numpy as np\n",
    "import pandas as pd"
   ]
  },
  {
   "cell_type": "markdown",
   "metadata": {},
   "source": [
    "# Serijos\n"
   ]
  },
  {
   "cell_type": "markdown",
   "metadata": {},
   "source": [
    "Serijos (*Series*) yra smulkus pandas duomenų darinys, sukurtas ant NumPy array pagrindo. "
   ]
  },
  {
   "cell_type": "code",
   "execution_count": 59,
   "metadata": {},
   "outputs": [
    {
     "data": {
      "text/plain": [
       "0    20\n",
       "1    30\n",
       "2    40\n",
       "dtype: int64"
      ]
     },
     "execution_count": 59,
     "metadata": {},
     "output_type": "execute_result"
    }
   ],
   "source": [
    "labels = ['x', 'y', 'z']\n",
    "data = [20, 30, 40]\n",
    "pd.Series(data=data)"
   ]
  },
  {
   "cell_type": "markdown",
   "metadata": {},
   "source": [
    "Matyti, kad nuo įprastų masyvų, pandas serija skiriasi tuo, kad turi indeksaciją. Vienas iš parametrų, kuriuos galime perduoti kurdami seriją yra index."
   ]
  },
  {
   "cell_type": "code",
   "execution_count": 60,
   "metadata": {},
   "outputs": [
    {
     "data": {
      "text/plain": [
       "x    20\n",
       "y    30\n",
       "z    40\n",
       "dtype: int64"
      ]
     },
     "execution_count": 60,
     "metadata": {},
     "output_type": "execute_result"
    }
   ],
   "source": [
    "pd.Series(data=data, index=labels)"
   ]
  },
  {
   "cell_type": "markdown",
   "metadata": {},
   "source": [
    "Pandas series galima kurti ir su python žodynais:"
   ]
  },
  {
   "cell_type": "code",
   "execution_count": 61,
   "metadata": {},
   "outputs": [
    {
     "data": {
      "text/plain": [
       "x    20\n",
       "y    30\n",
       "z    40\n",
       "dtype: int64"
      ]
     },
     "execution_count": 61,
     "metadata": {},
     "output_type": "execute_result"
    }
   ],
   "source": [
    "zodynas = {'x':20, 'y':30, 'z':40}\n",
    "pd.Series(zodynas)"
   ]
  },
  {
   "cell_type": "markdown",
   "metadata": {},
   "source": [
    "<br>\n",
    "\n",
    "## Kiti pavyzdžiai:"
   ]
  },
  {
   "cell_type": "code",
   "execution_count": 62,
   "metadata": {},
   "outputs": [
    {
     "name": "stdout",
     "output_type": "stream",
     "text": [
      "('vardas', 'pavardė', 'amžius') ('Geras', 'Zmogelis', 33)\n"
     ]
    }
   ],
   "source": [
    "labels = ('vardas', 'pavardė', 'amžius')\n",
    "zmogus = ('Geras', 'Zmogelis', 33)\n",
    "print(labels, zmogus)"
   ]
  },
  {
   "cell_type": "code",
   "execution_count": 63,
   "metadata": {},
   "outputs": [
    {
     "data": {
      "text/plain": [
       "0       Geras\n",
       "1    Zmogelis\n",
       "2          33\n",
       "dtype: object"
      ]
     },
     "execution_count": 63,
     "metadata": {},
     "output_type": "execute_result"
    }
   ],
   "source": [
    "pd.Series(data=zmogus)"
   ]
  },
  {
   "cell_type": "code",
   "execution_count": 64,
   "metadata": {},
   "outputs": [
    {
     "data": {
      "text/plain": [
       "vardas        Geras\n",
       "pavardė    Zmogelis\n",
       "amžius           33\n",
       "dtype: object"
      ]
     },
     "execution_count": 64,
     "metadata": {},
     "output_type": "execute_result"
    }
   ],
   "source": [
    "pd.Series(data=zmogus, index=labels)"
   ]
  },
  {
   "cell_type": "code",
   "execution_count": 65,
   "metadata": {},
   "outputs": [
    {
     "data": {
      "text/plain": [
       "{'vardas': 'Smagus', 'pavarde': 'Giedriukas', 'amzius': 36}"
      ]
     },
     "execution_count": 65,
     "metadata": {},
     "output_type": "execute_result"
    }
   ],
   "source": [
    "zmogus_dict = {\n",
    "    'vardas': 'Smagus',\n",
    "    'pavarde': 'Giedriukas',\n",
    "    'amzius': 36\n",
    "}\n",
    "zmogus_dict"
   ]
  },
  {
   "cell_type": "code",
   "execution_count": 66,
   "metadata": {},
   "outputs": [
    {
     "data": {
      "text/plain": [
       "vardas         Smagus\n",
       "pavarde    Giedriukas\n",
       "amzius             36\n",
       "dtype: object"
      ]
     },
     "execution_count": 66,
     "metadata": {},
     "output_type": "execute_result"
    }
   ],
   "source": [
    "zmogus_pd = pd.Series(zmogus_dict)\n",
    "zmogus_pd"
   ]
  },
  {
   "cell_type": "code",
   "execution_count": 67,
   "metadata": {},
   "outputs": [
    {
     "data": {
      "text/plain": [
       "vardas        Geras\n",
       "pavardė    Zmogelis\n",
       "amžius           33\n",
       "dtype: object"
      ]
     },
     "execution_count": 67,
     "metadata": {},
     "output_type": "execute_result"
    }
   ],
   "source": [
    "pd.Series(zmogus, labels)"
   ]
  },
  {
   "cell_type": "code",
   "execution_count": 68,
   "metadata": {},
   "outputs": [
    {
     "data": {
      "text/plain": [
       "36"
      ]
     },
     "execution_count": 68,
     "metadata": {},
     "output_type": "execute_result"
    }
   ],
   "source": [
    "zmogus_pd['amzius']"
   ]
  },
  {
   "cell_type": "markdown",
   "metadata": {},
   "source": [
    "**Reikšmės traukimas iš serijos**"
   ]
  },
  {
   "cell_type": "code",
   "execution_count": 69,
   "metadata": {},
   "outputs": [],
   "source": [
    "serija = pd.Series([1,2,3,4,5], ['Vilnius', 'Kaunas', 'Klaipėda', 'Panevėžys', 'Šiauliai'])\n",
    "# atkreipkite dėmesį, kad duomenis galima sudėti nebūtinai nurodant parametro pavadinimą."
   ]
  },
  {
   "cell_type": "code",
   "execution_count": 70,
   "metadata": {},
   "outputs": [
    {
     "data": {
      "text/plain": [
       "Vilnius      1\n",
       "Kaunas       2\n",
       "Klaipėda     3\n",
       "Panevėžys    4\n",
       "Šiauliai     5\n",
       "dtype: int64"
      ]
     },
     "execution_count": 70,
     "metadata": {},
     "output_type": "execute_result"
    }
   ],
   "source": [
    "serija\n"
   ]
  },
  {
   "cell_type": "code",
   "execution_count": 71,
   "metadata": {},
   "outputs": [
    {
     "data": {
      "text/plain": [
       "1"
      ]
     },
     "execution_count": 71,
     "metadata": {},
     "output_type": "execute_result"
    }
   ],
   "source": [
    "serija['Vilnius']"
   ]
  },
  {
   "cell_type": "code",
   "execution_count": 72,
   "metadata": {},
   "outputs": [
    {
     "data": {
      "text/plain": [
       "Vilnius     500\n",
       "Kaunas      400\n",
       "Klaipeda    300\n",
       "Siauliai    200\n",
       "dtype: int64"
      ]
     },
     "execution_count": 72,
     "metadata": {},
     "output_type": "execute_result"
    }
   ],
   "source": [
    "miestai = pd.Series((500, 400, 300, 200), ('Vilnius', 'Kaunas', 'Klaipeda', 'Siauliai'))\n",
    "miestai"
   ]
  },
  {
   "cell_type": "code",
   "execution_count": 73,
   "metadata": {},
   "outputs": [
    {
     "data": {
      "text/plain": [
       "Vilnius     1.5\n",
       "Kaunas      1.3\n",
       "Klaipeda    0.9\n",
       "Siauliai    0.7\n",
       "dtype: float64"
      ]
     },
     "execution_count": 73,
     "metadata": {},
     "output_type": "execute_result"
    }
   ],
   "source": [
    "augimas = pd.Series((1.5, 1.3, 0.9, 0.7), ('Vilnius', 'Kaunas', 'Klaipeda', 'Siauliai'))\n",
    "augimas"
   ]
  },
  {
   "cell_type": "code",
   "execution_count": 74,
   "metadata": {},
   "outputs": [
    {
     "data": {
      "text/plain": [
       "Vilnius     750.0\n",
       "Kaunas      520.0\n",
       "Klaipeda    270.0\n",
       "Siauliai    140.0\n",
       "dtype: float64"
      ]
     },
     "execution_count": 74,
     "metadata": {},
     "output_type": "execute_result"
    }
   ],
   "source": [
    "miestai * augimas"
   ]
  },
  {
   "cell_type": "markdown",
   "metadata": {},
   "source": [
    "**Operacijos su serijomis**"
   ]
  },
  {
   "cell_type": "code",
   "execution_count": 75,
   "metadata": {},
   "outputs": [],
   "source": [
    "serija2 = pd.Series([1,2,3,4,5], ['Vilnius', 'Kaunas', 'Lentvaris', 'Šiauliai', 'Klaipėda'])"
   ]
  },
  {
   "cell_type": "code",
   "execution_count": 76,
   "metadata": {},
   "outputs": [
    {
     "data": {
      "text/plain": [
       "Vilnius      1\n",
       "Kaunas       2\n",
       "Lentvaris    3\n",
       "Šiauliai     4\n",
       "Klaipėda     5\n",
       "dtype: int64"
      ]
     },
     "execution_count": 76,
     "metadata": {},
     "output_type": "execute_result"
    }
   ],
   "source": [
    "serija2"
   ]
  },
  {
   "cell_type": "markdown",
   "metadata": {},
   "source": [
    "naudojant sudėtį, pandas pagal galimybes bandys sumuoti reikšmes:"
   ]
  },
  {
   "cell_type": "code",
   "execution_count": 77,
   "metadata": {},
   "outputs": [
    {
     "data": {
      "text/plain": [
       "Kaunas       4.0\n",
       "Klaipėda     8.0\n",
       "Lentvaris    NaN\n",
       "Panevėžys    NaN\n",
       "Vilnius      2.0\n",
       "Šiauliai     9.0\n",
       "dtype: float64"
      ]
     },
     "execution_count": 77,
     "metadata": {},
     "output_type": "execute_result"
    }
   ],
   "source": [
    "serija + serija2"
   ]
  },
  {
   "cell_type": "markdown",
   "metadata": {},
   "source": [
    "Ten, kur pandos negalėjo atlikti sudėties veiksmo, sugeneravo NaN - *not a number*. Tiek Pandas, tiek NumPy mėgsta integer reikšmes versti į float, kad išlaikytų kiek įmanoma tikslesnę informaciją."
   ]
  },
  {
   "cell_type": "markdown",
   "metadata": {},
   "source": [
    "# DataFrames"
   ]
  },
  {
   "cell_type": "markdown",
   "metadata": {},
   "source": [
    "DataFrames yra pagrindinis pandas operacijų objektas. Jeigu norime susikurti naują DF, reikia į parametrus perduoti *data*, *index*, *columns*: "
   ]
  },
  {
   "cell_type": "code",
   "execution_count": 78,
   "metadata": {},
   "outputs": [],
   "source": [
    "betko7x7 = np.random.randint(10, 100, (7, 7))"
   ]
  },
  {
   "cell_type": "code",
   "execution_count": 108,
   "metadata": {},
   "outputs": [
    {
     "data": {
      "text/html": [
       "<div>\n",
       "<style scoped>\n",
       "    .dataframe tbody tr th:only-of-type {\n",
       "        vertical-align: middle;\n",
       "    }\n",
       "\n",
       "    .dataframe tbody tr th {\n",
       "        vertical-align: top;\n",
       "    }\n",
       "\n",
       "    .dataframe thead th {\n",
       "        text-align: right;\n",
       "    }\n",
       "</style>\n",
       "<table border=\"1\" class=\"dataframe\">\n",
       "  <thead>\n",
       "    <tr style=\"text-align: right;\">\n",
       "      <th></th>\n",
       "      <th>Vilnius</th>\n",
       "      <th>Kaunas</th>\n",
       "      <th>Klaipeda</th>\n",
       "      <th>Siauliai</th>\n",
       "      <th>Panevezys</th>\n",
       "      <th>Alytus</th>\n",
       "      <th>Druskininkai</th>\n",
       "    </tr>\n",
       "  </thead>\n",
       "  <tbody>\n",
       "    <tr>\n",
       "      <th>2000</th>\n",
       "      <td>22</td>\n",
       "      <td>84</td>\n",
       "      <td>50</td>\n",
       "      <td>76</td>\n",
       "      <td>57</td>\n",
       "      <td>27</td>\n",
       "      <td>45</td>\n",
       "    </tr>\n",
       "    <tr>\n",
       "      <th>2004</th>\n",
       "      <td>80</td>\n",
       "      <td>56</td>\n",
       "      <td>78</td>\n",
       "      <td>91</td>\n",
       "      <td>12</td>\n",
       "      <td>30</td>\n",
       "      <td>24</td>\n",
       "    </tr>\n",
       "    <tr>\n",
       "      <th>2008</th>\n",
       "      <td>65</td>\n",
       "      <td>88</td>\n",
       "      <td>75</td>\n",
       "      <td>66</td>\n",
       "      <td>60</td>\n",
       "      <td>99</td>\n",
       "      <td>14</td>\n",
       "    </tr>\n",
       "    <tr>\n",
       "      <th>2012</th>\n",
       "      <td>25</td>\n",
       "      <td>70</td>\n",
       "      <td>38</td>\n",
       "      <td>48</td>\n",
       "      <td>32</td>\n",
       "      <td>87</td>\n",
       "      <td>65</td>\n",
       "    </tr>\n",
       "    <tr>\n",
       "      <th>2016</th>\n",
       "      <td>36</td>\n",
       "      <td>44</td>\n",
       "      <td>58</td>\n",
       "      <td>84</td>\n",
       "      <td>19</td>\n",
       "      <td>66</td>\n",
       "      <td>58</td>\n",
       "    </tr>\n",
       "    <tr>\n",
       "      <th>2020</th>\n",
       "      <td>59</td>\n",
       "      <td>47</td>\n",
       "      <td>77</td>\n",
       "      <td>63</td>\n",
       "      <td>86</td>\n",
       "      <td>58</td>\n",
       "      <td>32</td>\n",
       "    </tr>\n",
       "    <tr>\n",
       "      <th>2024</th>\n",
       "      <td>85</td>\n",
       "      <td>70</td>\n",
       "      <td>63</td>\n",
       "      <td>41</td>\n",
       "      <td>78</td>\n",
       "      <td>29</td>\n",
       "      <td>55</td>\n",
       "    </tr>\n",
       "  </tbody>\n",
       "</table>\n",
       "</div>"
      ],
      "text/plain": [
       "      Vilnius  Kaunas  Klaipeda  Siauliai  Panevezys  Alytus  Druskininkai\n",
       "2000       22      84        50        76         57      27            45\n",
       "2004       80      56        78        91         12      30            24\n",
       "2008       65      88        75        66         60      99            14\n",
       "2012       25      70        38        48         32      87            65\n",
       "2016       36      44        58        84         19      66            58\n",
       "2020       59      47        77        63         86      58            32\n",
       "2024       85      70        63        41         78      29            55"
      ]
     },
     "execution_count": 108,
     "metadata": {},
     "output_type": "execute_result"
    }
   ],
   "source": [
    "miestu_skaiciai = pd.DataFrame(\n",
    "    betko7x7,\n",
    "    [2000, 2004, 2008, 2012, 2016, 2020, 2024],\n",
    "    ['Vilnius', 'Kaunas', 'Klaipeda', 'Siauliai', 'Panevezys', 'Alytus', 'Druskininkai']\n",
    ")\n",
    "miestu_skaiciai"
   ]
  },
  {
   "cell_type": "code",
   "execution_count": 115,
   "metadata": {},
   "outputs": [
    {
     "data": {
      "text/plain": [
       "2000    50\n",
       "2004    78\n",
       "2008    75\n",
       "2012    38\n",
       "2016    58\n",
       "2020    77\n",
       "2024    63\n",
       "Name: Klaipeda, dtype: int32"
      ]
     },
     "execution_count": 115,
     "metadata": {},
     "output_type": "execute_result"
    }
   ],
   "source": [
    "miestu_skaiciai['Klaipeda']"
   ]
  },
  {
   "cell_type": "code",
   "execution_count": 116,
   "metadata": {},
   "outputs": [
    {
     "name": "stdout",
     "output_type": "stream",
     "text": [
      "<class 'pandas.core.series.Series'>\n",
      "<class 'pandas.core.frame.DataFrame'>\n"
     ]
    }
   ],
   "source": [
    "print(type(miestu_skaiciai['Klaipeda']))\n",
    "print(type(miestu_skaiciai))"
   ]
  },
  {
   "cell_type": "code",
   "execution_count": 109,
   "metadata": {},
   "outputs": [],
   "source": [
    "df = pd.DataFrame(np.random.rand(5,6), \n",
    "                  ['a', 'b', 'c', 'd', 'e'], \n",
    "                  ['U', 'V', 'W', 'X', 'Y', 'Z'])"
   ]
  },
  {
   "cell_type": "code",
   "execution_count": 114,
   "metadata": {},
   "outputs": [
    {
     "data": {
      "text/html": [
       "<div>\n",
       "<style scoped>\n",
       "    .dataframe tbody tr th:only-of-type {\n",
       "        vertical-align: middle;\n",
       "    }\n",
       "\n",
       "    .dataframe tbody tr th {\n",
       "        vertical-align: top;\n",
       "    }\n",
       "\n",
       "    .dataframe thead th {\n",
       "        text-align: right;\n",
       "    }\n",
       "</style>\n",
       "<table border=\"1\" class=\"dataframe\">\n",
       "  <thead>\n",
       "    <tr style=\"text-align: right;\">\n",
       "      <th></th>\n",
       "      <th>U</th>\n",
       "      <th>V</th>\n",
       "      <th>W</th>\n",
       "      <th>X</th>\n",
       "      <th>Y</th>\n",
       "      <th>Z</th>\n",
       "    </tr>\n",
       "  </thead>\n",
       "  <tbody>\n",
       "    <tr>\n",
       "      <th>a</th>\n",
       "      <td>0.113328</td>\n",
       "      <td>0.549335</td>\n",
       "      <td>0.478198</td>\n",
       "      <td>0.769716</td>\n",
       "      <td>0.199142</td>\n",
       "      <td>0.588596</td>\n",
       "    </tr>\n",
       "    <tr>\n",
       "      <th>b</th>\n",
       "      <td>0.920645</td>\n",
       "      <td>0.158627</td>\n",
       "      <td>0.172594</td>\n",
       "      <td>0.904975</td>\n",
       "      <td>0.207668</td>\n",
       "      <td>0.920420</td>\n",
       "    </tr>\n",
       "    <tr>\n",
       "      <th>c</th>\n",
       "      <td>0.048419</td>\n",
       "      <td>0.359062</td>\n",
       "      <td>0.107695</td>\n",
       "      <td>0.886162</td>\n",
       "      <td>0.066358</td>\n",
       "      <td>0.915954</td>\n",
       "    </tr>\n",
       "    <tr>\n",
       "      <th>d</th>\n",
       "      <td>0.796435</td>\n",
       "      <td>0.846376</td>\n",
       "      <td>0.833655</td>\n",
       "      <td>0.456783</td>\n",
       "      <td>0.445590</td>\n",
       "      <td>0.248306</td>\n",
       "    </tr>\n",
       "    <tr>\n",
       "      <th>e</th>\n",
       "      <td>0.000239</td>\n",
       "      <td>0.931445</td>\n",
       "      <td>0.868423</td>\n",
       "      <td>0.538260</td>\n",
       "      <td>0.968465</td>\n",
       "      <td>0.289311</td>\n",
       "    </tr>\n",
       "  </tbody>\n",
       "</table>\n",
       "</div>"
      ],
      "text/plain": [
       "          U         V         W         X         Y         Z\n",
       "a  0.113328  0.549335  0.478198  0.769716  0.199142  0.588596\n",
       "b  0.920645  0.158627  0.172594  0.904975  0.207668  0.920420\n",
       "c  0.048419  0.359062  0.107695  0.886162  0.066358  0.915954\n",
       "d  0.796435  0.846376  0.833655  0.456783  0.445590  0.248306\n",
       "e  0.000239  0.931445  0.868423  0.538260  0.968465  0.289311"
      ]
     },
     "execution_count": 114,
     "metadata": {},
     "output_type": "execute_result"
    }
   ],
   "source": [
    "df      "
   ]
  },
  {
   "cell_type": "markdown",
   "metadata": {},
   "source": [
    "Kiekvienas stulpelis yra pandas serija, jos tarpusavyje dalijasi indeksais (a, b, c, d, e), pvz.:"
   ]
  },
  {
   "cell_type": "code",
   "execution_count": 81,
   "metadata": {},
   "outputs": [
    {
     "data": {
      "text/plain": [
       "a    0.245427\n",
       "b    0.741545\n",
       "c    0.191600\n",
       "d    0.920345\n",
       "e    0.577955\n",
       "Name: U, dtype: float64"
      ]
     },
     "execution_count": 81,
     "metadata": {},
     "output_type": "execute_result"
    }
   ],
   "source": [
    "df['U']"
   ]
  },
  {
   "cell_type": "code",
   "execution_count": 82,
   "metadata": {},
   "outputs": [
    {
     "data": {
      "text/plain": [
       "pandas.core.series.Series"
      ]
     },
     "execution_count": 82,
     "metadata": {},
     "output_type": "execute_result"
    }
   ],
   "source": [
    "type(df['U'])"
   ]
  },
  {
   "cell_type": "markdown",
   "metadata": {},
   "source": [
    "**Jei norime daugiau stulpelių:**"
   ]
  },
  {
   "cell_type": "code",
   "execution_count": 83,
   "metadata": {},
   "outputs": [
    {
     "data": {
      "text/html": [
       "<div>\n",
       "<style scoped>\n",
       "    .dataframe tbody tr th:only-of-type {\n",
       "        vertical-align: middle;\n",
       "    }\n",
       "\n",
       "    .dataframe tbody tr th {\n",
       "        vertical-align: top;\n",
       "    }\n",
       "\n",
       "    .dataframe thead th {\n",
       "        text-align: right;\n",
       "    }\n",
       "</style>\n",
       "<table border=\"1\" class=\"dataframe\">\n",
       "  <thead>\n",
       "    <tr style=\"text-align: right;\">\n",
       "      <th></th>\n",
       "      <th>U</th>\n",
       "      <th>Y</th>\n",
       "      <th>Z</th>\n",
       "    </tr>\n",
       "  </thead>\n",
       "  <tbody>\n",
       "    <tr>\n",
       "      <th>a</th>\n",
       "      <td>0.245427</td>\n",
       "      <td>0.461195</td>\n",
       "      <td>0.798687</td>\n",
       "    </tr>\n",
       "    <tr>\n",
       "      <th>b</th>\n",
       "      <td>0.741545</td>\n",
       "      <td>0.496276</td>\n",
       "      <td>0.322645</td>\n",
       "    </tr>\n",
       "    <tr>\n",
       "      <th>c</th>\n",
       "      <td>0.191600</td>\n",
       "      <td>0.139654</td>\n",
       "      <td>0.686814</td>\n",
       "    </tr>\n",
       "    <tr>\n",
       "      <th>d</th>\n",
       "      <td>0.920345</td>\n",
       "      <td>0.723493</td>\n",
       "      <td>0.213124</td>\n",
       "    </tr>\n",
       "    <tr>\n",
       "      <th>e</th>\n",
       "      <td>0.577955</td>\n",
       "      <td>0.115714</td>\n",
       "      <td>0.221141</td>\n",
       "    </tr>\n",
       "  </tbody>\n",
       "</table>\n",
       "</div>"
      ],
      "text/plain": [
       "          U         Y         Z\n",
       "a  0.245427  0.461195  0.798687\n",
       "b  0.741545  0.496276  0.322645\n",
       "c  0.191600  0.139654  0.686814\n",
       "d  0.920345  0.723493  0.213124\n",
       "e  0.577955  0.115714  0.221141"
      ]
     },
     "execution_count": 83,
     "metadata": {},
     "output_type": "execute_result"
    }
   ],
   "source": [
    "df[['U', 'Y', 'Z']]"
   ]
  },
  {
   "cell_type": "markdown",
   "metadata": {},
   "source": [
    "**Naujo stulpelio sukūrimas**"
   ]
  },
  {
   "cell_type": "code",
   "execution_count": 84,
   "metadata": {},
   "outputs": [],
   "source": [
    "df['naujas'] = [1, 2, 3, 4, 5]"
   ]
  },
  {
   "cell_type": "code",
   "execution_count": 85,
   "metadata": {},
   "outputs": [
    {
     "data": {
      "text/html": [
       "<div>\n",
       "<style scoped>\n",
       "    .dataframe tbody tr th:only-of-type {\n",
       "        vertical-align: middle;\n",
       "    }\n",
       "\n",
       "    .dataframe tbody tr th {\n",
       "        vertical-align: top;\n",
       "    }\n",
       "\n",
       "    .dataframe thead th {\n",
       "        text-align: right;\n",
       "    }\n",
       "</style>\n",
       "<table border=\"1\" class=\"dataframe\">\n",
       "  <thead>\n",
       "    <tr style=\"text-align: right;\">\n",
       "      <th></th>\n",
       "      <th>U</th>\n",
       "      <th>V</th>\n",
       "      <th>W</th>\n",
       "      <th>X</th>\n",
       "      <th>Y</th>\n",
       "      <th>Z</th>\n",
       "      <th>naujas</th>\n",
       "    </tr>\n",
       "  </thead>\n",
       "  <tbody>\n",
       "    <tr>\n",
       "      <th>a</th>\n",
       "      <td>0.245427</td>\n",
       "      <td>0.864114</td>\n",
       "      <td>0.021860</td>\n",
       "      <td>0.694264</td>\n",
       "      <td>0.461195</td>\n",
       "      <td>0.798687</td>\n",
       "      <td>1</td>\n",
       "    </tr>\n",
       "    <tr>\n",
       "      <th>b</th>\n",
       "      <td>0.741545</td>\n",
       "      <td>0.332583</td>\n",
       "      <td>0.958161</td>\n",
       "      <td>0.735902</td>\n",
       "      <td>0.496276</td>\n",
       "      <td>0.322645</td>\n",
       "      <td>2</td>\n",
       "    </tr>\n",
       "    <tr>\n",
       "      <th>c</th>\n",
       "      <td>0.191600</td>\n",
       "      <td>0.956622</td>\n",
       "      <td>0.538147</td>\n",
       "      <td>0.887059</td>\n",
       "      <td>0.139654</td>\n",
       "      <td>0.686814</td>\n",
       "      <td>3</td>\n",
       "    </tr>\n",
       "    <tr>\n",
       "      <th>d</th>\n",
       "      <td>0.920345</td>\n",
       "      <td>0.428761</td>\n",
       "      <td>0.899094</td>\n",
       "      <td>0.203583</td>\n",
       "      <td>0.723493</td>\n",
       "      <td>0.213124</td>\n",
       "      <td>4</td>\n",
       "    </tr>\n",
       "    <tr>\n",
       "      <th>e</th>\n",
       "      <td>0.577955</td>\n",
       "      <td>0.065976</td>\n",
       "      <td>0.355250</td>\n",
       "      <td>0.363019</td>\n",
       "      <td>0.115714</td>\n",
       "      <td>0.221141</td>\n",
       "      <td>5</td>\n",
       "    </tr>\n",
       "  </tbody>\n",
       "</table>\n",
       "</div>"
      ],
      "text/plain": [
       "          U         V         W         X         Y         Z  naujas\n",
       "a  0.245427  0.864114  0.021860  0.694264  0.461195  0.798687       1\n",
       "b  0.741545  0.332583  0.958161  0.735902  0.496276  0.322645       2\n",
       "c  0.191600  0.956622  0.538147  0.887059  0.139654  0.686814       3\n",
       "d  0.920345  0.428761  0.899094  0.203583  0.723493  0.213124       4\n",
       "e  0.577955  0.065976  0.355250  0.363019  0.115714  0.221141       5"
      ]
     },
     "execution_count": 85,
     "metadata": {},
     "output_type": "execute_result"
    }
   ],
   "source": [
    "df"
   ]
  },
  {
   "cell_type": "markdown",
   "metadata": {},
   "source": [
    "**Stulpelio ištrynimas**"
   ]
  },
  {
   "cell_type": "code",
   "execution_count": 86,
   "metadata": {},
   "outputs": [
    {
     "data": {
      "text/html": [
       "<div>\n",
       "<style scoped>\n",
       "    .dataframe tbody tr th:only-of-type {\n",
       "        vertical-align: middle;\n",
       "    }\n",
       "\n",
       "    .dataframe tbody tr th {\n",
       "        vertical-align: top;\n",
       "    }\n",
       "\n",
       "    .dataframe thead th {\n",
       "        text-align: right;\n",
       "    }\n",
       "</style>\n",
       "<table border=\"1\" class=\"dataframe\">\n",
       "  <thead>\n",
       "    <tr style=\"text-align: right;\">\n",
       "      <th></th>\n",
       "      <th>U</th>\n",
       "      <th>V</th>\n",
       "      <th>W</th>\n",
       "      <th>X</th>\n",
       "      <th>Y</th>\n",
       "      <th>Z</th>\n",
       "    </tr>\n",
       "  </thead>\n",
       "  <tbody>\n",
       "    <tr>\n",
       "      <th>a</th>\n",
       "      <td>0.245427</td>\n",
       "      <td>0.864114</td>\n",
       "      <td>0.021860</td>\n",
       "      <td>0.694264</td>\n",
       "      <td>0.461195</td>\n",
       "      <td>0.798687</td>\n",
       "    </tr>\n",
       "    <tr>\n",
       "      <th>b</th>\n",
       "      <td>0.741545</td>\n",
       "      <td>0.332583</td>\n",
       "      <td>0.958161</td>\n",
       "      <td>0.735902</td>\n",
       "      <td>0.496276</td>\n",
       "      <td>0.322645</td>\n",
       "    </tr>\n",
       "    <tr>\n",
       "      <th>c</th>\n",
       "      <td>0.191600</td>\n",
       "      <td>0.956622</td>\n",
       "      <td>0.538147</td>\n",
       "      <td>0.887059</td>\n",
       "      <td>0.139654</td>\n",
       "      <td>0.686814</td>\n",
       "    </tr>\n",
       "    <tr>\n",
       "      <th>d</th>\n",
       "      <td>0.920345</td>\n",
       "      <td>0.428761</td>\n",
       "      <td>0.899094</td>\n",
       "      <td>0.203583</td>\n",
       "      <td>0.723493</td>\n",
       "      <td>0.213124</td>\n",
       "    </tr>\n",
       "    <tr>\n",
       "      <th>e</th>\n",
       "      <td>0.577955</td>\n",
       "      <td>0.065976</td>\n",
       "      <td>0.355250</td>\n",
       "      <td>0.363019</td>\n",
       "      <td>0.115714</td>\n",
       "      <td>0.221141</td>\n",
       "    </tr>\n",
       "  </tbody>\n",
       "</table>\n",
       "</div>"
      ],
      "text/plain": [
       "          U         V         W         X         Y         Z\n",
       "a  0.245427  0.864114  0.021860  0.694264  0.461195  0.798687\n",
       "b  0.741545  0.332583  0.958161  0.735902  0.496276  0.322645\n",
       "c  0.191600  0.956622  0.538147  0.887059  0.139654  0.686814\n",
       "d  0.920345  0.428761  0.899094  0.203583  0.723493  0.213124\n",
       "e  0.577955  0.065976  0.355250  0.363019  0.115714  0.221141"
      ]
     },
     "execution_count": 86,
     "metadata": {},
     "output_type": "execute_result"
    }
   ],
   "source": [
    "df.drop('naujas', axis=1)"
   ]
  },
  {
   "cell_type": "markdown",
   "metadata": {},
   "source": [
    "axis=0 reikštų, kad atliekame veiksmą su eilute. 1 tuo tarpu reiškia stulpelį."
   ]
  },
  {
   "cell_type": "markdown",
   "metadata": {},
   "source": [
    "**Inplace parametras**"
   ]
  },
  {
   "cell_type": "markdown",
   "metadata": {},
   "source": [
    "paskutinis mūsų veiksmas originalaus šaltinio nepakeitė, jeigu dabar išsikviesime df, matysime, kad jis koks buvo, toks ir liko: "
   ]
  },
  {
   "cell_type": "code",
   "execution_count": 87,
   "metadata": {},
   "outputs": [
    {
     "data": {
      "text/html": [
       "<div>\n",
       "<style scoped>\n",
       "    .dataframe tbody tr th:only-of-type {\n",
       "        vertical-align: middle;\n",
       "    }\n",
       "\n",
       "    .dataframe tbody tr th {\n",
       "        vertical-align: top;\n",
       "    }\n",
       "\n",
       "    .dataframe thead th {\n",
       "        text-align: right;\n",
       "    }\n",
       "</style>\n",
       "<table border=\"1\" class=\"dataframe\">\n",
       "  <thead>\n",
       "    <tr style=\"text-align: right;\">\n",
       "      <th></th>\n",
       "      <th>U</th>\n",
       "      <th>V</th>\n",
       "      <th>W</th>\n",
       "      <th>X</th>\n",
       "      <th>Y</th>\n",
       "      <th>Z</th>\n",
       "      <th>naujas</th>\n",
       "    </tr>\n",
       "  </thead>\n",
       "  <tbody>\n",
       "    <tr>\n",
       "      <th>a</th>\n",
       "      <td>0.245427</td>\n",
       "      <td>0.864114</td>\n",
       "      <td>0.021860</td>\n",
       "      <td>0.694264</td>\n",
       "      <td>0.461195</td>\n",
       "      <td>0.798687</td>\n",
       "      <td>1</td>\n",
       "    </tr>\n",
       "    <tr>\n",
       "      <th>b</th>\n",
       "      <td>0.741545</td>\n",
       "      <td>0.332583</td>\n",
       "      <td>0.958161</td>\n",
       "      <td>0.735902</td>\n",
       "      <td>0.496276</td>\n",
       "      <td>0.322645</td>\n",
       "      <td>2</td>\n",
       "    </tr>\n",
       "    <tr>\n",
       "      <th>c</th>\n",
       "      <td>0.191600</td>\n",
       "      <td>0.956622</td>\n",
       "      <td>0.538147</td>\n",
       "      <td>0.887059</td>\n",
       "      <td>0.139654</td>\n",
       "      <td>0.686814</td>\n",
       "      <td>3</td>\n",
       "    </tr>\n",
       "    <tr>\n",
       "      <th>d</th>\n",
       "      <td>0.920345</td>\n",
       "      <td>0.428761</td>\n",
       "      <td>0.899094</td>\n",
       "      <td>0.203583</td>\n",
       "      <td>0.723493</td>\n",
       "      <td>0.213124</td>\n",
       "      <td>4</td>\n",
       "    </tr>\n",
       "    <tr>\n",
       "      <th>e</th>\n",
       "      <td>0.577955</td>\n",
       "      <td>0.065976</td>\n",
       "      <td>0.355250</td>\n",
       "      <td>0.363019</td>\n",
       "      <td>0.115714</td>\n",
       "      <td>0.221141</td>\n",
       "      <td>5</td>\n",
       "    </tr>\n",
       "  </tbody>\n",
       "</table>\n",
       "</div>"
      ],
      "text/plain": [
       "          U         V         W         X         Y         Z  naujas\n",
       "a  0.245427  0.864114  0.021860  0.694264  0.461195  0.798687       1\n",
       "b  0.741545  0.332583  0.958161  0.735902  0.496276  0.322645       2\n",
       "c  0.191600  0.956622  0.538147  0.887059  0.139654  0.686814       3\n",
       "d  0.920345  0.428761  0.899094  0.203583  0.723493  0.213124       4\n",
       "e  0.577955  0.065976  0.355250  0.363019  0.115714  0.221141       5"
      ]
     },
     "execution_count": 87,
     "metadata": {},
     "output_type": "execute_result"
    }
   ],
   "source": [
    "df"
   ]
  },
  {
   "cell_type": "markdown",
   "metadata": {},
   "source": [
    "norėdami pakeisti originalą, turime nurodyti parametrą inplace=True:"
   ]
  },
  {
   "cell_type": "code",
   "execution_count": 88,
   "metadata": {},
   "outputs": [],
   "source": [
    "df.drop('naujas', axis=1, inplace=True)"
   ]
  },
  {
   "cell_type": "code",
   "execution_count": 89,
   "metadata": {},
   "outputs": [
    {
     "data": {
      "text/html": [
       "<div>\n",
       "<style scoped>\n",
       "    .dataframe tbody tr th:only-of-type {\n",
       "        vertical-align: middle;\n",
       "    }\n",
       "\n",
       "    .dataframe tbody tr th {\n",
       "        vertical-align: top;\n",
       "    }\n",
       "\n",
       "    .dataframe thead th {\n",
       "        text-align: right;\n",
       "    }\n",
       "</style>\n",
       "<table border=\"1\" class=\"dataframe\">\n",
       "  <thead>\n",
       "    <tr style=\"text-align: right;\">\n",
       "      <th></th>\n",
       "      <th>U</th>\n",
       "      <th>V</th>\n",
       "      <th>W</th>\n",
       "      <th>X</th>\n",
       "      <th>Y</th>\n",
       "      <th>Z</th>\n",
       "    </tr>\n",
       "  </thead>\n",
       "  <tbody>\n",
       "    <tr>\n",
       "      <th>a</th>\n",
       "      <td>0.245427</td>\n",
       "      <td>0.864114</td>\n",
       "      <td>0.021860</td>\n",
       "      <td>0.694264</td>\n",
       "      <td>0.461195</td>\n",
       "      <td>0.798687</td>\n",
       "    </tr>\n",
       "    <tr>\n",
       "      <th>b</th>\n",
       "      <td>0.741545</td>\n",
       "      <td>0.332583</td>\n",
       "      <td>0.958161</td>\n",
       "      <td>0.735902</td>\n",
       "      <td>0.496276</td>\n",
       "      <td>0.322645</td>\n",
       "    </tr>\n",
       "    <tr>\n",
       "      <th>c</th>\n",
       "      <td>0.191600</td>\n",
       "      <td>0.956622</td>\n",
       "      <td>0.538147</td>\n",
       "      <td>0.887059</td>\n",
       "      <td>0.139654</td>\n",
       "      <td>0.686814</td>\n",
       "    </tr>\n",
       "    <tr>\n",
       "      <th>d</th>\n",
       "      <td>0.920345</td>\n",
       "      <td>0.428761</td>\n",
       "      <td>0.899094</td>\n",
       "      <td>0.203583</td>\n",
       "      <td>0.723493</td>\n",
       "      <td>0.213124</td>\n",
       "    </tr>\n",
       "    <tr>\n",
       "      <th>e</th>\n",
       "      <td>0.577955</td>\n",
       "      <td>0.065976</td>\n",
       "      <td>0.355250</td>\n",
       "      <td>0.363019</td>\n",
       "      <td>0.115714</td>\n",
       "      <td>0.221141</td>\n",
       "    </tr>\n",
       "  </tbody>\n",
       "</table>\n",
       "</div>"
      ],
      "text/plain": [
       "          U         V         W         X         Y         Z\n",
       "a  0.245427  0.864114  0.021860  0.694264  0.461195  0.798687\n",
       "b  0.741545  0.332583  0.958161  0.735902  0.496276  0.322645\n",
       "c  0.191600  0.956622  0.538147  0.887059  0.139654  0.686814\n",
       "d  0.920345  0.428761  0.899094  0.203583  0.723493  0.213124\n",
       "e  0.577955  0.065976  0.355250  0.363019  0.115714  0.221141"
      ]
     },
     "execution_count": 89,
     "metadata": {},
     "output_type": "execute_result"
    }
   ],
   "source": [
    "df"
   ]
  },
  {
   "cell_type": "markdown",
   "metadata": {},
   "source": [
    "*inplace* parametras apsaugo mus nuo netyčinio duomenų sugadinimo"
   ]
  },
  {
   "cell_type": "markdown",
   "metadata": {},
   "source": [
    "**Pabandykime ištrinti eilutę:**"
   ]
  },
  {
   "cell_type": "code",
   "execution_count": 90,
   "metadata": {},
   "outputs": [
    {
     "data": {
      "text/html": [
       "<div>\n",
       "<style scoped>\n",
       "    .dataframe tbody tr th:only-of-type {\n",
       "        vertical-align: middle;\n",
       "    }\n",
       "\n",
       "    .dataframe tbody tr th {\n",
       "        vertical-align: top;\n",
       "    }\n",
       "\n",
       "    .dataframe thead th {\n",
       "        text-align: right;\n",
       "    }\n",
       "</style>\n",
       "<table border=\"1\" class=\"dataframe\">\n",
       "  <thead>\n",
       "    <tr style=\"text-align: right;\">\n",
       "      <th></th>\n",
       "      <th>U</th>\n",
       "      <th>V</th>\n",
       "      <th>W</th>\n",
       "      <th>X</th>\n",
       "      <th>Y</th>\n",
       "      <th>Z</th>\n",
       "    </tr>\n",
       "  </thead>\n",
       "  <tbody>\n",
       "    <tr>\n",
       "      <th>a</th>\n",
       "      <td>0.245427</td>\n",
       "      <td>0.864114</td>\n",
       "      <td>0.021860</td>\n",
       "      <td>0.694264</td>\n",
       "      <td>0.461195</td>\n",
       "      <td>0.798687</td>\n",
       "    </tr>\n",
       "    <tr>\n",
       "      <th>b</th>\n",
       "      <td>0.741545</td>\n",
       "      <td>0.332583</td>\n",
       "      <td>0.958161</td>\n",
       "      <td>0.735902</td>\n",
       "      <td>0.496276</td>\n",
       "      <td>0.322645</td>\n",
       "    </tr>\n",
       "    <tr>\n",
       "      <th>c</th>\n",
       "      <td>0.191600</td>\n",
       "      <td>0.956622</td>\n",
       "      <td>0.538147</td>\n",
       "      <td>0.887059</td>\n",
       "      <td>0.139654</td>\n",
       "      <td>0.686814</td>\n",
       "    </tr>\n",
       "    <tr>\n",
       "      <th>d</th>\n",
       "      <td>0.920345</td>\n",
       "      <td>0.428761</td>\n",
       "      <td>0.899094</td>\n",
       "      <td>0.203583</td>\n",
       "      <td>0.723493</td>\n",
       "      <td>0.213124</td>\n",
       "    </tr>\n",
       "  </tbody>\n",
       "</table>\n",
       "</div>"
      ],
      "text/plain": [
       "          U         V         W         X         Y         Z\n",
       "a  0.245427  0.864114  0.021860  0.694264  0.461195  0.798687\n",
       "b  0.741545  0.332583  0.958161  0.735902  0.496276  0.322645\n",
       "c  0.191600  0.956622  0.538147  0.887059  0.139654  0.686814\n",
       "d  0.920345  0.428761  0.899094  0.203583  0.723493  0.213124"
      ]
     },
     "execution_count": 90,
     "metadata": {},
     "output_type": "execute_result"
    }
   ],
   "source": [
    "df.drop('e')"
   ]
  },
  {
   "cell_type": "markdown",
   "metadata": {},
   "source": [
    "trinant eilutę parametro axis=0 nurodyti nebūtina, tai yra *default* reikšmė"
   ]
  },
  {
   "cell_type": "markdown",
   "metadata": {},
   "source": [
    "**Eilučių traukimas**"
   ]
  },
  {
   "cell_type": "code",
   "execution_count": 91,
   "metadata": {},
   "outputs": [
    {
     "data": {
      "text/plain": [
       "U    0.577955\n",
       "V    0.065976\n",
       "W    0.355250\n",
       "X    0.363019\n",
       "Y    0.115714\n",
       "Z    0.221141\n",
       "Name: e, dtype: float64"
      ]
     },
     "execution_count": 91,
     "metadata": {},
     "output_type": "execute_result"
    }
   ],
   "source": [
    "df.loc['e']"
   ]
  },
  {
   "cell_type": "markdown",
   "metadata": {},
   "source": [
    "eilutes galime traukti ir pagal indeksą:"
   ]
  },
  {
   "cell_type": "code",
   "execution_count": 92,
   "metadata": {},
   "outputs": [
    {
     "data": {
      "text/plain": [
       "U    0.577955\n",
       "V    0.065976\n",
       "W    0.355250\n",
       "X    0.363019\n",
       "Y    0.115714\n",
       "Z    0.221141\n",
       "Name: e, dtype: float64"
      ]
     },
     "execution_count": 92,
     "metadata": {},
     "output_type": "execute_result"
    }
   ],
   "source": [
    "df.iloc[4]"
   ]
  },
  {
   "cell_type": "markdown",
   "metadata": {},
   "source": [
    "**Subsets**"
   ]
  },
  {
   "cell_type": "markdown",
   "metadata": {},
   "source": [
    "jeigu norime pavienės reikšmės iš lentelės:"
   ]
  },
  {
   "cell_type": "code",
   "execution_count": 93,
   "metadata": {},
   "outputs": [
    {
     "data": {
      "text/plain": [
       "0.686814357026988"
      ]
     },
     "execution_count": 93,
     "metadata": {},
     "output_type": "execute_result"
    }
   ],
   "source": [
    "df.loc['c', 'Z']"
   ]
  },
  {
   "cell_type": "markdown",
   "metadata": {},
   "source": [
    "jeigu norime fragmento iš eilučių ir stulpelių (*subset*):"
   ]
  },
  {
   "cell_type": "code",
   "execution_count": 94,
   "metadata": {},
   "outputs": [
    {
     "data": {
      "text/html": [
       "<div>\n",
       "<style scoped>\n",
       "    .dataframe tbody tr th:only-of-type {\n",
       "        vertical-align: middle;\n",
       "    }\n",
       "\n",
       "    .dataframe tbody tr th {\n",
       "        vertical-align: top;\n",
       "    }\n",
       "\n",
       "    .dataframe thead th {\n",
       "        text-align: right;\n",
       "    }\n",
       "</style>\n",
       "<table border=\"1\" class=\"dataframe\">\n",
       "  <thead>\n",
       "    <tr style=\"text-align: right;\">\n",
       "      <th></th>\n",
       "      <th>U</th>\n",
       "      <th>V</th>\n",
       "      <th>Z</th>\n",
       "    </tr>\n",
       "  </thead>\n",
       "  <tbody>\n",
       "    <tr>\n",
       "      <th>a</th>\n",
       "      <td>0.245427</td>\n",
       "      <td>0.864114</td>\n",
       "      <td>0.798687</td>\n",
       "    </tr>\n",
       "    <tr>\n",
       "      <th>c</th>\n",
       "      <td>0.191600</td>\n",
       "      <td>0.956622</td>\n",
       "      <td>0.686814</td>\n",
       "    </tr>\n",
       "  </tbody>\n",
       "</table>\n",
       "</div>"
      ],
      "text/plain": [
       "          U         V         Z\n",
       "a  0.245427  0.864114  0.798687\n",
       "c  0.191600  0.956622  0.686814"
      ]
     },
     "execution_count": 94,
     "metadata": {},
     "output_type": "execute_result"
    }
   ],
   "source": [
    "df.loc[['a', 'c'], ['U', 'V', 'Z']]"
   ]
  },
  {
   "cell_type": "markdown",
   "metadata": {},
   "source": [
    "**Duomenų traukimas pagal sąlygą:**"
   ]
  },
  {
   "cell_type": "markdown",
   "metadata": {},
   "source": [
    "duomenų traukimas pagal sąlygą yra labai panašus, kaip ir numPy:"
   ]
  },
  {
   "cell_type": "code",
   "execution_count": 95,
   "metadata": {},
   "outputs": [
    {
     "data": {
      "text/html": [
       "<div>\n",
       "<style scoped>\n",
       "    .dataframe tbody tr th:only-of-type {\n",
       "        vertical-align: middle;\n",
       "    }\n",
       "\n",
       "    .dataframe tbody tr th {\n",
       "        vertical-align: top;\n",
       "    }\n",
       "\n",
       "    .dataframe thead th {\n",
       "        text-align: right;\n",
       "    }\n",
       "</style>\n",
       "<table border=\"1\" class=\"dataframe\">\n",
       "  <thead>\n",
       "    <tr style=\"text-align: right;\">\n",
       "      <th></th>\n",
       "      <th>U</th>\n",
       "      <th>V</th>\n",
       "      <th>W</th>\n",
       "      <th>X</th>\n",
       "      <th>Y</th>\n",
       "      <th>Z</th>\n",
       "    </tr>\n",
       "  </thead>\n",
       "  <tbody>\n",
       "    <tr>\n",
       "      <th>a</th>\n",
       "      <td>0.245427</td>\n",
       "      <td>0.864114</td>\n",
       "      <td>0.021860</td>\n",
       "      <td>0.694264</td>\n",
       "      <td>0.461195</td>\n",
       "      <td>0.798687</td>\n",
       "    </tr>\n",
       "    <tr>\n",
       "      <th>b</th>\n",
       "      <td>0.741545</td>\n",
       "      <td>0.332583</td>\n",
       "      <td>0.958161</td>\n",
       "      <td>0.735902</td>\n",
       "      <td>0.496276</td>\n",
       "      <td>0.322645</td>\n",
       "    </tr>\n",
       "    <tr>\n",
       "      <th>c</th>\n",
       "      <td>0.191600</td>\n",
       "      <td>0.956622</td>\n",
       "      <td>0.538147</td>\n",
       "      <td>0.887059</td>\n",
       "      <td>0.139654</td>\n",
       "      <td>0.686814</td>\n",
       "    </tr>\n",
       "    <tr>\n",
       "      <th>d</th>\n",
       "      <td>0.920345</td>\n",
       "      <td>0.428761</td>\n",
       "      <td>0.899094</td>\n",
       "      <td>0.203583</td>\n",
       "      <td>0.723493</td>\n",
       "      <td>0.213124</td>\n",
       "    </tr>\n",
       "    <tr>\n",
       "      <th>e</th>\n",
       "      <td>0.577955</td>\n",
       "      <td>0.065976</td>\n",
       "      <td>0.355250</td>\n",
       "      <td>0.363019</td>\n",
       "      <td>0.115714</td>\n",
       "      <td>0.221141</td>\n",
       "    </tr>\n",
       "  </tbody>\n",
       "</table>\n",
       "</div>"
      ],
      "text/plain": [
       "          U         V         W         X         Y         Z\n",
       "a  0.245427  0.864114  0.021860  0.694264  0.461195  0.798687\n",
       "b  0.741545  0.332583  0.958161  0.735902  0.496276  0.322645\n",
       "c  0.191600  0.956622  0.538147  0.887059  0.139654  0.686814\n",
       "d  0.920345  0.428761  0.899094  0.203583  0.723493  0.213124\n",
       "e  0.577955  0.065976  0.355250  0.363019  0.115714  0.221141"
      ]
     },
     "execution_count": 95,
     "metadata": {},
     "output_type": "execute_result"
    }
   ],
   "source": [
    "df"
   ]
  },
  {
   "cell_type": "code",
   "execution_count": 96,
   "metadata": {},
   "outputs": [
    {
     "data": {
      "text/html": [
       "<div>\n",
       "<style scoped>\n",
       "    .dataframe tbody tr th:only-of-type {\n",
       "        vertical-align: middle;\n",
       "    }\n",
       "\n",
       "    .dataframe tbody tr th {\n",
       "        vertical-align: top;\n",
       "    }\n",
       "\n",
       "    .dataframe thead th {\n",
       "        text-align: right;\n",
       "    }\n",
       "</style>\n",
       "<table border=\"1\" class=\"dataframe\">\n",
       "  <thead>\n",
       "    <tr style=\"text-align: right;\">\n",
       "      <th></th>\n",
       "      <th>U</th>\n",
       "      <th>V</th>\n",
       "      <th>W</th>\n",
       "      <th>X</th>\n",
       "      <th>Y</th>\n",
       "      <th>Z</th>\n",
       "    </tr>\n",
       "  </thead>\n",
       "  <tbody>\n",
       "    <tr>\n",
       "      <th>a</th>\n",
       "      <td>NaN</td>\n",
       "      <td>0.864114</td>\n",
       "      <td>NaN</td>\n",
       "      <td>0.694264</td>\n",
       "      <td>0.461195</td>\n",
       "      <td>0.798687</td>\n",
       "    </tr>\n",
       "    <tr>\n",
       "      <th>b</th>\n",
       "      <td>0.741545</td>\n",
       "      <td>NaN</td>\n",
       "      <td>0.958161</td>\n",
       "      <td>0.735902</td>\n",
       "      <td>0.496276</td>\n",
       "      <td>NaN</td>\n",
       "    </tr>\n",
       "    <tr>\n",
       "      <th>c</th>\n",
       "      <td>NaN</td>\n",
       "      <td>0.956622</td>\n",
       "      <td>0.538147</td>\n",
       "      <td>0.887059</td>\n",
       "      <td>NaN</td>\n",
       "      <td>0.686814</td>\n",
       "    </tr>\n",
       "    <tr>\n",
       "      <th>d</th>\n",
       "      <td>0.920345</td>\n",
       "      <td>0.428761</td>\n",
       "      <td>0.899094</td>\n",
       "      <td>NaN</td>\n",
       "      <td>0.723493</td>\n",
       "      <td>NaN</td>\n",
       "    </tr>\n",
       "    <tr>\n",
       "      <th>e</th>\n",
       "      <td>0.577955</td>\n",
       "      <td>NaN</td>\n",
       "      <td>NaN</td>\n",
       "      <td>NaN</td>\n",
       "      <td>NaN</td>\n",
       "      <td>NaN</td>\n",
       "    </tr>\n",
       "  </tbody>\n",
       "</table>\n",
       "</div>"
      ],
      "text/plain": [
       "          U         V         W         X         Y         Z\n",
       "a       NaN  0.864114       NaN  0.694264  0.461195  0.798687\n",
       "b  0.741545       NaN  0.958161  0.735902  0.496276       NaN\n",
       "c       NaN  0.956622  0.538147  0.887059       NaN  0.686814\n",
       "d  0.920345  0.428761  0.899094       NaN  0.723493       NaN\n",
       "e  0.577955       NaN       NaN       NaN       NaN       NaN"
      ]
     },
     "execution_count": 96,
     "metadata": {},
     "output_type": "execute_result"
    }
   ],
   "source": [
    "df[df>0.4] "
   ]
  },
  {
   "cell_type": "markdown",
   "metadata": {},
   "source": [
    "kur reikšmės atitinką sąlygą, turime reikšmes, kur neatitinka - NaN."
   ]
  },
  {
   "cell_type": "markdown",
   "metadata": {},
   "source": [
    "jeigu prireiktų subset'o, kur stulpelio 'W' reikšmės yra > 0.5:"
   ]
  },
  {
   "cell_type": "code",
   "execution_count": 97,
   "metadata": {},
   "outputs": [
    {
     "data": {
      "text/html": [
       "<div>\n",
       "<style scoped>\n",
       "    .dataframe tbody tr th:only-of-type {\n",
       "        vertical-align: middle;\n",
       "    }\n",
       "\n",
       "    .dataframe tbody tr th {\n",
       "        vertical-align: top;\n",
       "    }\n",
       "\n",
       "    .dataframe thead th {\n",
       "        text-align: right;\n",
       "    }\n",
       "</style>\n",
       "<table border=\"1\" class=\"dataframe\">\n",
       "  <thead>\n",
       "    <tr style=\"text-align: right;\">\n",
       "      <th></th>\n",
       "      <th>U</th>\n",
       "      <th>V</th>\n",
       "      <th>W</th>\n",
       "      <th>X</th>\n",
       "      <th>Y</th>\n",
       "      <th>Z</th>\n",
       "    </tr>\n",
       "  </thead>\n",
       "  <tbody>\n",
       "    <tr>\n",
       "      <th>b</th>\n",
       "      <td>0.741545</td>\n",
       "      <td>0.332583</td>\n",
       "      <td>0.958161</td>\n",
       "      <td>0.735902</td>\n",
       "      <td>0.496276</td>\n",
       "      <td>0.322645</td>\n",
       "    </tr>\n",
       "    <tr>\n",
       "      <th>c</th>\n",
       "      <td>0.191600</td>\n",
       "      <td>0.956622</td>\n",
       "      <td>0.538147</td>\n",
       "      <td>0.887059</td>\n",
       "      <td>0.139654</td>\n",
       "      <td>0.686814</td>\n",
       "    </tr>\n",
       "    <tr>\n",
       "      <th>d</th>\n",
       "      <td>0.920345</td>\n",
       "      <td>0.428761</td>\n",
       "      <td>0.899094</td>\n",
       "      <td>0.203583</td>\n",
       "      <td>0.723493</td>\n",
       "      <td>0.213124</td>\n",
       "    </tr>\n",
       "  </tbody>\n",
       "</table>\n",
       "</div>"
      ],
      "text/plain": [
       "          U         V         W         X         Y         Z\n",
       "b  0.741545  0.332583  0.958161  0.735902  0.496276  0.322645\n",
       "c  0.191600  0.956622  0.538147  0.887059  0.139654  0.686814\n",
       "d  0.920345  0.428761  0.899094  0.203583  0.723493  0.213124"
      ]
     },
     "execution_count": 97,
     "metadata": {},
     "output_type": "execute_result"
    }
   ],
   "source": [
    "df[df['W']>0.5]"
   ]
  },
  {
   "cell_type": "markdown",
   "metadata": {},
   "source": [
    "Skirtumas tarp šių operacijų toks, kad kai sąlygą taikome visam DataFrame'ui, gauname tą patį DataFrame su NaN reikšmėmis, tose vietose, kur originalios reikšmės neatitinka sąlygos. Kai sąlygą taikome stulpeliams, gauname tik tas eilutes, kurios atitinka sąlygą, t.y. vykdome filtravimą."
   ]
  },
  {
   "cell_type": "markdown",
   "metadata": {},
   "source": [
    "**Užklausų kombinavimas**"
   ]
  },
  {
   "cell_type": "code",
   "execution_count": 98,
   "metadata": {},
   "outputs": [
    {
     "data": {
      "text/html": [
       "<div>\n",
       "<style scoped>\n",
       "    .dataframe tbody tr th:only-of-type {\n",
       "        vertical-align: middle;\n",
       "    }\n",
       "\n",
       "    .dataframe tbody tr th {\n",
       "        vertical-align: top;\n",
       "    }\n",
       "\n",
       "    .dataframe thead th {\n",
       "        text-align: right;\n",
       "    }\n",
       "</style>\n",
       "<table border=\"1\" class=\"dataframe\">\n",
       "  <thead>\n",
       "    <tr style=\"text-align: right;\">\n",
       "      <th></th>\n",
       "      <th>U</th>\n",
       "      <th>W</th>\n",
       "      <th>Z</th>\n",
       "    </tr>\n",
       "  </thead>\n",
       "  <tbody>\n",
       "    <tr>\n",
       "      <th>b</th>\n",
       "      <td>0.741545</td>\n",
       "      <td>0.958161</td>\n",
       "      <td>0.322645</td>\n",
       "    </tr>\n",
       "    <tr>\n",
       "      <th>c</th>\n",
       "      <td>0.191600</td>\n",
       "      <td>0.538147</td>\n",
       "      <td>0.686814</td>\n",
       "    </tr>\n",
       "    <tr>\n",
       "      <th>d</th>\n",
       "      <td>0.920345</td>\n",
       "      <td>0.899094</td>\n",
       "      <td>0.213124</td>\n",
       "    </tr>\n",
       "  </tbody>\n",
       "</table>\n",
       "</div>"
      ],
      "text/plain": [
       "          U         W         Z\n",
       "b  0.741545  0.958161  0.322645\n",
       "c  0.191600  0.538147  0.686814\n",
       "d  0.920345  0.899094  0.213124"
      ]
     },
     "execution_count": 98,
     "metadata": {},
     "output_type": "execute_result"
    }
   ],
   "source": [
    "df[df['W']>0.5][['U', 'W', 'Z']]"
   ]
  },
  {
   "cell_type": "markdown",
   "metadata": {},
   "source": [
    "šiame pavyzdyje gauname rezultatą, kokį gautumėm paeiliui ivykdę dvi atskiras eilutes: *df1 = df[df['W']>0.5], df1[['U', 'W', 'Z']]*. Užklausų kombinavimas leidžia mums nekurti atmintyje papildomų kintamųjų (kaip šiuo atveju *df1*)."
   ]
  },
  {
   "cell_type": "markdown",
   "metadata": {},
   "source": [
    "**Sąlygų kombinavimas**"
   ]
  },
  {
   "cell_type": "code",
   "execution_count": 99,
   "metadata": {},
   "outputs": [
    {
     "data": {
      "text/html": [
       "<div>\n",
       "<style scoped>\n",
       "    .dataframe tbody tr th:only-of-type {\n",
       "        vertical-align: middle;\n",
       "    }\n",
       "\n",
       "    .dataframe tbody tr th {\n",
       "        vertical-align: top;\n",
       "    }\n",
       "\n",
       "    .dataframe thead th {\n",
       "        text-align: right;\n",
       "    }\n",
       "</style>\n",
       "<table border=\"1\" class=\"dataframe\">\n",
       "  <thead>\n",
       "    <tr style=\"text-align: right;\">\n",
       "      <th></th>\n",
       "      <th>U</th>\n",
       "      <th>V</th>\n",
       "      <th>W</th>\n",
       "      <th>X</th>\n",
       "      <th>Y</th>\n",
       "      <th>Z</th>\n",
       "    </tr>\n",
       "  </thead>\n",
       "  <tbody>\n",
       "    <tr>\n",
       "      <th>a</th>\n",
       "      <td>0.245427</td>\n",
       "      <td>0.864114</td>\n",
       "      <td>0.021860</td>\n",
       "      <td>0.694264</td>\n",
       "      <td>0.461195</td>\n",
       "      <td>0.798687</td>\n",
       "    </tr>\n",
       "    <tr>\n",
       "      <th>b</th>\n",
       "      <td>0.741545</td>\n",
       "      <td>0.332583</td>\n",
       "      <td>0.958161</td>\n",
       "      <td>0.735902</td>\n",
       "      <td>0.496276</td>\n",
       "      <td>0.322645</td>\n",
       "    </tr>\n",
       "    <tr>\n",
       "      <th>c</th>\n",
       "      <td>0.191600</td>\n",
       "      <td>0.956622</td>\n",
       "      <td>0.538147</td>\n",
       "      <td>0.887059</td>\n",
       "      <td>0.139654</td>\n",
       "      <td>0.686814</td>\n",
       "    </tr>\n",
       "    <tr>\n",
       "      <th>d</th>\n",
       "      <td>0.920345</td>\n",
       "      <td>0.428761</td>\n",
       "      <td>0.899094</td>\n",
       "      <td>0.203583</td>\n",
       "      <td>0.723493</td>\n",
       "      <td>0.213124</td>\n",
       "    </tr>\n",
       "    <tr>\n",
       "      <th>e</th>\n",
       "      <td>0.577955</td>\n",
       "      <td>0.065976</td>\n",
       "      <td>0.355250</td>\n",
       "      <td>0.363019</td>\n",
       "      <td>0.115714</td>\n",
       "      <td>0.221141</td>\n",
       "    </tr>\n",
       "  </tbody>\n",
       "</table>\n",
       "</div>"
      ],
      "text/plain": [
       "          U         V         W         X         Y         Z\n",
       "a  0.245427  0.864114  0.021860  0.694264  0.461195  0.798687\n",
       "b  0.741545  0.332583  0.958161  0.735902  0.496276  0.322645\n",
       "c  0.191600  0.956622  0.538147  0.887059  0.139654  0.686814\n",
       "d  0.920345  0.428761  0.899094  0.203583  0.723493  0.213124\n",
       "e  0.577955  0.065976  0.355250  0.363019  0.115714  0.221141"
      ]
     },
     "execution_count": 99,
     "metadata": {},
     "output_type": "execute_result"
    }
   ],
   "source": [
    "df"
   ]
  },
  {
   "cell_type": "code",
   "execution_count": 100,
   "metadata": {},
   "outputs": [
    {
     "data": {
      "text/html": [
       "<div>\n",
       "<style scoped>\n",
       "    .dataframe tbody tr th:only-of-type {\n",
       "        vertical-align: middle;\n",
       "    }\n",
       "\n",
       "    .dataframe tbody tr th {\n",
       "        vertical-align: top;\n",
       "    }\n",
       "\n",
       "    .dataframe thead th {\n",
       "        text-align: right;\n",
       "    }\n",
       "</style>\n",
       "<table border=\"1\" class=\"dataframe\">\n",
       "  <thead>\n",
       "    <tr style=\"text-align: right;\">\n",
       "      <th></th>\n",
       "      <th>U</th>\n",
       "      <th>V</th>\n",
       "      <th>W</th>\n",
       "      <th>X</th>\n",
       "      <th>Y</th>\n",
       "      <th>Z</th>\n",
       "    </tr>\n",
       "  </thead>\n",
       "  <tbody>\n",
       "    <tr>\n",
       "      <th>b</th>\n",
       "      <td>0.741545</td>\n",
       "      <td>0.332583</td>\n",
       "      <td>0.958161</td>\n",
       "      <td>0.735902</td>\n",
       "      <td>0.496276</td>\n",
       "      <td>0.322645</td>\n",
       "    </tr>\n",
       "    <tr>\n",
       "      <th>d</th>\n",
       "      <td>0.920345</td>\n",
       "      <td>0.428761</td>\n",
       "      <td>0.899094</td>\n",
       "      <td>0.203583</td>\n",
       "      <td>0.723493</td>\n",
       "      <td>0.213124</td>\n",
       "    </tr>\n",
       "    <tr>\n",
       "      <th>e</th>\n",
       "      <td>0.577955</td>\n",
       "      <td>0.065976</td>\n",
       "      <td>0.355250</td>\n",
       "      <td>0.363019</td>\n",
       "      <td>0.115714</td>\n",
       "      <td>0.221141</td>\n",
       "    </tr>\n",
       "  </tbody>\n",
       "</table>\n",
       "</div>"
      ],
      "text/plain": [
       "          U         V         W         X         Y         Z\n",
       "b  0.741545  0.332583  0.958161  0.735902  0.496276  0.322645\n",
       "d  0.920345  0.428761  0.899094  0.203583  0.723493  0.213124\n",
       "e  0.577955  0.065976  0.355250  0.363019  0.115714  0.221141"
      ]
     },
     "execution_count": 100,
     "metadata": {},
     "output_type": "execute_result"
    }
   ],
   "source": [
    "df[(df['U']>0.5) & (df['Z']<0.5)]"
   ]
  },
  {
   "cell_type": "markdown",
   "metadata": {},
   "source": [
    "gavome tas eilutes, kuriose U stulpelyje reikšmės didesnės, o Z stulpelyje mažesnės už 0.5."
   ]
  },
  {
   "cell_type": "code",
   "execution_count": 101,
   "metadata": {},
   "outputs": [
    {
     "data": {
      "text/html": [
       "<div>\n",
       "<style scoped>\n",
       "    .dataframe tbody tr th:only-of-type {\n",
       "        vertical-align: middle;\n",
       "    }\n",
       "\n",
       "    .dataframe tbody tr th {\n",
       "        vertical-align: top;\n",
       "    }\n",
       "\n",
       "    .dataframe thead th {\n",
       "        text-align: right;\n",
       "    }\n",
       "</style>\n",
       "<table border=\"1\" class=\"dataframe\">\n",
       "  <thead>\n",
       "    <tr style=\"text-align: right;\">\n",
       "      <th></th>\n",
       "      <th>U</th>\n",
       "      <th>Z</th>\n",
       "    </tr>\n",
       "  </thead>\n",
       "  <tbody>\n",
       "    <tr>\n",
       "      <th>b</th>\n",
       "      <td>0.741545</td>\n",
       "      <td>0.322645</td>\n",
       "    </tr>\n",
       "    <tr>\n",
       "      <th>d</th>\n",
       "      <td>0.920345</td>\n",
       "      <td>0.213124</td>\n",
       "    </tr>\n",
       "    <tr>\n",
       "      <th>e</th>\n",
       "      <td>0.577955</td>\n",
       "      <td>0.221141</td>\n",
       "    </tr>\n",
       "  </tbody>\n",
       "</table>\n",
       "</div>"
      ],
      "text/plain": [
       "          U         Z\n",
       "b  0.741545  0.322645\n",
       "d  0.920345  0.213124\n",
       "e  0.577955  0.221141"
      ]
     },
     "execution_count": 101,
     "metadata": {},
     "output_type": "execute_result"
    }
   ],
   "source": [
    "df[(df['U']>0.5) & (df['Z']<0.5)][['U', 'Z']]"
   ]
  },
  {
   "cell_type": "markdown",
   "metadata": {},
   "source": [
    "Čia sukombinavome dvi sąlygas ir iš rezultato paprašėme tik 2jų stulpelių"
   ]
  },
  {
   "cell_type": "markdown",
   "metadata": {},
   "source": [
    "**Operacijos su index stulpeliu**"
   ]
  },
  {
   "cell_type": "markdown",
   "metadata": {},
   "source": [
    "reset_index paverčia mūsų seną indeksą dar vienu stulpeliu, ir sukuria naują indeksą iš skaičių. Reikia naudoti *inplace=True*, jei norime pakeisti originalą."
   ]
  },
  {
   "cell_type": "code",
   "execution_count": 102,
   "metadata": {},
   "outputs": [
    {
     "data": {
      "text/html": [
       "<div>\n",
       "<style scoped>\n",
       "    .dataframe tbody tr th:only-of-type {\n",
       "        vertical-align: middle;\n",
       "    }\n",
       "\n",
       "    .dataframe tbody tr th {\n",
       "        vertical-align: top;\n",
       "    }\n",
       "\n",
       "    .dataframe thead th {\n",
       "        text-align: right;\n",
       "    }\n",
       "</style>\n",
       "<table border=\"1\" class=\"dataframe\">\n",
       "  <thead>\n",
       "    <tr style=\"text-align: right;\">\n",
       "      <th></th>\n",
       "      <th>index</th>\n",
       "      <th>U</th>\n",
       "      <th>V</th>\n",
       "      <th>W</th>\n",
       "      <th>X</th>\n",
       "      <th>Y</th>\n",
       "      <th>Z</th>\n",
       "    </tr>\n",
       "  </thead>\n",
       "  <tbody>\n",
       "    <tr>\n",
       "      <th>0</th>\n",
       "      <td>a</td>\n",
       "      <td>0.245427</td>\n",
       "      <td>0.864114</td>\n",
       "      <td>0.021860</td>\n",
       "      <td>0.694264</td>\n",
       "      <td>0.461195</td>\n",
       "      <td>0.798687</td>\n",
       "    </tr>\n",
       "    <tr>\n",
       "      <th>1</th>\n",
       "      <td>b</td>\n",
       "      <td>0.741545</td>\n",
       "      <td>0.332583</td>\n",
       "      <td>0.958161</td>\n",
       "      <td>0.735902</td>\n",
       "      <td>0.496276</td>\n",
       "      <td>0.322645</td>\n",
       "    </tr>\n",
       "    <tr>\n",
       "      <th>2</th>\n",
       "      <td>c</td>\n",
       "      <td>0.191600</td>\n",
       "      <td>0.956622</td>\n",
       "      <td>0.538147</td>\n",
       "      <td>0.887059</td>\n",
       "      <td>0.139654</td>\n",
       "      <td>0.686814</td>\n",
       "    </tr>\n",
       "    <tr>\n",
       "      <th>3</th>\n",
       "      <td>d</td>\n",
       "      <td>0.920345</td>\n",
       "      <td>0.428761</td>\n",
       "      <td>0.899094</td>\n",
       "      <td>0.203583</td>\n",
       "      <td>0.723493</td>\n",
       "      <td>0.213124</td>\n",
       "    </tr>\n",
       "    <tr>\n",
       "      <th>4</th>\n",
       "      <td>e</td>\n",
       "      <td>0.577955</td>\n",
       "      <td>0.065976</td>\n",
       "      <td>0.355250</td>\n",
       "      <td>0.363019</td>\n",
       "      <td>0.115714</td>\n",
       "      <td>0.221141</td>\n",
       "    </tr>\n",
       "  </tbody>\n",
       "</table>\n",
       "</div>"
      ],
      "text/plain": [
       "  index         U         V         W         X         Y         Z\n",
       "0     a  0.245427  0.864114  0.021860  0.694264  0.461195  0.798687\n",
       "1     b  0.741545  0.332583  0.958161  0.735902  0.496276  0.322645\n",
       "2     c  0.191600  0.956622  0.538147  0.887059  0.139654  0.686814\n",
       "3     d  0.920345  0.428761  0.899094  0.203583  0.723493  0.213124\n",
       "4     e  0.577955  0.065976  0.355250  0.363019  0.115714  0.221141"
      ]
     },
     "execution_count": 102,
     "metadata": {},
     "output_type": "execute_result"
    }
   ],
   "source": [
    "df.reset_index()"
   ]
  },
  {
   "cell_type": "markdown",
   "metadata": {},
   "source": [
    "Norint sukurti naują indeksą, reikia pridėti naują stulpelį:"
   ]
  },
  {
   "cell_type": "code",
   "execution_count": 103,
   "metadata": {},
   "outputs": [],
   "source": [
    "naujas_indeksas = 'Vilnius Kaunas Klaipėda Šiauliai Panevėžys'.split()"
   ]
  },
  {
   "cell_type": "code",
   "execution_count": 104,
   "metadata": {},
   "outputs": [
    {
     "data": {
      "text/plain": [
       "['Vilnius', 'Kaunas', 'Klaipėda', 'Šiauliai', 'Panevėžys']"
      ]
     },
     "execution_count": 104,
     "metadata": {},
     "output_type": "execute_result"
    }
   ],
   "source": [
    "naujas_indeksas"
   ]
  },
  {
   "cell_type": "code",
   "execution_count": 105,
   "metadata": {},
   "outputs": [],
   "source": [
    "df['Miestai'] = naujas_indeksas"
   ]
  },
  {
   "cell_type": "code",
   "execution_count": 106,
   "metadata": {},
   "outputs": [
    {
     "data": {
      "text/html": [
       "<div>\n",
       "<style scoped>\n",
       "    .dataframe tbody tr th:only-of-type {\n",
       "        vertical-align: middle;\n",
       "    }\n",
       "\n",
       "    .dataframe tbody tr th {\n",
       "        vertical-align: top;\n",
       "    }\n",
       "\n",
       "    .dataframe thead th {\n",
       "        text-align: right;\n",
       "    }\n",
       "</style>\n",
       "<table border=\"1\" class=\"dataframe\">\n",
       "  <thead>\n",
       "    <tr style=\"text-align: right;\">\n",
       "      <th></th>\n",
       "      <th>U</th>\n",
       "      <th>V</th>\n",
       "      <th>W</th>\n",
       "      <th>X</th>\n",
       "      <th>Y</th>\n",
       "      <th>Z</th>\n",
       "      <th>Miestai</th>\n",
       "    </tr>\n",
       "  </thead>\n",
       "  <tbody>\n",
       "    <tr>\n",
       "      <th>a</th>\n",
       "      <td>0.245427</td>\n",
       "      <td>0.864114</td>\n",
       "      <td>0.021860</td>\n",
       "      <td>0.694264</td>\n",
       "      <td>0.461195</td>\n",
       "      <td>0.798687</td>\n",
       "      <td>Vilnius</td>\n",
       "    </tr>\n",
       "    <tr>\n",
       "      <th>b</th>\n",
       "      <td>0.741545</td>\n",
       "      <td>0.332583</td>\n",
       "      <td>0.958161</td>\n",
       "      <td>0.735902</td>\n",
       "      <td>0.496276</td>\n",
       "      <td>0.322645</td>\n",
       "      <td>Kaunas</td>\n",
       "    </tr>\n",
       "    <tr>\n",
       "      <th>c</th>\n",
       "      <td>0.191600</td>\n",
       "      <td>0.956622</td>\n",
       "      <td>0.538147</td>\n",
       "      <td>0.887059</td>\n",
       "      <td>0.139654</td>\n",
       "      <td>0.686814</td>\n",
       "      <td>Klaipėda</td>\n",
       "    </tr>\n",
       "    <tr>\n",
       "      <th>d</th>\n",
       "      <td>0.920345</td>\n",
       "      <td>0.428761</td>\n",
       "      <td>0.899094</td>\n",
       "      <td>0.203583</td>\n",
       "      <td>0.723493</td>\n",
       "      <td>0.213124</td>\n",
       "      <td>Šiauliai</td>\n",
       "    </tr>\n",
       "    <tr>\n",
       "      <th>e</th>\n",
       "      <td>0.577955</td>\n",
       "      <td>0.065976</td>\n",
       "      <td>0.355250</td>\n",
       "      <td>0.363019</td>\n",
       "      <td>0.115714</td>\n",
       "      <td>0.221141</td>\n",
       "      <td>Panevėžys</td>\n",
       "    </tr>\n",
       "  </tbody>\n",
       "</table>\n",
       "</div>"
      ],
      "text/plain": [
       "          U         V         W         X         Y         Z    Miestai\n",
       "a  0.245427  0.864114  0.021860  0.694264  0.461195  0.798687    Vilnius\n",
       "b  0.741545  0.332583  0.958161  0.735902  0.496276  0.322645     Kaunas\n",
       "c  0.191600  0.956622  0.538147  0.887059  0.139654  0.686814   Klaipėda\n",
       "d  0.920345  0.428761  0.899094  0.203583  0.723493  0.213124   Šiauliai\n",
       "e  0.577955  0.065976  0.355250  0.363019  0.115714  0.221141  Panevėžys"
      ]
     },
     "execution_count": 106,
     "metadata": {},
     "output_type": "execute_result"
    }
   ],
   "source": [
    "df"
   ]
  },
  {
   "cell_type": "code",
   "execution_count": 107,
   "metadata": {
    "scrolled": true
   },
   "outputs": [
    {
     "data": {
      "text/html": [
       "<div>\n",
       "<style scoped>\n",
       "    .dataframe tbody tr th:only-of-type {\n",
       "        vertical-align: middle;\n",
       "    }\n",
       "\n",
       "    .dataframe tbody tr th {\n",
       "        vertical-align: top;\n",
       "    }\n",
       "\n",
       "    .dataframe thead th {\n",
       "        text-align: right;\n",
       "    }\n",
       "</style>\n",
       "<table border=\"1\" class=\"dataframe\">\n",
       "  <thead>\n",
       "    <tr style=\"text-align: right;\">\n",
       "      <th></th>\n",
       "      <th>U</th>\n",
       "      <th>V</th>\n",
       "      <th>W</th>\n",
       "      <th>X</th>\n",
       "      <th>Y</th>\n",
       "      <th>Z</th>\n",
       "    </tr>\n",
       "    <tr>\n",
       "      <th>Miestai</th>\n",
       "      <th></th>\n",
       "      <th></th>\n",
       "      <th></th>\n",
       "      <th></th>\n",
       "      <th></th>\n",
       "      <th></th>\n",
       "    </tr>\n",
       "  </thead>\n",
       "  <tbody>\n",
       "    <tr>\n",
       "      <th>Vilnius</th>\n",
       "      <td>0.245427</td>\n",
       "      <td>0.864114</td>\n",
       "      <td>0.021860</td>\n",
       "      <td>0.694264</td>\n",
       "      <td>0.461195</td>\n",
       "      <td>0.798687</td>\n",
       "    </tr>\n",
       "    <tr>\n",
       "      <th>Kaunas</th>\n",
       "      <td>0.741545</td>\n",
       "      <td>0.332583</td>\n",
       "      <td>0.958161</td>\n",
       "      <td>0.735902</td>\n",
       "      <td>0.496276</td>\n",
       "      <td>0.322645</td>\n",
       "    </tr>\n",
       "    <tr>\n",
       "      <th>Klaipėda</th>\n",
       "      <td>0.191600</td>\n",
       "      <td>0.956622</td>\n",
       "      <td>0.538147</td>\n",
       "      <td>0.887059</td>\n",
       "      <td>0.139654</td>\n",
       "      <td>0.686814</td>\n",
       "    </tr>\n",
       "    <tr>\n",
       "      <th>Šiauliai</th>\n",
       "      <td>0.920345</td>\n",
       "      <td>0.428761</td>\n",
       "      <td>0.899094</td>\n",
       "      <td>0.203583</td>\n",
       "      <td>0.723493</td>\n",
       "      <td>0.213124</td>\n",
       "    </tr>\n",
       "    <tr>\n",
       "      <th>Panevėžys</th>\n",
       "      <td>0.577955</td>\n",
       "      <td>0.065976</td>\n",
       "      <td>0.355250</td>\n",
       "      <td>0.363019</td>\n",
       "      <td>0.115714</td>\n",
       "      <td>0.221141</td>\n",
       "    </tr>\n",
       "  </tbody>\n",
       "</table>\n",
       "</div>"
      ],
      "text/plain": [
       "                  U         V         W         X         Y         Z\n",
       "Miestai                                                              \n",
       "Vilnius    0.245427  0.864114  0.021860  0.694264  0.461195  0.798687\n",
       "Kaunas     0.741545  0.332583  0.958161  0.735902  0.496276  0.322645\n",
       "Klaipėda   0.191600  0.956622  0.538147  0.887059  0.139654  0.686814\n",
       "Šiauliai   0.920345  0.428761  0.899094  0.203583  0.723493  0.213124\n",
       "Panevėžys  0.577955  0.065976  0.355250  0.363019  0.115714  0.221141"
      ]
     },
     "execution_count": 107,
     "metadata": {},
     "output_type": "execute_result"
    }
   ],
   "source": [
    "df.set_index('Miestai')"
   ]
  },
  {
   "cell_type": "code",
   "execution_count": null,
   "metadata": {},
   "outputs": [],
   "source": []
  }
 ],
 "metadata": {
  "kernelspec": {
   "display_name": "Python 3",
   "language": "python",
   "name": "python3"
  },
  "language_info": {
   "codemirror_mode": {
    "name": "ipython",
    "version": 3
   },
   "file_extension": ".py",
   "mimetype": "text/x-python",
   "name": "python",
   "nbconvert_exporter": "python",
   "pygments_lexer": "ipython3",
   "version": "3.12.1"
  }
 },
 "nbformat": 4,
 "nbformat_minor": 2
}
