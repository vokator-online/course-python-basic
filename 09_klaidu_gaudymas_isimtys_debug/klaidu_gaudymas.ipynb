{
 "cells": [
  {
   "cell_type": "code",
   "execution_count": 6,
   "metadata": {},
   "outputs": [
    {
     "name": "stdout",
     "output_type": "stream",
     "text": [
      "Klaida: Įvestas tekstas, bet turi būti skaičius.\n"
     ]
    }
   ],
   "source": [
    "try:\n",
    "    # Vartotojo įvedimas\n",
    "    skaicius1 = float(input(\"Įveskite pirmą skaičių: \"))\n",
    "    skaicius2 = float(input(\"Įveskite antrą skaičių: \"))\n",
    "\n",
    "    # Dalmenų skaičiavimas\n",
    "    dalmenys = skaicius1 / skaicius2\n",
    "\n",
    "    # Spausdinimas\n",
    "    print(f\"{skaicius1} / {skaicius2} = {dalmenys}\")\n",
    "\n",
    "except ValueError:\n",
    "    print(\"Klaida: Įvestas tekstas, bet turi būti skaičius.\")\n",
    "\n",
    "except ZeroDivisionError:\n",
    "    print(\"Klaida: Dalyba iš nulio negalima.\")\n"
   ]
  },
  {
   "cell_type": "code",
   "execution_count": 8,
   "metadata": {},
   "outputs": [
    {
     "name": "stdout",
     "output_type": "stream",
     "text": [
      "Negalima dalinti iš nulio\n"
     ]
    }
   ],
   "source": [
    "try:\n",
    "    x = int(input(\"Įveskite pirmąjį skaičių: \"))\n",
    "    y = int(input(\"Įveskite antrąjį skaičių: \"))\n",
    "    rezultatas = x / y\n",
    "    print(\"Rezultatas:\", rezultatas)\n",
    "except ValueError:\n",
    "    print(\"Įvestas neteisingas skaičius\")\n",
    "except ZeroDivisionError:\n",
    "    print(\"Negalima dalinti iš nulio\")"
   ]
  }
 ],
 "metadata": {
  "kernelspec": {
   "display_name": "Python 3",
   "language": "python",
   "name": "python3"
  },
  "language_info": {
   "codemirror_mode": {
    "name": "ipython",
    "version": 3
   },
   "file_extension": ".py",
   "mimetype": "text/x-python",
   "name": "python",
   "nbconvert_exporter": "python",
   "pygments_lexer": "ipython3",
   "version": "3.12.1"
  }
 },
 "nbformat": 4,
 "nbformat_minor": 2
}
