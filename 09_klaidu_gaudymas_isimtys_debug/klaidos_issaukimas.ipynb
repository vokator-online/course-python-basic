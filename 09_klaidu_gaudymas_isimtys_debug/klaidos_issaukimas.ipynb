{
 "cells": [
  {
   "cell_type": "code",
   "execution_count": 3,
   "metadata": {},
   "outputs": [
    {
     "name": "stdout",
     "output_type": "stream",
     "text": [
      "Įvestas skaičius turi būti teigiamas.\n",
      "Įvestas skaičius turi būti teigiamas.\n",
      "Neteisinga įvestis. Įveskite skaičių.\n",
      "Jūsų įvestas skaičius: 25.0\n"
     ]
    }
   ],
   "source": [
    "while True:\n",
    "    try:\n",
    "        skaicius = float(input(\"Įveskite teigiamą skaičių: \"))\n",
    "        if skaicius > 0:\n",
    "            print(\"Jūsų įvestas skaičius:\", skaicius)\n",
    "            break\n",
    "        else:\n",
    "            print(\"Įvestas skaičius turi būti teigiamas.\")\n",
    "    except ValueError:\n",
    "        print(\"Neteisinga įvestis. Įveskite skaičių.\")\n"
   ]
  }
 ],
 "metadata": {
  "kernelspec": {
   "display_name": "Python 3",
   "language": "python",
   "name": "python3"
  },
  "language_info": {
   "codemirror_mode": {
    "name": "ipython",
    "version": 3
   },
   "file_extension": ".py",
   "mimetype": "text/x-python",
   "name": "python",
   "nbconvert_exporter": "python",
   "pygments_lexer": "ipython3",
   "version": "3.12.1"
  }
 },
 "nbformat": 4,
 "nbformat_minor": 2
}
